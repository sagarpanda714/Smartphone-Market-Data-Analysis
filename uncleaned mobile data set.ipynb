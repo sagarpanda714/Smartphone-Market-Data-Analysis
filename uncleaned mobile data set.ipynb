{
 "cells": [
  {
   "cell_type": "code",
   "execution_count": 1,
   "id": "7bb94a88-00fa-4dc1-a6ed-3a43a890f02a",
   "metadata": {},
   "outputs": [],
   "source": [
    "import pandas as pd\n",
    "import numpy as np\n",
    "import matplotlib.pyplot as plt\n",
    "import seaborn as sns"
   ]
  },
  {
   "cell_type": "markdown",
   "id": "401c75a9-4bb3-4fb5-a94d-5cba665dc94d",
   "metadata": {},
   "source": [
    "# Observation:- UnicodeDecodeError occurs when Python tries to read a file (like a CSV) and can't figure out how to convert the bytes in the file into readable text (Unicode).\n",
    "\n",
    "# This usually happens when:\n",
    "\n",
    "# The file contains special or non-English characters (like ₹, é, ç, etc.)"
   ]
  },
  {
   "cell_type": "code",
   "execution_count": 2,
   "id": "250f1157-9fc9-4d8b-b596-4f3c2ee61cbf",
   "metadata": {},
   "outputs": [
    {
     "data": {
      "text/html": [
       "<div>\n",
       "<style scoped>\n",
       "    .dataframe tbody tr th:only-of-type {\n",
       "        vertical-align: middle;\n",
       "    }\n",
       "\n",
       "    .dataframe tbody tr th {\n",
       "        vertical-align: top;\n",
       "    }\n",
       "\n",
       "    .dataframe thead th {\n",
       "        text-align: right;\n",
       "    }\n",
       "</style>\n",
       "<table border=\"1\" class=\"dataframe\">\n",
       "  <thead>\n",
       "    <tr style=\"text-align: right;\">\n",
       "      <th></th>\n",
       "      <th>Company Name</th>\n",
       "      <th>Model Name</th>\n",
       "      <th>Mobile Weight</th>\n",
       "      <th>RAM</th>\n",
       "      <th>Front Camera</th>\n",
       "      <th>Back Camera</th>\n",
       "      <th>Processor</th>\n",
       "      <th>Battery Capacity</th>\n",
       "      <th>Screen Size</th>\n",
       "      <th>Launched Price (Pakistan)</th>\n",
       "      <th>Launched Price (India)</th>\n",
       "      <th>Launched Price (China)</th>\n",
       "      <th>Launched Price (USA)</th>\n",
       "      <th>Launched Price (Dubai)</th>\n",
       "      <th>Launched Year</th>\n",
       "    </tr>\n",
       "  </thead>\n",
       "  <tbody>\n",
       "    <tr>\n",
       "      <th>0</th>\n",
       "      <td>Apple</td>\n",
       "      <td>iPhone 16 128GB</td>\n",
       "      <td>174g</td>\n",
       "      <td>6GB</td>\n",
       "      <td>12MP</td>\n",
       "      <td>48MP</td>\n",
       "      <td>A17 Bionic</td>\n",
       "      <td>3,600mAh</td>\n",
       "      <td>6.1 inches</td>\n",
       "      <td>PKR 224,999</td>\n",
       "      <td>INR 79,999</td>\n",
       "      <td>CNY 5,799</td>\n",
       "      <td>USD 799</td>\n",
       "      <td>AED 2,799</td>\n",
       "      <td>2024</td>\n",
       "    </tr>\n",
       "    <tr>\n",
       "      <th>1</th>\n",
       "      <td>Apple</td>\n",
       "      <td>iPhone 16 256GB</td>\n",
       "      <td>174g</td>\n",
       "      <td>6GB</td>\n",
       "      <td>12MP</td>\n",
       "      <td>48MP</td>\n",
       "      <td>A17 Bionic</td>\n",
       "      <td>3,600mAh</td>\n",
       "      <td>6.1 inches</td>\n",
       "      <td>PKR 234,999</td>\n",
       "      <td>INR 84,999</td>\n",
       "      <td>CNY 6,099</td>\n",
       "      <td>USD 849</td>\n",
       "      <td>AED 2,999</td>\n",
       "      <td>2024</td>\n",
       "    </tr>\n",
       "    <tr>\n",
       "      <th>2</th>\n",
       "      <td>Apple</td>\n",
       "      <td>iPhone 16 512GB</td>\n",
       "      <td>174g</td>\n",
       "      <td>6GB</td>\n",
       "      <td>12MP</td>\n",
       "      <td>48MP</td>\n",
       "      <td>A17 Bionic</td>\n",
       "      <td>3,600mAh</td>\n",
       "      <td>6.1 inches</td>\n",
       "      <td>PKR 244,999</td>\n",
       "      <td>INR 89,999</td>\n",
       "      <td>CNY 6,499</td>\n",
       "      <td>USD 899</td>\n",
       "      <td>AED 3,199</td>\n",
       "      <td>2024</td>\n",
       "    </tr>\n",
       "    <tr>\n",
       "      <th>3</th>\n",
       "      <td>Apple</td>\n",
       "      <td>iPhone 16 Plus 128GB</td>\n",
       "      <td>203g</td>\n",
       "      <td>6GB</td>\n",
       "      <td>12MP</td>\n",
       "      <td>48MP</td>\n",
       "      <td>A17 Bionic</td>\n",
       "      <td>4,200mAh</td>\n",
       "      <td>6.7 inches</td>\n",
       "      <td>PKR 249,999</td>\n",
       "      <td>INR 89,999</td>\n",
       "      <td>CNY 6,199</td>\n",
       "      <td>USD 899</td>\n",
       "      <td>AED 3,199</td>\n",
       "      <td>2024</td>\n",
       "    </tr>\n",
       "    <tr>\n",
       "      <th>4</th>\n",
       "      <td>Apple</td>\n",
       "      <td>iPhone 16 Plus 256GB</td>\n",
       "      <td>203g</td>\n",
       "      <td>6GB</td>\n",
       "      <td>12MP</td>\n",
       "      <td>48MP</td>\n",
       "      <td>A17 Bionic</td>\n",
       "      <td>4,200mAh</td>\n",
       "      <td>6.7 inches</td>\n",
       "      <td>PKR 259,999</td>\n",
       "      <td>INR 94,999</td>\n",
       "      <td>CNY 6,499</td>\n",
       "      <td>USD 949</td>\n",
       "      <td>AED 3,399</td>\n",
       "      <td>2024</td>\n",
       "    </tr>\n",
       "    <tr>\n",
       "      <th>...</th>\n",
       "      <td>...</td>\n",
       "      <td>...</td>\n",
       "      <td>...</td>\n",
       "      <td>...</td>\n",
       "      <td>...</td>\n",
       "      <td>...</td>\n",
       "      <td>...</td>\n",
       "      <td>...</td>\n",
       "      <td>...</td>\n",
       "      <td>...</td>\n",
       "      <td>...</td>\n",
       "      <td>...</td>\n",
       "      <td>...</td>\n",
       "      <td>...</td>\n",
       "      <td>...</td>\n",
       "    </tr>\n",
       "    <tr>\n",
       "      <th>925</th>\n",
       "      <td>Poco</td>\n",
       "      <td>Pad 5G 128GB</td>\n",
       "      <td>571g</td>\n",
       "      <td>8GB</td>\n",
       "      <td>8MP</td>\n",
       "      <td>8MP</td>\n",
       "      <td>Snapdragon 7s Gen 2</td>\n",
       "      <td>10,000mAh</td>\n",
       "      <td>12.1 inches</td>\n",
       "      <td>PKR 66,220</td>\n",
       "      <td>INR 23,999</td>\n",
       "      <td>CNY 2,099</td>\n",
       "      <td>USD 280</td>\n",
       "      <td>AED 1,029</td>\n",
       "      <td>2024</td>\n",
       "    </tr>\n",
       "    <tr>\n",
       "      <th>926</th>\n",
       "      <td>Poco</td>\n",
       "      <td>Pad 5G 256GB</td>\n",
       "      <td>571g</td>\n",
       "      <td>8GB</td>\n",
       "      <td>8MP</td>\n",
       "      <td>8MP</td>\n",
       "      <td>Snapdragon 7s Gen 2</td>\n",
       "      <td>10,000mAh</td>\n",
       "      <td>12.1 inches</td>\n",
       "      <td>PKR 71,220</td>\n",
       "      <td>INR 25,999</td>\n",
       "      <td>CNY 2,299</td>\n",
       "      <td>USD 300</td>\n",
       "      <td>AED 1,099</td>\n",
       "      <td>2024</td>\n",
       "    </tr>\n",
       "    <tr>\n",
       "      <th>927</th>\n",
       "      <td>Samsung</td>\n",
       "      <td>Galaxy Z Fold6 256GB</td>\n",
       "      <td>239g</td>\n",
       "      <td>12GB</td>\n",
       "      <td>10MP, 4MP (UDC)</td>\n",
       "      <td>50MP</td>\n",
       "      <td>Snapdragon 8 Gen 3</td>\n",
       "      <td>4400mAh</td>\n",
       "      <td>7.6 inches</td>\n",
       "      <td>PKR 604,999</td>\n",
       "      <td>INR 164,999</td>\n",
       "      <td>13,999</td>\n",
       "      <td>USD 1,899</td>\n",
       "      <td>AED 7,199</td>\n",
       "      <td>2024</td>\n",
       "    </tr>\n",
       "    <tr>\n",
       "      <th>928</th>\n",
       "      <td>Samsung</td>\n",
       "      <td>Galaxy Z Fold6 512GB</td>\n",
       "      <td>239g</td>\n",
       "      <td>12GB</td>\n",
       "      <td>10MP, 4MP (UDC)</td>\n",
       "      <td>50MP</td>\n",
       "      <td>Snapdragon 8 Gen 3</td>\n",
       "      <td>4400mAh</td>\n",
       "      <td>7.6 inches</td>\n",
       "      <td>PKR 544,999</td>\n",
       "      <td>INR 176,999</td>\n",
       "      <td>CNY 15,999</td>\n",
       "      <td>USD 1719</td>\n",
       "      <td>AED 7,699</td>\n",
       "      <td>2024</td>\n",
       "    </tr>\n",
       "    <tr>\n",
       "      <th>929</th>\n",
       "      <td>Samsung</td>\n",
       "      <td>Galaxy Z Fold6 1TB</td>\n",
       "      <td>239g</td>\n",
       "      <td>12GB</td>\n",
       "      <td>10MP, 4MP (UDC)</td>\n",
       "      <td>50MP</td>\n",
       "      <td>Snapdragon 8 Gen 3</td>\n",
       "      <td>4400mAh</td>\n",
       "      <td>7.6 inches</td>\n",
       "      <td>Not available</td>\n",
       "      <td>INR 200,999</td>\n",
       "      <td>CNY 17,999</td>\n",
       "      <td>USD 2,259</td>\n",
       "      <td>AED 8,699</td>\n",
       "      <td>2024</td>\n",
       "    </tr>\n",
       "  </tbody>\n",
       "</table>\n",
       "<p>930 rows × 15 columns</p>\n",
       "</div>"
      ],
      "text/plain": [
       "    Company Name            Model Name Mobile Weight   RAM     Front Camera  \\\n",
       "0          Apple       iPhone 16 128GB          174g   6GB             12MP   \n",
       "1          Apple       iPhone 16 256GB          174g   6GB             12MP   \n",
       "2          Apple       iPhone 16 512GB          174g   6GB             12MP   \n",
       "3          Apple  iPhone 16 Plus 128GB          203g   6GB             12MP   \n",
       "4          Apple  iPhone 16 Plus 256GB          203g   6GB             12MP   \n",
       "..           ...                   ...           ...   ...              ...   \n",
       "925         Poco          Pad 5G 128GB          571g   8GB              8MP   \n",
       "926         Poco          Pad 5G 256GB          571g   8GB              8MP   \n",
       "927      Samsung  Galaxy Z Fold6 256GB          239g  12GB  10MP, 4MP (UDC)   \n",
       "928      Samsung  Galaxy Z Fold6 512GB          239g  12GB  10MP, 4MP (UDC)   \n",
       "929      Samsung    Galaxy Z Fold6 1TB          239g  12GB  10MP, 4MP (UDC)   \n",
       "\n",
       "    Back Camera            Processor Battery Capacity  Screen Size  \\\n",
       "0          48MP           A17 Bionic         3,600mAh   6.1 inches   \n",
       "1          48MP           A17 Bionic         3,600mAh   6.1 inches   \n",
       "2          48MP           A17 Bionic         3,600mAh   6.1 inches   \n",
       "3          48MP           A17 Bionic         4,200mAh   6.7 inches   \n",
       "4          48MP           A17 Bionic         4,200mAh   6.7 inches   \n",
       "..          ...                  ...              ...          ...   \n",
       "925         8MP  Snapdragon 7s Gen 2        10,000mAh  12.1 inches   \n",
       "926         8MP  Snapdragon 7s Gen 2        10,000mAh  12.1 inches   \n",
       "927        50MP   Snapdragon 8 Gen 3          4400mAh   7.6 inches   \n",
       "928        50MP   Snapdragon 8 Gen 3          4400mAh   7.6 inches   \n",
       "929        50MP   Snapdragon 8 Gen 3          4400mAh   7.6 inches   \n",
       "\n",
       "    Launched Price (Pakistan) Launched Price (India) Launched Price (China)  \\\n",
       "0                 PKR 224,999             INR 79,999              CNY 5,799   \n",
       "1                 PKR 234,999             INR 84,999              CNY 6,099   \n",
       "2                 PKR 244,999             INR 89,999              CNY 6,499   \n",
       "3                 PKR 249,999             INR 89,999              CNY 6,199   \n",
       "4                 PKR 259,999             INR 94,999              CNY 6,499   \n",
       "..                        ...                    ...                    ...   \n",
       "925                PKR 66,220             INR 23,999              CNY 2,099   \n",
       "926                PKR 71,220             INR 25,999              CNY 2,299   \n",
       "927               PKR 604,999            INR 164,999                 13,999   \n",
       "928               PKR 544,999            INR 176,999             CNY 15,999   \n",
       "929             Not available            INR 200,999             CNY 17,999   \n",
       "\n",
       "    Launched Price (USA) Launched Price (Dubai)  Launched Year  \n",
       "0                USD 799              AED 2,799           2024  \n",
       "1                USD 849              AED 2,999           2024  \n",
       "2                USD 899              AED 3,199           2024  \n",
       "3                USD 899              AED 3,199           2024  \n",
       "4                USD 949              AED 3,399           2024  \n",
       "..                   ...                    ...            ...  \n",
       "925              USD 280              AED 1,029           2024  \n",
       "926              USD 300              AED 1,099           2024  \n",
       "927            USD 1,899              AED 7,199           2024  \n",
       "928             USD 1719              AED 7,699           2024  \n",
       "929            USD 2,259              AED 8,699           2024  \n",
       "\n",
       "[930 rows x 15 columns]"
      ]
     },
     "execution_count": 2,
     "metadata": {},
     "output_type": "execute_result"
    }
   ],
   "source": [
    "df = pd.read_csv(\"C:\\\\Users\\\\sagar panda\\\\OneDrive\\\\Desktop\\\\uncleaned mobile dataset project.csv\", encoding_errors='ignore')\n",
    "df"
   ]
  },
  {
   "cell_type": "code",
   "execution_count": 3,
   "id": "8ae6d6d9-f966-47c2-8bd2-e8f7106abdce",
   "metadata": {},
   "outputs": [
    {
     "data": {
      "text/plain": [
       "(930, 15)"
      ]
     },
     "execution_count": 3,
     "metadata": {},
     "output_type": "execute_result"
    }
   ],
   "source": [
    "df.shape"
   ]
  },
  {
   "cell_type": "markdown",
   "id": "d3ac9218-3c24-4e76-b92f-eba34cb84333",
   "metadata": {},
   "source": [
    "# Observation:- Total no.of rows=930 and Total no.of columns=15"
   ]
  },
  {
   "cell_type": "code",
   "execution_count": 4,
   "id": "0d57b369-b329-4384-abd4-259b4dec33b9",
   "metadata": {},
   "outputs": [
    {
     "name": "stdout",
     "output_type": "stream",
     "text": [
      "<class 'pandas.core.frame.DataFrame'>\n",
      "RangeIndex: 930 entries, 0 to 929\n",
      "Data columns (total 15 columns):\n",
      " #   Column                     Non-Null Count  Dtype \n",
      "---  ------                     --------------  ----- \n",
      " 0   Company Name               930 non-null    object\n",
      " 1   Model Name                 930 non-null    object\n",
      " 2   Mobile Weight              930 non-null    object\n",
      " 3   RAM                        930 non-null    object\n",
      " 4   Front Camera               930 non-null    object\n",
      " 5   Back Camera                930 non-null    object\n",
      " 6   Processor                  930 non-null    object\n",
      " 7   Battery Capacity           930 non-null    object\n",
      " 8   Screen Size                930 non-null    object\n",
      " 9   Launched Price (Pakistan)  930 non-null    object\n",
      " 10  Launched Price (India)     930 non-null    object\n",
      " 11  Launched Price (China)     930 non-null    object\n",
      " 12  Launched Price (USA)       930 non-null    object\n",
      " 13  Launched Price (Dubai)     930 non-null    object\n",
      " 14  Launched Year              930 non-null    int64 \n",
      "dtypes: int64(1), object(14)\n",
      "memory usage: 109.1+ KB\n"
     ]
    }
   ],
   "source": [
    "df.info()"
   ]
  },
  {
   "cell_type": "markdown",
   "id": "01830627-0dcc-4baf-81c2-e2092c05b84c",
   "metadata": {},
   "source": [
    "# Observation:- All column datatype is in string and 1 column(Launched Year) is in int data type"
   ]
  },
  {
   "cell_type": "code",
   "execution_count": 5,
   "id": "da54819c-0fbb-4dc7-a397-603a381f6021",
   "metadata": {},
   "outputs": [
    {
     "data": {
      "text/plain": [
       "Company Name                 0\n",
       "Model Name                   0\n",
       "Mobile Weight                0\n",
       "RAM                          0\n",
       "Front Camera                 0\n",
       "Back Camera                  0\n",
       "Processor                    0\n",
       "Battery Capacity             0\n",
       "Screen Size                  0\n",
       "Launched Price (Pakistan)    0\n",
       "Launched Price (India)       0\n",
       "Launched Price (China)       0\n",
       "Launched Price (USA)         0\n",
       "Launched Price (Dubai)       0\n",
       "Launched Year                0\n",
       "dtype: int64"
      ]
     },
     "execution_count": 5,
     "metadata": {},
     "output_type": "execute_result"
    }
   ],
   "source": [
    "df.isnull().sum()"
   ]
  },
  {
   "cell_type": "markdown",
   "id": "7d4c1337-9223-423f-b716-a913980b9e27",
   "metadata": {},
   "source": [
    "# Observation:- No null values in any column."
   ]
  },
  {
   "cell_type": "code",
   "execution_count": 6,
   "id": "7dba69bb-9500-4cfb-983f-ca647c497861",
   "metadata": {},
   "outputs": [
    {
     "data": {
      "text/plain": [
       "['Company Name',\n",
       " 'Model Name',\n",
       " 'Mobile Weight',\n",
       " 'RAM',\n",
       " 'Front Camera',\n",
       " 'Back Camera',\n",
       " 'Processor',\n",
       " 'Battery Capacity',\n",
       " 'Screen Size',\n",
       " 'Launched Price (Pakistan)',\n",
       " 'Launched Price (India)',\n",
       " 'Launched Price (China)',\n",
       " 'Launched Price (USA)',\n",
       " 'Launched Price (Dubai)',\n",
       " 'Launched Year']"
      ]
     },
     "execution_count": 6,
     "metadata": {},
     "output_type": "execute_result"
    }
   ],
   "source": [
    "df.columns.tolist()"
   ]
  },
  {
   "cell_type": "markdown",
   "id": "4beab76b-d291-4b29-908e-740d44cf7941",
   "metadata": {},
   "source": [
    "# Observation :- No need to use .strip() to remove whitespace in front and back of any column."
   ]
  },
  {
   "cell_type": "code",
   "execution_count": 7,
   "id": "ec416c1e-ca13-46c3-a477-72ebe3b93a96",
   "metadata": {},
   "outputs": [
    {
     "data": {
      "text/plain": [
       "array(['Apple', 'Samsung', 'OnePlus', 'Vivo', 'iQOO', 'Oppo', 'Realme',\n",
       "       'Xiaomi', 'Lenovo', 'Motorola', 'Huawei', 'Nokia', 'Sony',\n",
       "       'Google', 'Tecno', 'Infinix', 'Honor', 'POCO', 'Poco'],\n",
       "      dtype=object)"
      ]
     },
     "execution_count": 7,
     "metadata": {},
     "output_type": "execute_result"
    }
   ],
   "source": [
    "df[\"Company Name\"].unique()"
   ]
  },
  {
   "cell_type": "code",
   "execution_count": 8,
   "id": "662eafd0-3eb9-4754-8c3c-61ece3b53714",
   "metadata": {},
   "outputs": [
    {
     "data": {
      "text/plain": [
       "19"
      ]
     },
     "execution_count": 8,
     "metadata": {},
     "output_type": "execute_result"
    }
   ],
   "source": [
    "df[\"Company Name\"].nunique()"
   ]
  },
  {
   "cell_type": "markdown",
   "id": "7b9eebd7-78d3-4088-a826-5c3d0065f927",
   "metadata": {},
   "source": [
    "# Observation:- Total 19 unique company name are there"
   ]
  },
  {
   "cell_type": "code",
   "execution_count": 9,
   "id": "d8e983ef-000c-4298-9f86-85359566a8a4",
   "metadata": {},
   "outputs": [
    {
     "data": {
      "text/plain": [
       "Company Name\n",
       "Oppo        129\n",
       "Apple        97\n",
       "Honor        91\n",
       "Samsung      88\n",
       "Vivo         86\n",
       "Realme       69\n",
       "Motorola     62\n",
       "Infinix      56\n",
       "OnePlus      53\n",
       "Huawei       42\n",
       "Tecno        39\n",
       "POCO         30\n",
       "Xiaomi       27\n",
       "Google       21\n",
       "Lenovo       15\n",
       "Nokia        11\n",
       "Sony          9\n",
       "iQOO          3\n",
       "Poco          2\n",
       "Name: count, dtype: int64"
      ]
     },
     "execution_count": 9,
     "metadata": {},
     "output_type": "execute_result"
    }
   ],
   "source": [
    "df[\"Company Name\"].value_counts()"
   ]
  },
  {
   "cell_type": "markdown",
   "id": "311f8d78-c566-412b-ac2c-b1eef8755430",
   "metadata": {},
   "source": [
    "# Observation:- Here \"poco\"(only 2 values) have spelling mistake it should be \"POCO\" and \"POCO\" having (30 values)."
   ]
  },
  {
   "cell_type": "code",
   "execution_count": 10,
   "id": "734c7091-c030-4a1f-911d-c7562d9ad8d5",
   "metadata": {},
   "outputs": [
    {
     "data": {
      "text/html": [
       "<div>\n",
       "<style scoped>\n",
       "    .dataframe tbody tr th:only-of-type {\n",
       "        vertical-align: middle;\n",
       "    }\n",
       "\n",
       "    .dataframe tbody tr th {\n",
       "        vertical-align: top;\n",
       "    }\n",
       "\n",
       "    .dataframe thead th {\n",
       "        text-align: right;\n",
       "    }\n",
       "</style>\n",
       "<table border=\"1\" class=\"dataframe\">\n",
       "  <thead>\n",
       "    <tr style=\"text-align: right;\">\n",
       "      <th></th>\n",
       "      <th>Company Name</th>\n",
       "      <th>Model Name</th>\n",
       "      <th>Mobile Weight</th>\n",
       "      <th>RAM</th>\n",
       "      <th>Front Camera</th>\n",
       "      <th>Back Camera</th>\n",
       "      <th>Processor</th>\n",
       "      <th>Battery Capacity</th>\n",
       "      <th>Screen Size</th>\n",
       "      <th>Launched Price (Pakistan)</th>\n",
       "      <th>Launched Price (India)</th>\n",
       "      <th>Launched Price (China)</th>\n",
       "      <th>Launched Price (USA)</th>\n",
       "      <th>Launched Price (Dubai)</th>\n",
       "      <th>Launched Year</th>\n",
       "    </tr>\n",
       "  </thead>\n",
       "  <tbody>\n",
       "    <tr>\n",
       "      <th>925</th>\n",
       "      <td>Poco</td>\n",
       "      <td>Pad 5G 128GB</td>\n",
       "      <td>571g</td>\n",
       "      <td>8GB</td>\n",
       "      <td>8MP</td>\n",
       "      <td>8MP</td>\n",
       "      <td>Snapdragon 7s Gen 2</td>\n",
       "      <td>10,000mAh</td>\n",
       "      <td>12.1 inches</td>\n",
       "      <td>PKR 66,220</td>\n",
       "      <td>INR 23,999</td>\n",
       "      <td>CNY 2,099</td>\n",
       "      <td>USD 280</td>\n",
       "      <td>AED 1,029</td>\n",
       "      <td>2024</td>\n",
       "    </tr>\n",
       "    <tr>\n",
       "      <th>926</th>\n",
       "      <td>Poco</td>\n",
       "      <td>Pad 5G 256GB</td>\n",
       "      <td>571g</td>\n",
       "      <td>8GB</td>\n",
       "      <td>8MP</td>\n",
       "      <td>8MP</td>\n",
       "      <td>Snapdragon 7s Gen 2</td>\n",
       "      <td>10,000mAh</td>\n",
       "      <td>12.1 inches</td>\n",
       "      <td>PKR 71,220</td>\n",
       "      <td>INR 25,999</td>\n",
       "      <td>CNY 2,299</td>\n",
       "      <td>USD 300</td>\n",
       "      <td>AED 1,099</td>\n",
       "      <td>2024</td>\n",
       "    </tr>\n",
       "  </tbody>\n",
       "</table>\n",
       "</div>"
      ],
      "text/plain": [
       "    Company Name    Model Name Mobile Weight  RAM Front Camera Back Camera  \\\n",
       "925         Poco  Pad 5G 128GB          571g  8GB          8MP         8MP   \n",
       "926         Poco  Pad 5G 256GB          571g  8GB          8MP         8MP   \n",
       "\n",
       "               Processor Battery Capacity  Screen Size  \\\n",
       "925  Snapdragon 7s Gen 2        10,000mAh  12.1 inches   \n",
       "926  Snapdragon 7s Gen 2        10,000mAh  12.1 inches   \n",
       "\n",
       "    Launched Price (Pakistan) Launched Price (India) Launched Price (China)  \\\n",
       "925                PKR 66,220             INR 23,999              CNY 2,099   \n",
       "926                PKR 71,220             INR 25,999              CNY 2,299   \n",
       "\n",
       "    Launched Price (USA) Launched Price (Dubai)  Launched Year  \n",
       "925              USD 280              AED 1,029           2024  \n",
       "926              USD 300              AED 1,099           2024  "
      ]
     },
     "execution_count": 10,
     "metadata": {},
     "output_type": "execute_result"
    }
   ],
   "source": [
    "df[df[\"Company Name\"]==\"Poco\"]"
   ]
  },
  {
   "cell_type": "markdown",
   "id": "8dd82cbe-72fe-4fe4-b1e0-a18c6c9d506e",
   "metadata": {},
   "source": [
    "# Observation:- To check the index number of company name having \"Poco\" value which is [[925,926]:0]"
   ]
  },
  {
   "cell_type": "code",
   "execution_count": 11,
   "id": "9f7dad0b-784c-490b-b752-b9e7ee697277",
   "metadata": {},
   "outputs": [],
   "source": [
    "df.iloc[[925,926],0]=[\"POCO\",\"POCO\"]"
   ]
  },
  {
   "cell_type": "markdown",
   "id": "193ae06d-200d-4736-bfc2-55e8270b92c8",
   "metadata": {},
   "source": [
    "# Observation:- Replace the Poco by POCO"
   ]
  },
  {
   "cell_type": "code",
   "execution_count": 12,
   "id": "838091fa-b431-42fc-a282-c7a2785cd8f9",
   "metadata": {},
   "outputs": [
    {
     "data": {
      "text/plain": [
       "0    Oppo\n",
       "Name: Company Name, dtype: object"
      ]
     },
     "execution_count": 12,
     "metadata": {},
     "output_type": "execute_result"
    }
   ],
   "source": [
    "df[\"Company Name\"].mode()"
   ]
  },
  {
   "cell_type": "markdown",
   "id": "3593142c-f0b7-4ae2-b8f6-2572cc4af695",
   "metadata": {},
   "source": [
    "# Observation:- Maximum mobile are from oppo"
   ]
  },
  {
   "cell_type": "code",
   "execution_count": 13,
   "id": "c9d4fc74-13f5-41e3-9882-713ed0e113ad",
   "metadata": {},
   "outputs": [
    {
     "data": {
      "text/plain": [
       "count      930\n",
       "unique      18\n",
       "top       Oppo\n",
       "freq       129\n",
       "Name: Company Name, dtype: object"
      ]
     },
     "execution_count": 13,
     "metadata": {},
     "output_type": "execute_result"
    }
   ],
   "source": [
    "df[\"Company Name\"].describe()"
   ]
  },
  {
   "cell_type": "code",
   "execution_count": 14,
   "id": "de5db2d7-7ae3-42eb-b17a-041f712bb6c1",
   "metadata": {},
   "outputs": [
    {
     "data": {
      "text/plain": [
       "array(['iPhone 16 128GB', 'iPhone 16 256GB', 'iPhone 16 512GB',\n",
       "       'iPhone 16 Plus 128GB', 'iPhone 16 Plus 256GB',\n",
       "       'iPhone 16 Plus 512GB', 'iPhone 16 Pro 128GB',\n",
       "       'iPhone 16 Pro 256GB', 'iPhone 16 Pro 512GB',\n",
       "       'iPhone 16 Pro Max 128GB', 'iPhone 16 Pro Max 256GB',\n",
       "       'iPhone 16 Pro Max 512GB', 'iPhone 15 128GB', 'iPhone 15 256GB',\n",
       "       'iPhone 15 512GB', 'iPhone 15 Plus 128GB', 'iPhone 15 Plus 256GB',\n",
       "       'iPhone 15 Plus 512GB', 'iPhone 15 Pro 128GB',\n",
       "       'iPhone 15 Pro 256GB', 'iPhone 15 Pro 512GB',\n",
       "       'iPhone 15 Pro Max 128GB', 'iPhone 15 Pro Max 256GB',\n",
       "       'iPhone 15 Pro Max 512GB', 'iPhone 14 128GB', 'iPhone 14 256GB',\n",
       "       'iPhone 14 512GB', 'iPhone 14 Plus 128GB', 'iPhone 14 Plus 256GB',\n",
       "       'iPhone 14 Plus 512GB', 'iPhone 14 Pro 128GB',\n",
       "       'iPhone 14 Pro 256GB', 'iPhone 14 Pro 512GB',\n",
       "       'iPhone 14 Pro Max 128GB', 'iPhone 14 Pro Max 256GB',\n",
       "       'iPhone 14 Pro Max 512GB', 'iPhone 13 mini 128GB',\n",
       "       'iPhone 13 mini 256GB', 'iPhone 13 mini 512GB', 'iPhone 13 128GB',\n",
       "       'iPhone 13 256GB', 'iPhone 13 512GB', 'iPhone 13 Pro 128GB',\n",
       "       'iPhone 13 Pro 256GB', 'iPhone 13 Pro 512GB',\n",
       "       'iPhone 13 Pro Max 128GB', 'iPhone 13 Pro Max 256GB',\n",
       "       'iPhone 13 Pro Max 512GB', 'iPhone 12 mini 64GB',\n",
       "       'iPhone 12 mini 128GB', 'iPhone 12 mini 256GB', 'iPhone 12 64GB',\n",
       "       'iPhone 12 128GB', 'iPhone 12 256GB', 'iPhone 12 Pro 128GB',\n",
       "       'iPhone 12 Pro 256GB', 'iPhone 12 Pro 512GB',\n",
       "       'iPhone 12 Pro Max 128GB', 'iPhone 12 Pro Max 256GB',\n",
       "       'iPhone 12 Pro Max 512GB', 'iPhone 11 64GB', 'iPhone 11 128GB',\n",
       "       'iPhone 11 256GB', 'iPhone 11 Pro 64GB', 'iPhone 11 Pro 256GB',\n",
       "       'iPhone 11 Pro 512GB', 'iPhone 11 Pro Max 64GB',\n",
       "       'iPhone 11 Pro Max 256GB', 'iPhone 11 Pro Max 512GB',\n",
       "       'iPhone X 64GB', 'iPhone X 256GB', 'iPhone XS 64GB',\n",
       "       'iPhone XS 256GB', 'iPhone XS 512GB', 'iPhone XS Max 64GB',\n",
       "       'iPhone XS Max 256GB', 'iPhone XS Max 512GB', 'iPhone XR 64GB',\n",
       "       'iPhone XR 128GB', 'iPhone XR 256GB', 'iPad Air 10.9-inch 64GB',\n",
       "       'iPad Air 10.9-inch 256GB', 'iPad 10.2-inch 32GB',\n",
       "       'iPad 10.2-inch 128GB', 'iPad Mini 7.9-inch 64GB',\n",
       "       'iPad Mini 7.9-inch 256GB', 'iPad Pro 11-inch 128GB',\n",
       "       'iPad Pro 11-inch 256GB', 'iPad Pro 11-inch 512GB',\n",
       "       'iPad Pro 12.9-inch 128GB', 'iPad Pro 12.9-inch 256GB',\n",
       "       'iPad Pro 12.9-inch 512GB', 'iPad Pro 13-inch 128GB',\n",
       "       'iPad Pro 13-inch 256GB', 'iPad Pro 13-inch 512GB',\n",
       "       'iPad Pro 13-inch 1TB', 'iPad Pro 13-inch 2TB',\n",
       "       'Galaxy S24 Ultra 128GB', 'Galaxy S24 Ultra 256GB',\n",
       "       'Galaxy S24+ 128GB', 'Galaxy S24+ 256GB', 'Galaxy S24 128GB',\n",
       "       'Galaxy S24 256GB', 'Galaxy S23 Ultra 128GB',\n",
       "       'Galaxy S23 Ultra 256GB', 'Galaxy S23+ 128GB', 'Galaxy S23+ 256GB',\n",
       "       'Galaxy S23 128GB', 'Galaxy S23 256GB', 'Galaxy S22 Ultra 128GB',\n",
       "       'Galaxy S22 Ultra 256GB', 'Galaxy S22+ 128GB', 'Galaxy S22+ 256GB',\n",
       "       'Galaxy S22 128GB', 'Galaxy S22 256GB', 'Galaxy Z Fold 5 256GB',\n",
       "       'Galaxy Z Fold 5 512GB', 'Galaxy Z Flip 5 256GB',\n",
       "       'Galaxy Z Flip 5 512GB', 'Galaxy Z Fold 4 256GB',\n",
       "       'Galaxy Z Fold 4 512GB', 'Galaxy Z Flip 4 256GB',\n",
       "       'Galaxy Z Flip 4 512GB', 'Galaxy A54 128GB', 'Galaxy A54 256GB',\n",
       "       'Galaxy A34 128GB', 'Galaxy A34 256GB', 'Galaxy A24 128GB',\n",
       "       'Galaxy A24 256GB', 'Galaxy A14 128GB', 'Galaxy A14 256GB',\n",
       "       'Galaxy A04 64GB', 'Galaxy A04 128GB', 'Galaxy M54 128GB',\n",
       "       'Galaxy M54 256GB', 'Galaxy M34 128GB', 'Galaxy M34 256GB',\n",
       "       'Galaxy M14 128GB', 'Galaxy M14 256GB', 'Galaxy M04 64GB',\n",
       "       'Galaxy M04 128GB', 'Galaxy F54 128GB', 'Galaxy F54 256GB',\n",
       "       'Galaxy F34 128GB', 'Galaxy F34 256GB', 'Galaxy F14 128GB',\n",
       "       'Galaxy F14 256GB', 'Galaxy Note 20 Ultra 128GB',\n",
       "       'Galaxy Note 20 Ultra 256GB', 'Galaxy Note 20 128GB',\n",
       "       'Galaxy Note 20 256GB', 'Galaxy Note 10+ 256GB',\n",
       "       'Galaxy Note 10+ 512GB', 'Galaxy Note 10 256GB',\n",
       "       'Galaxy Note 10 128GB', 'Galaxy Xcover 6 Pro 128GB',\n",
       "       'Galaxy Xcover 5 64GB', 'Galaxy J8 64GB', 'Galaxy J7 Pro 64GB',\n",
       "       'Galaxy J6+ 64GB', 'Galaxy J4 16GB', 'Galaxy C9 Pro 64GB',\n",
       "       'Galaxy C7 Pro 64GB', 'Galaxy C5 32GB', 'Galaxy W22 5G 256GB',\n",
       "       'Galaxy W21 5G 256GB', 'Galaxy Tab S9 Ultra 256GB',\n",
       "       'Galaxy Tab S9+ 256GB', 'Galaxy Tab S9 128GB',\n",
       "       'Galaxy Tab S9 FE 128GB', 'Galaxy Tab S8 Ultra 256GB',\n",
       "       'Galaxy Tab S8+ 256GB', 'Galaxy Tab S8 128GB',\n",
       "       'Galaxy Tab A9+ 128GB', 'Galaxy Tab A9 64GB', 'Galaxy Tab A8 64GB',\n",
       "       'Galaxy Tab A7 Lite 32GB', 'Galaxy Tab Active 5 128GB',\n",
       "       'Galaxy Tab Active 4 Pro 128GB', 'Galaxy Tab Active 3 64GB',\n",
       "       'Galaxy Tab E 10.1 16GB', 'Galaxy Tab E 8.0 16GB',\n",
       "       'OnePlus 12 256GB', 'OnePlus 12R 256GB', 'OnePlus 11 256GB',\n",
       "       'OnePlus 11R 256GB', 'OnePlus Nord 3 256GB',\n",
       "       'OnePlus Nord CE 3 128GB', 'OnePlus Nord CE 3 Lite 128GB',\n",
       "       'OnePlus Nord N30 5G 128GB', 'OnePlus Open 256GB',\n",
       "       'OnePlus 10 Pro 256GB', 'OnePlus 10T 256GB', 'OnePlus 9 Pro 256GB',\n",
       "       'OnePlus 9 128GB', 'OnePlus 11 Pro 256GB', 'OnePlus Nord 2T 128GB',\n",
       "       'OnePlus Nord 2 128GB', 'OnePlus Nord N200 64GB',\n",
       "       'OnePlus Nord N100 64GB',\n",
       "       'OnePlus 8T Cyberpunk 2077 Edition 256GB', 'OnePlus 9T 128GB',\n",
       "       'OnePlus 8T 256GB', 'OnePlus 10T 5G 256GB', 'OnePlus 9R 5G 128GB',\n",
       "       'OnePlus 8 Pro 256GB', 'OnePlus 8 128GB',\n",
       "       'OnePlus Nord CE 2 Lite 128GB', 'OnePlus Nord CE 2 128GB',\n",
       "       'OnePlus Nord 1 128GB', 'OnePlus Nord CE 5G 128GB',\n",
       "       'OnePlus Nord 2 5G 128GB', 'OnePlus Nord N100 5G 64GB',\n",
       "       'OnePlus Nord N10 5G 128GB', 'OnePlus 8R 128GB',\n",
       "       'OnePlus 7R 128GB', 'OnePlus 6T McLaren Edition 256GB',\n",
       "       'OnePlus 5T Star Wars Edition 128GB', 'OnePlus 13R 128GB',\n",
       "       'OnePlus 11T 128GB', 'OnePlus 10R 128GB', 'OnePlus 7 Pro 5G 256GB',\n",
       "       'OnePlus 6 Special Edition 128GB',\n",
       "       'OnePlus 5 Special Edition 128GB', 'OnePlus Nord X 128GB',\n",
       "       'OnePlus 8 Pro McLaren Edition 256GB',\n",
       "       'OnePlus 8T Cyberpunk Edition 256GB',\n",
       "       'OnePlus 7T Pro 5G McLaren Edition 256GB', 'OnePlus 15R 128GB',\n",
       "       'OnePlus 14+ 128GB', 'OnePlus 13 Pro 256GB',\n",
       "       'OnePlus 12T 5G 256GB', 'OnePlus Pad', 'OnePlus Pad 2',\n",
       "       'OnePlus Pad Pro', 'X200 128GB', 'X200 256GB', 'X200 Pro 256GB',\n",
       "       'X200 Pro 512GB', 'X200 Pro Mini 256GB', 'V40e 128GB',\n",
       "       'Y200 GT 128GB', 'T3 5G 128GB', 'Y100 5G 128GB', 'S18 Pro 256GB',\n",
       "       'V30 Pro 128GB', 'iQOO 12 256GB', 'Z3 64GB', 'V9 64GB',\n",
       "       'X9 Plus 128GB', 'Y81 32GB', 'X5Max 16GB', 'V5 Plus 64GB',\n",
       "       'Y95 64GB', 'V3 Max 32GB', 'X3S 16GB', 'Y66 32GB', 'V19 128GB',\n",
       "       'V19 256GB', 'V17 Pro 128GB', 'V17 Pro 256GB', 'Y12s 64GB',\n",
       "       'Y12s 128GB', 'S1 Pro 128GB', 'S1 Pro 256GB', 'Y11 32GB',\n",
       "       'Y11 64GB', 'V15 128GB', 'V15 256GB', 'X27 Pro 128GB',\n",
       "       'X27 Pro 256GB', 'Y30 128GB', 'Y30 64GB', 'Z1 Pro 64GB',\n",
       "       'Z1 Pro 128GB', 'X21 128GB', 'X21 64GB', 'V23e 128GB',\n",
       "       'V23e 256GB', 'Y33s 128GB', 'Y33s 64GB', 'X60 Pro 256GB',\n",
       "       'X60 Pro 512GB', 'V20 Pro 128GB', 'V20 Pro 256GB', 'Y75 5G 128GB',\n",
       "       'Y75 5G 256GB', 'Y53s 128GB', 'Y53s 64GB', 'V15 Pro 128GB',\n",
       "       'V15 Pro 256GB', 'X70 Pro 128GB', 'X70 Pro 256GB', 'T1 5G 128GB',\n",
       "       'T1 5G 256GB', 'X30 Pro 128GB', 'X30 Pro 256GB', 'V27 128GB',\n",
       "       'V27 256GB', 'V27 Pro 128GB', 'V27 Pro 256GB', 'V25 Pro 128GB',\n",
       "       'V25 Pro 256GB', 'X90 Pro 256GB', 'X90 Pro 512GB', 'Y100 128GB',\n",
       "       'Y100 256GB', 'T2 Series 128GB', 'T2 Series 256GB', 'V23 5G 128GB',\n",
       "       'V23 5G 256GB', 'X80 256GB', 'X80 512GB', 'Y21 128GB', 'Y21 64GB',\n",
       "       'Pad 128GB', 'Pad 2 256GB', 'Pad Air 128GB', 'Pad 3 128GB',\n",
       "       'Pad 3 Pro 256GB', 'Pad 4 Pro 256GB', 'Pad 2 Pro 256GB',\n",
       "       'Find N3 512GB', 'Find N3 Flip 256GB', 'Find X8 Pro 256GB',\n",
       "       'Find X8 256GB', 'Reno13 F 4G 256GB', 'Reno13 F 256GB',\n",
       "       'Reno13 Pro 512GB', 'Reno13 256GB', 'Reno12 F 4G 256GB',\n",
       "       'Reno12 F 256GB', 'Reno12 Pro 512GB', 'Reno12 256GB',\n",
       "       'Reno11 F 256GB', 'Reno11 Pro 512GB', 'A5 Pro 256GB',\n",
       "       'A5 Pro 512GB', 'A80 256GB', 'A3 4G 128GB', 'A3x 4G 128GB',\n",
       "       'A3x 4G 256GB', 'A3 128GB', 'A3x 128GB', 'A3x 256GB', 'A60 128GB',\n",
       "       'A60 256GB', 'K12 Plus 256GB', 'K12 Plus 512GB', 'F27 128GB',\n",
       "       'F27 256GB', 'F27 Pro+ 256GB', 'F27 Pro+ 512GB', 'F25 Pro 128GB',\n",
       "       'F25 Pro 256GB', 'Pad 3 256GB', 'Pad 3 Pro 512GB', 'Pad Neo 128GB',\n",
       "       'Pad Neo 256GB', 'Find X7 Ultra 256GB', 'Find X7 Ultra 512GB',\n",
       "       'Find X7 256GB', 'Find X7 512GB', 'Find X6 Pro 256GB',\n",
       "       'Find X6 Pro 512GB', 'Find X6 256GB', 'Find X6 512GB',\n",
       "       'Find X5 Pro 256GB', 'Find X5 Pro 512GB', 'Find X5 256GB',\n",
       "       'Find N2 Flip 256GB', 'Find N2 Flip 512GB', 'Find N2 256GB',\n",
       "       'Reno10 5G 128GB', 'Reno10 5G 256GB', 'Reno10 Pro 5G 256GB',\n",
       "       'Reno10 Pro+ 5G 256GB', 'Reno9 5G 128GB', 'Reno9 5G 256GB',\n",
       "       'Reno9 Pro 5G 256GB', 'Reno9 Pro+ 5G 256GB', 'Reno8 5G 128GB',\n",
       "       'Reno8 5G 256GB', 'Reno8 Pro 5G 256GB', 'Reno8 Pro+ 5G 256GB',\n",
       "       'Reno7 5G 128GB', 'Reno7 5G 256GB', 'Reno7 Pro 5G 256GB',\n",
       "       'Reno6 5G 128GB', 'Reno6 5G 256GB', 'Reno6 Pro 5G 128GB',\n",
       "       'Reno6 Pro 5G 256GB', 'Reno6 Pro+ 5G 256GB', 'Reno5 5G 128GB',\n",
       "       'Reno5 5G 256GB', 'Reno5 Pro 5G 128GB', 'Reno5 Pro 5G 256GB',\n",
       "       'Reno5 Pro+ 5G 256GB', 'Reno4 5G 128GB', 'Reno4 5G 256GB',\n",
       "       'Reno4 Pro 5G 256GB', 'Reno3 5G 128GB', 'Reno3 5G 256GB',\n",
       "       'Reno3 Pro 5G 256GB', 'A59 5G 128GB', 'A59 5G 256GB',\n",
       "       'A58 5G 256GB', 'A57 5G 128GB', 'A56 5G 128GB', 'A55 5G 128GB',\n",
       "       'A54 5G 128GB', 'A53 5G 128GB', 'A52 5G 128GB', 'A51 5G 128GB',\n",
       "       'A50 5G 128GB', 'A49 5G 128GB', 'A40 128GB', 'A40 256GB',\n",
       "       'K11x 128GB', 'K11x 256GB', 'K10x 128GB', 'K10x 256GB',\n",
       "       'K10 5G 128GB', 'K9x 128GB', 'K9x 256GB', 'K9 Pro 5G 128GB',\n",
       "       'K9 Pro 5G 256GB', 'K9 5G 128GB', 'K9 5G 256GB', 'K7x 128GB',\n",
       "       'K7 5G 128GB', 'K7 5G 256GB', 'K11 128GB', 'K11 256GB',\n",
       "       'K10 5G 256GB', 'GT 7 Pro 128GB', 'GT 7 Pro 256GB', 'GT 6 128GB',\n",
       "       'GT 6 256GB', 'GT 6 512GB', 'GT 6T 128GB', 'GT 6T 256GB',\n",
       "       '14 Pro+ 5G 256GB', '14 Pro+ 5G 512GB', '14 Pro 5G 128GB',\n",
       "       '14 Pro 5G 256GB', '14x 5G 128GB', '14x 5G 256GB', '13+ 5G 128GB',\n",
       "       '13+ 5G 256GB', '13 5G 128GB', '13 5G 256GB', '13 Pro 5G 128GB',\n",
       "       '13 Pro 5G 256GB', '13 Pro+ 5G 256GB', '13 Pro+ 5G 512GB',\n",
       "       'P1 Speed 5G 128GB', 'P1 Speed 5G 256GB', 'P2 Pro 5G 256GB',\n",
       "       'P2 Pro 5G 512GB', 'P1 5G 128GB', 'P1 5G 256GB', 'P1 Pro 5G 128GB',\n",
       "       'P1 Pro 5G 256GB', 'Narzo 70 Turbo 5G 128GB',\n",
       "       'Narzo 70 Turbo 5G 256GB', 'Narzo N61 128GB', 'Narzo N63 128GB',\n",
       "       'Narzo N65 5G 128GB', 'Narzo 70 5G 128GB', 'C75 128GB',\n",
       "       'C75 256GB', 'C61 128GB', 'C67 128GB', 'C67 256GB', 'C65 128GB',\n",
       "       'C65 256GB', 'C63 128GB', 'C55 128GB', 'C55 256GB',\n",
       "       'Note 60x 128GB', 'Note 60 128GB', 'Note 60 256GB',\n",
       "       'Note 50 128GB', 'GT 7 128GB', 'GT 7 256GB', 'Neo 7 128GB',\n",
       "       'Neo 7 256GB', 'P2 Pro 5G 128GB', 'Pad 64GB', 'Pad 2 128GB',\n",
       "       'Pad 2 Lite 64GB', 'Pad 2 Lite 128GB', 'Pad X 64GB', 'Pad X 128GB',\n",
       "       'Pad Mini 32GB', 'Pad Mini 64GB', 'Pad Slim 64GB',\n",
       "       'Pad Slim 128GB', 'TechLife Pad Neo 64GB',\n",
       "       'TechLife Pad Neo 128GB', 'Xiaomi 15 Pro 256GB',\n",
       "       'Xiaomi 15 Pro 512GB', 'Xiaomi 15 Pro 1TB', 'Xiaomi 15 256GB',\n",
       "       'Xiaomi 15 512GB', 'Xiaomi 14T Pro 256GB', 'Xiaomi 14T Pro 512GB',\n",
       "       'Xiaomi 14T Pro 1TB', 'Xiaomi 14T 256GB', 'Xiaomi 14T 512GB',\n",
       "       'Xiaomi 14 Pro 256GB', 'Xiaomi 14 Pro 512GB', 'Xiaomi 14 256GB',\n",
       "       'Xiaomi 14 512GB', 'Redmi Note 14 Pro+ 5G 128GB',\n",
       "       'Redmi Note 14 Pro+ 5G 256GB', 'Redmi Note 14 Pro+ 5G 512GB',\n",
       "       'Redmi Note 14 Pro 5G 128GB', 'Redmi Note 14 Pro 5G 256GB',\n",
       "       'Redmi Note 14 Pro 4G 128GB', 'Redmi Note 14 Pro 4G 256GB',\n",
       "       'Redmi Note 14 5G 128GB', 'Redmi Note 14 5G 256GB',\n",
       "       'Redmi Note 14 4G 128GB', 'Redmi Note 14 4G 256GB',\n",
       "       'Redmi 14C 5G 64GB', 'Redmi 14C 5G 128GB', 'Legion Y70 128GB',\n",
       "       'Legion Y70 256GB', 'Legion Y70 512GB', 'K14 Plus 64GB',\n",
       "       'K14 Plus 128GB', 'K13 Pro 128GB', 'K13 32GB', 'K13 Note 64GB',\n",
       "       'K10 Plus 64GB', 'A6 Note 32GB', 'K10 Note 64GB', 'K10 Note 128GB',\n",
       "       'Z6 Pro 128GB', 'Z6 Pro 256GB', 'Z5 Pro 64GB',\n",
       "       'Edge 50 Fusion 128GB', 'Edge 50 Fusion 256GB',\n",
       "       'Edge 50 Pro 128GB', 'Edge 50 Pro 256GB', 'Razr 128GB',\n",
       "       'Razr 256GB', 'G84 5G 128GB', 'G84 5G 256GB', 'Moto G Stylus 64GB',\n",
       "       'Moto G Stylus 128GB', 'One Vision 3 128GB', 'One Vision 3 256GB',\n",
       "       'Edge 50 Lite 128GB', 'Edge 50 Lite 256GB', 'Moto E40 Plus 64GB',\n",
       "       'Moto E40 Plus 128GB', 'Moto G Power 64GB', 'Moto G Power 128GB',\n",
       "       'Moto G Play 32GB', 'Moto G Play 64GB', 'Moto G75 5G 128GB',\n",
       "       'Moto G75 5G 256GB', 'Moto S50 128GB', 'Moto S50 256GB',\n",
       "       'Edge 50 Neo 256GB', 'Edge 50 Neo 512GB', 'Moto G55 128GB',\n",
       "       'Moto G55 256GB', 'Moto G35 128GB', 'Moto G35 256GB',\n",
       "       'Moto G45 128GB', 'Moto G45 256GB', 'Edge 50 256GB',\n",
       "       'Edge 50 512GB', 'Razr 50 Ultra 512GB', 'Razr 50 256GB',\n",
       "       'Moto G85 128GB', 'Moto G85 256GB', 'S50 Neo 256GB',\n",
       "       'S50 Neo 512GB', 'Moto E14 64GB', 'Moto E14 128GB', 'Edge 256GB',\n",
       "       'Edge 512GB', 'Moto X50 Ultra 512GB', 'Moto G Stylus 5G 256GB',\n",
       "       'Moto G Stylus 5G 512GB', 'Edge 50 Ultra 512GB',\n",
       "       'Edge 30 Fusion 128GB', 'Edge 30 Fusion 256GB',\n",
       "       'Edge 30 Neo 128GB', 'Edge 30 Neo 256GB', 'Moto G82 5G 128GB',\n",
       "       'Moto G82 5G 256GB', 'Moto G62 5G 128GB', 'Moto G62 5G 256GB',\n",
       "       'Moto G42 128GB', 'Moto G32 128GB', 'Moto E32s 64GB',\n",
       "       'Moto E22i 32GB', 'Moto E22 64GB', 'Moto G22 64GB', 'P50',\n",
       "       'P50 Pro', 'P50 Pocket', 'Mate 40E', 'Mate X2', 'Nova 9',\n",
       "       'Nova 9 Pro', 'P50E', 'Mate Xs 2', 'Mate 50', 'Mate 50 Pro',\n",
       "       'Nova 10', 'Nova 10 Pro', 'Nova 10 SE', 'P60', 'P60 Pro',\n",
       "       'P60 Art', 'Mate X3', 'Mate 60', 'Mate 60 Pro', 'Mate 60 Pro+',\n",
       "       'Nova 11', 'Nova 11 Pro', 'Nova 11 Ultra', 'Pura 70',\n",
       "       'Pura 70 Pro', 'Pura 70 Pro+', 'Pura 70 Ultra', 'Mate 70',\n",
       "       'Mate 70 Pro', 'Mate 70 Pro+', 'Mate X6', 'Nova 12', 'Nova 12 Pro',\n",
       "       'Mate XT 256GB', 'Mate XT 512GB', 'Nova 13 256GB', 'Nova 13 512GB',\n",
       "       'Nova 13 Pro 256GB', 'Nova 13 Pro 512GB', 'G42 5G 128GB',\n",
       "       'G20 64GB', 'G20 128GB', 'C32 64GB', 'C32 128GB', 'G21 64GB',\n",
       "       'G21 128GB', 'C22 64GB', 'C22 128GB', 'G400 128GB',\n",
       "       'Xperia 1 IV 256GB', 'Xperia 5 IV 128GB', 'Xperia 10 IV 128GB',\n",
       "       'Xperia 1 V 256GB', 'Xperia 5 V 128GB', 'Xperia 10 V 128GB',\n",
       "       'Xperia 1 VI 256GB', 'Xperia 5 VI 128GB', 'Xperia 10 VI 128GB',\n",
       "       'T21', 'MatePad Pro 12.2 512GB', 'MatePad Pro 13.2 512GB',\n",
       "       'Pixel 3a 64GB', 'Pixel 3a XL 64GB', 'Pixel 4 64GB',\n",
       "       'Pixel 4 XL 64GB', 'Pixel 4a 128GB', 'Pixel 4a 5G 128GB',\n",
       "       'Pixel 5 128GB', 'Pixel 5a 128GB', 'Pixel 6 128GB',\n",
       "       'Pixel 6 Pro 256GB', 'Pixel 6a 128GB', 'Pixel 7 128GB',\n",
       "       'Pixel 7 Pro 256GB', 'Pixel 7a 128GB', 'Pixel 8 128GB',\n",
       "       'Pixel 8 Pro 256GB', 'Pixel 8a 128GB', 'Pixel 9 128GB',\n",
       "       'Pixel 9 Pro 256GB', 'Pixel 9 Pro XL 512GB',\n",
       "       'Pixel 9 Pro Fold 512GB', 'Spark Go 1S 64GB', 'Megapad 11 256GB',\n",
       "       'Pop 9 4G 64GB', 'Megapad 128GB', 'Camon 30S 256GB',\n",
       "       'Spark 30C 5G 128GB', 'Spark 30 5G 128GB', 'Pop 9 64GB',\n",
       "       'Spark 30 Pro 256GB', 'Spark 30 128GB', 'Phantom V Fold2 512GB',\n",
       "       'Phantom V Flip2 256GB', 'Pova 6 Neo 5G 256GB', 'Spark 30C 128GB',\n",
       "       'Spark Go 1 64GB', 'Camon 30S Pro 512GB', 'Spark 20P 128GB',\n",
       "       'Spark 20 Pro 5G 256GB', 'Pova 6 Neo 256GB',\n",
       "       'Camon 30 Premier 512GB', 'Camon 30 Pro 512GB',\n",
       "       'Camon 30 5G 256GB', 'Camon 30 128GB', 'Pova 6 Pro 512GB',\n",
       "       'Spark 20 Pro+ 256GB', 'Spark 20 Pro 128GB', 'Spark 20 128GB',\n",
       "       'Spark 20C 128GB', 'Spark Go 2024 64GB', 'Pop 8 64GB',\n",
       "       'Camon 20s Pro 5G 512GB', 'Camon 20s Pro 256GB', 'Camon 20s 256GB',\n",
       "       'Camon 20 Premier 512GB', 'Camon 20 Pro 5G 256GB',\n",
       "       'Camon 20 Pro 128GB', 'Camon 20 128GB', 'Pova 5G 512GB',\n",
       "       'Pova 5 256GB', 'Xpad', 'Xpad 5G', 'Xpad Lite', 'Xpad Pro',\n",
       "       'Hot 50', 'Hot 50i', 'Hot 50 5G', 'Hot 50 Pro', 'Hot 50 Pro+',\n",
       "       'GT 20 Pro', 'Note 40X 5G', 'Note 40S', 'Note 40 5G',\n",
       "       'Note 40 Pro 5G', 'Note 40 Racing Edition', 'Hot 40', 'Hot 40i',\n",
       "       'Hot 40 Pro', 'Zero 40', 'Zero 40 5G', 'Zero Flip', 'Note 40',\n",
       "       'Note 40 Pro', 'Hot 30 128GB', 'Hot 30i 128GB',\n",
       "       'Hot 30i NFC 128GB', 'Hot 30 Play 128GB', 'Hot 30 5G 128GB',\n",
       "       'Zero 30 256GB', 'Zero 30 5G 256GB', 'GT 10 Pro 256GB',\n",
       "       'Hot 12 128GB', 'Hot 12 Play 128GB', 'Hot 12 Pro 128GB',\n",
       "       'Hot 12i 64GB', 'Hot 20 128GB', 'Hot 20 Play 128GB',\n",
       "       'Hot 20s 128GB', 'Hot 20 5G 128GB', 'Hot 20i 64GB',\n",
       "       'Hot 10T 128GB', 'Hot 10S 128GB', 'Hot 10S NFC 128GB',\n",
       "       'Hot 10 Lite 64GB', 'Hot 10 Play 64GB', 'Hot 11 128GB',\n",
       "       'Hot 11 Play 128GB', 'Hot 11s 128GB', 'Smart HD 32GB',\n",
       "       'Note 8i 128GB', 'Note 8 128GB', 'Zero 8i 128GB', 'Hot 10 128GB',\n",
       "       'Zero 8 128GB', 'Smart 5 64GB', '9X Lite', '30', '30 Pro',\n",
       "       '30 Pro+', '30S', 'X10', 'X10 Max', 'Play 4', 'Play 4 Pro',\n",
       "       '10X Lite', 'V40', '50', '50 Pro', '50 SE', 'X20', 'X20 SE',\n",
       "       'Play 5', 'Play 5T', 'Magic3', 'Magic3 Pro', 'Magic3 Pro+', '60',\n",
       "       '60 Pro', '60 SE', 'X30', 'X30i', 'X30 Max', 'Play 6', 'Play 6T',\n",
       "       'Magic4', 'Magic4 Pro', 'Magic4 Ultimate', 'Magic V', '70',\n",
       "       '70 Pro', '70 Pro+', 'X40', 'X40i', 'Play 7', 'Play 7T', 'Magic5',\n",
       "       'Magic5 Pro', 'Magic5 Ultimate', 'Magic Vs', '80', '80 Pro',\n",
       "       '80 SE', 'X50', 'X50i', 'Play 8', 'Play 8T', 'Magic6',\n",
       "       'Magic6 Pro', 'Magic6 Ultimate', 'Magic V2', '90', '90 Pro',\n",
       "       '90 SE', 'X60', 'X60i', 'Play 9', 'Play 9T', 'Magic7',\n",
       "       'Magic7 Pro', 'Magic7 Ultimate', 'Magic V3', 'Pad 6', 'Pad X6',\n",
       "       'Pad 7', 'Tablet V7', 'Tablet V7 Pro', 'Pad 8', 'Pad X8',\n",
       "       'Pad X8 Lite', 'Pad V8', 'Pad V8 Pro', 'Pad 9', 'Pad 9 Pro',\n",
       "       'Pad X9', 'Pad X8 Pro', 'MagicPad 13', 'MagicPad 2', 'Pad X8a',\n",
       "       'Pad X8a Kids Edition', 'Pad X9 Pro', 'Pad V9', 'Pad GT Pro',\n",
       "       'Pad X10', 'Pad X10 Pro', 'MagicPad 3', 'Pad V10', 'F2 Pro 128GB',\n",
       "       'M2 Pro 64GB', 'X3 NFC 128GB', 'M3 64GB', 'F3 128GB',\n",
       "       'X3 Pro 128GB', 'M3 Pro 5G 64GB', 'F3 GT 128GB', 'X3 GT 128GB',\n",
       "       'M4 Pro 5G 128GB', 'F4 128GB', 'F4 GT 128GB', 'X4 Pro 5G 128GB',\n",
       "       'M4 Pro 128GB', 'M5 128GB', 'M5s 128GB', 'F5 128GB',\n",
       "       'F5 Pro 256GB', 'X5 128GB', 'X5 Pro 128GB', 'M6 64GB',\n",
       "       'M6 Pro 128GB', 'X6 128GB', 'X6 Pro 256GB', 'F6 128GB',\n",
       "       'F6 Pro 256GB', 'C65 64GB', 'X7 128GB', 'X7 Pro 256GB',\n",
       "       'M7 5G 128GB', 'Pad 5G 128GB', 'Pad 5G 256GB',\n",
       "       'Galaxy Z Fold6 256GB', 'Galaxy Z Fold6 512GB',\n",
       "       'Galaxy Z Fold6 1TB'], dtype=object)"
      ]
     },
     "execution_count": 14,
     "metadata": {},
     "output_type": "execute_result"
    }
   ],
   "source": [
    "df[\"Model Name\"].unique()"
   ]
  },
  {
   "cell_type": "code",
   "execution_count": 15,
   "id": "7e67de97-35e1-44bc-8909-0d87f5642759",
   "metadata": {},
   "outputs": [
    {
     "data": {
      "text/plain": [
       "908"
      ]
     },
     "execution_count": 15,
     "metadata": {},
     "output_type": "execute_result"
    }
   ],
   "source": [
    "df[\"Model Name\"].nunique()"
   ]
  },
  {
   "cell_type": "code",
   "execution_count": 16,
   "id": "0870d0b6-4149-45bb-b8d8-6affcaa37832",
   "metadata": {},
   "outputs": [
    {
     "data": {
      "text/plain": [
       "22"
      ]
     },
     "execution_count": 16,
     "metadata": {},
     "output_type": "execute_result"
    }
   ],
   "source": [
    "df[\"Model Name\"].duplicated().sum()"
   ]
  },
  {
   "cell_type": "markdown",
   "id": "c0403326-a7d1-484d-bdb9-52120a077992",
   "metadata": {},
   "source": [
    "# Observation:- Out of 930, 908 are unique model name and 22 are duplicated."
   ]
  },
  {
   "cell_type": "code",
   "execution_count": 17,
   "id": "0ae30a36-c3bc-44ce-b17d-e52153547838",
   "metadata": {},
   "outputs": [
    {
     "data": {
      "text/plain": [
       "Model Name\n",
       "Pad 128GB             3\n",
       "Pad 2 256GB           3\n",
       "K7x 128GB             2\n",
       "K10 5G 128GB          2\n",
       "K9x 256GB             2\n",
       "                     ..\n",
       "V27 Pro 256GB         1\n",
       "V25 Pro 128GB         1\n",
       "V25 Pro 256GB         1\n",
       "X90 Pro 256GB         1\n",
       "Galaxy Z Fold6 1TB    1\n",
       "Name: count, Length: 908, dtype: int64"
      ]
     },
     "execution_count": 17,
     "metadata": {},
     "output_type": "execute_result"
    }
   ],
   "source": [
    "df[\"Model Name\"].value_counts()"
   ]
  },
  {
   "cell_type": "code",
   "execution_count": 18,
   "id": "7d561e69-0a7d-48c2-a4e9-87989a58a0e6",
   "metadata": {},
   "outputs": [
    {
     "data": {
      "text/plain": [
       "0      Pad 128GB\n",
       "1    Pad 2 256GB\n",
       "Name: Model Name, dtype: object"
      ]
     },
     "execution_count": 18,
     "metadata": {},
     "output_type": "execute_result"
    }
   ],
   "source": [
    "df[\"Model Name\"].mode()"
   ]
  },
  {
   "cell_type": "markdown",
   "id": "4b820238-e542-4797-906a-b1a8509c9872",
   "metadata": {},
   "source": [
    "# Observation:- These two models are more frequent\n",
    "# 0      Pad 128GB\n",
    "# 1    Pad 2 256GB"
   ]
  },
  {
   "cell_type": "code",
   "execution_count": 19,
   "id": "cf1c80a8-c6ad-4570-9fdc-47bac52c7263",
   "metadata": {},
   "outputs": [],
   "source": [
    "df.rename(columns={\"Mobile Weight\":\"Mobile Weight(in gram)\"},inplace=True)"
   ]
  },
  {
   "cell_type": "markdown",
   "id": "5db311ff-281f-4427-b298-4a9e2931c2a5",
   "metadata": {},
   "source": [
    "# Observation:- Replace the column name from \"Mobile Weight\" to \"Mobile Weight(in gram)\"."
   ]
  },
  {
   "cell_type": "code",
   "execution_count": 20,
   "id": "7ec34324-99df-4eeb-82b2-21b052eae047",
   "metadata": {},
   "outputs": [],
   "source": [
    "df[\"Mobile Weight(in gram)\"]=df[\"Mobile Weight(in gram)\"].str.replace(\"g\",\"\")"
   ]
  },
  {
   "cell_type": "code",
   "execution_count": 21,
   "id": "8394fd41-ad0f-49f1-8494-2b4a1b23c5c0",
   "metadata": {},
   "outputs": [],
   "source": [
    "df[\"Mobile Weight(in gram)\"]=df[\"Mobile Weight(in gram)\"].astype(float)"
   ]
  },
  {
   "cell_type": "markdown",
   "id": "2ecbfd07-4d91-458e-816d-c1e095c7fb1b",
   "metadata": {},
   "source": [
    "# Observation:- Inside this column 2 value were in decimal therefore we will have to convert its datatype into \"float\"."
   ]
  },
  {
   "cell_type": "code",
   "execution_count": 22,
   "id": "080e3012-f547-45b7-adcb-13320476d2d0",
   "metadata": {},
   "outputs": [
    {
     "data": {
      "text/html": [
       "<div>\n",
       "<style scoped>\n",
       "    .dataframe tbody tr th:only-of-type {\n",
       "        vertical-align: middle;\n",
       "    }\n",
       "\n",
       "    .dataframe tbody tr th {\n",
       "        vertical-align: top;\n",
       "    }\n",
       "\n",
       "    .dataframe thead th {\n",
       "        text-align: right;\n",
       "    }\n",
       "</style>\n",
       "<table border=\"1\" class=\"dataframe\">\n",
       "  <thead>\n",
       "    <tr style=\"text-align: right;\">\n",
       "      <th></th>\n",
       "      <th>Company Name</th>\n",
       "      <th>Model Name</th>\n",
       "      <th>Mobile Weight(in gram)</th>\n",
       "      <th>RAM</th>\n",
       "      <th>Front Camera</th>\n",
       "      <th>Back Camera</th>\n",
       "      <th>Processor</th>\n",
       "      <th>Battery Capacity</th>\n",
       "      <th>Screen Size</th>\n",
       "      <th>Launched Price (Pakistan)</th>\n",
       "      <th>Launched Price (India)</th>\n",
       "      <th>Launched Price (China)</th>\n",
       "      <th>Launched Price (USA)</th>\n",
       "      <th>Launched Price (Dubai)</th>\n",
       "      <th>Launched Year</th>\n",
       "    </tr>\n",
       "  </thead>\n",
       "  <tbody>\n",
       "  </tbody>\n",
       "</table>\n",
       "</div>"
      ],
      "text/plain": [
       "Empty DataFrame\n",
       "Columns: [Company Name, Model Name, Mobile Weight(in gram), RAM, Front Camera, Back Camera, Processor, Battery Capacity, Screen Size, Launched Price (Pakistan), Launched Price (India), Launched Price (China), Launched Price (USA), Launched Price (Dubai), Launched Year]\n",
       "Index: []"
      ]
     },
     "execution_count": 22,
     "metadata": {},
     "output_type": "execute_result"
    }
   ],
   "source": [
    "df[df[\"Mobile Weight(in gram)\"]==\"300.5\"]"
   ]
  },
  {
   "cell_type": "code",
   "execution_count": 23,
   "id": "84feb0ed-cbb1-4480-bdec-37a9eb076128",
   "metadata": {},
   "outputs": [
    {
     "data": {
      "text/plain": [
       "array([174. , 203. , 206. , 221. , 171. , 172. , 140. , 204. , 238. ,\n",
       "       135. , 164. , 189. , 228. , 194. , 188. , 226. , 177. , 208. ,\n",
       "       458. , 490. , 300.5, 468. , 682. , 708. , 234. , 196. , 168. ,\n",
       "       195. , 167. , 254. , 187. , 263. , 199. , 190. , 202. , 198. ,\n",
       "       192. , 235. , 191. , 181. , 178. , 175. , 165. , 143. , 229. ,\n",
       "       732. , 586. , 498. , 523. , 726. , 567. , 503. , 480. , 366. ,\n",
       "       508. , 433. , 674. , 426. , 360. , 205. , 179. , 200. , 183. ,\n",
       "       185. , 180. , 173. , 184. , 170. , 162. , 210. , 155. , 215. ,\n",
       "       550. , 610. , 223. , 150. , 146. , 158. , 163. , 153. , 176. ,\n",
       "       201. , 193. , 159. , 156. , 182. , 535. , 510. , 500. , 560. ,\n",
       "       520. , 540. , 555. , 239. , 186. , 533. , 218. , 207. , 233. ,\n",
       "       222.8, 440. , 482. , 466. , 499. , 372. , 465. , 209. , 166. ,\n",
       "       169. , 295. , 255. , 197. , 225. , 220. , 241. , 245. , 161. ,\n",
       "       580. , 147. , 151. , 212. , 213. , 216. , 222. , 250. , 450. ,\n",
       "       420. , 280. , 230. , 240. , 470. , 211. , 227. , 236. , 242. ,\n",
       "       288. , 219. , 267. , 231. , 460. , 485. , 530. , 495. , 590. ,\n",
       "       505. , 475. , 178.8, 571. ])"
      ]
     },
     "execution_count": 23,
     "metadata": {},
     "output_type": "execute_result"
    }
   ],
   "source": [
    "df[\"Mobile Weight(in gram)\"].unique()"
   ]
  },
  {
   "cell_type": "code",
   "execution_count": 24,
   "id": "a73efd70-6140-4df0-8f36-25671568fb47",
   "metadata": {},
   "outputs": [
    {
     "data": {
      "text/plain": [
       "148"
      ]
     },
     "execution_count": 24,
     "metadata": {},
     "output_type": "execute_result"
    }
   ],
   "source": [
    "df[\"Mobile Weight(in gram)\"].nunique()"
   ]
  },
  {
   "cell_type": "markdown",
   "id": "623807ed-d488-492a-89bb-9d81ee9a8842",
   "metadata": {},
   "source": [
    "# Observation:- Total 148 unique weight in \"mobile weight\" column"
   ]
  },
  {
   "cell_type": "code",
   "execution_count": 25,
   "id": "30a3d7ce-9882-4f47-9f9d-577bbcba9d70",
   "metadata": {},
   "outputs": [
    {
     "data": {
      "text/plain": [
       "Mobile Weight(in gram)\n",
       "190.0    68\n",
       "195.0    64\n",
       "185.0    29\n",
       "192.0    26\n",
       "180.0    25\n",
       "         ..\n",
       "151.0     1\n",
       "212.0     1\n",
       "540.0     1\n",
       "216.0     1\n",
       "360.0     1\n",
       "Name: count, Length: 148, dtype: int64"
      ]
     },
     "execution_count": 25,
     "metadata": {},
     "output_type": "execute_result"
    }
   ],
   "source": [
    "df[\"Mobile Weight(in gram)\"].value_counts()"
   ]
  },
  {
   "cell_type": "markdown",
   "id": "a7847055-f340-42e6-a6ac-2c33ce8b5119",
   "metadata": {},
   "source": [
    "# Observation:- Total 68 mobile phones whose weight are 190 and 190 will be the mode also for \"Mobile Weight(in gram)\"."
   ]
  },
  {
   "cell_type": "code",
   "execution_count": 26,
   "id": "ab689b50-12be-4e42-9ff1-95da4c9274c4",
   "metadata": {},
   "outputs": [
    {
     "data": {
      "text/plain": [
       "count    930.000000\n",
       "mean     228.267097\n",
       "std      105.432503\n",
       "min      135.000000\n",
       "25%      185.000000\n",
       "50%      194.000000\n",
       "75%      208.000000\n",
       "max      732.000000\n",
       "Name: Mobile Weight(in gram), dtype: float64"
      ]
     },
     "execution_count": 26,
     "metadata": {},
     "output_type": "execute_result"
    }
   ],
   "source": [
    "df[\"Mobile Weight(in gram)\"].describe()"
   ]
  },
  {
   "cell_type": "markdown",
   "id": "ceb5d5f5-0e96-491f-9f58-84b7b2215a19",
   "metadata": {},
   "source": [
    "# Observation:-\n",
    "# Most mobile devices in your dataset are relatively lightweight (between 135g and 208g).\n",
    "# The mean is much higher than the median (228 > 194), suggesting a right-skewed distribution — this happens due to outliers on the heavier side.\n",
    "# The max weight of 732g is unusually high — consider:\n",
    "# Verifying if this is a tablet or a data entry error."
   ]
  },
  {
   "cell_type": "code",
   "execution_count": 27,
   "id": "6e579028-eb90-4e93-ac4e-90d666821881",
   "metadata": {},
   "outputs": [
    {
     "name": "stdout",
     "output_type": "stream",
     "text": [
      "Q1 =  185.0\n",
      "Q3 =  208.0\n",
      "IQR =  23.0\n",
      "lower limit =  150.5\n",
      "upper limit =  242.5\n",
      "Outliers =  36     140.0\n",
      "37     140.0\n",
      "38     140.0\n",
      "48     135.0\n",
      "49     135.0\n",
      "       ...  \n",
      "892    485.0\n",
      "893    590.0\n",
      "894    530.0\n",
      "925    571.0\n",
      "926    571.0\n",
      "Name: Mobile Weight(in gram), Length: 125, dtype: float64\n"
     ]
    },
    {
     "data": {
      "text/plain": [
       "125"
      ]
     },
     "execution_count": 27,
     "metadata": {},
     "output_type": "execute_result"
    }
   ],
   "source": [
    "q1=df[\"Mobile Weight(in gram)\"].quantile(0.25)\n",
    "q3=df[\"Mobile Weight(in gram)\"].quantile(0.75)\n",
    "IQR=q3-q1\n",
    "ll=q1-1.5*IQR\n",
    "ul=q3+1.5*IQR\n",
    "outliers=df[\"Mobile Weight(in gram)\"][(df[\"Mobile Weight(in gram)\"]<ll) | (df[\"Mobile Weight(in gram)\"]>ul)]\n",
    "print(\"Q1 = \",q1)\n",
    "print(\"Q3 = \",q3)\n",
    "print(\"IQR = \",IQR)\n",
    "print(\"lower limit = \",ll)\n",
    "print(\"upper limit = \",ul)\n",
    "print(\"Outliers = \",outliers)\n",
    "outliers.shape[0]"
   ]
  },
  {
   "cell_type": "markdown",
   "id": "97b7ab8b-8169-4189-bc06-c71c6676f011",
   "metadata": {},
   "source": [
    "# Observation:\n",
    "# Lower Limit=150\n",
    "# Upper Limit=242\n",
    "# Total Outliers=125/930  values"
   ]
  },
  {
   "cell_type": "code",
   "execution_count": 28,
   "id": "ec2aa212-fe29-4f38-b4f8-5abefb952013",
   "metadata": {},
   "outputs": [],
   "source": [
    "df.rename(columns={\"RAM\":\"RAM(in GB)\"},inplace=True)"
   ]
  },
  {
   "cell_type": "markdown",
   "id": "eba6c7b4-c514-487e-9ab3-db95fa0ff0bc",
   "metadata": {},
   "source": [
    "# Observation:- Rename the column \"RAM\" into \"RAM(in GB)\"."
   ]
  },
  {
   "cell_type": "code",
   "execution_count": 29,
   "id": "787ab4b4-5d74-4b86-8c18-e6d15234be58",
   "metadata": {},
   "outputs": [],
   "source": [
    "df[\"RAM(in GB)\"]=df[\"RAM(in GB)\"].str.replace(\"GB\",\"\")"
   ]
  },
  {
   "cell_type": "markdown",
   "id": "edcfb0dc-3c64-4e2a-adfe-172e59758654",
   "metadata": {},
   "source": [
    "# Observation:-remove in values\"GB\" inside the column RAM(in GB)"
   ]
  },
  {
   "cell_type": "code",
   "execution_count": 30,
   "id": "0ed1b205-dad1-44e7-9db0-7a7410d263b1",
   "metadata": {},
   "outputs": [
    {
     "data": {
      "text/plain": [
       "RAM(in GB)\n",
       "8         308\n",
       "6         206\n",
       "12        193\n",
       "4         146\n",
       "3          34\n",
       "16         31\n",
       "2           6\n",
       "1.5         2\n",
       "8 / 12      2\n",
       "10          1\n",
       "1           1\n",
       "Name: count, dtype: int64"
      ]
     },
     "execution_count": 30,
     "metadata": {},
     "output_type": "execute_result"
    }
   ],
   "source": [
    "df[\"RAM(in GB)\"].value_counts()"
   ]
  },
  {
   "cell_type": "markdown",
   "id": "9cb9f029-3c37-4aa2-8194-810a48f44d61",
   "metadata": {},
   "source": [
    "# Observation:- \n",
    "# 2. 8 / 12GB it is wrong value which is 2 times in this column."
   ]
  },
  {
   "cell_type": "code",
   "execution_count": 31,
   "id": "89a9da71-d214-4dd7-9cfc-846993cbbf50",
   "metadata": {},
   "outputs": [
    {
     "data": {
      "text/html": [
       "<div>\n",
       "<style scoped>\n",
       "    .dataframe tbody tr th:only-of-type {\n",
       "        vertical-align: middle;\n",
       "    }\n",
       "\n",
       "    .dataframe tbody tr th {\n",
       "        vertical-align: top;\n",
       "    }\n",
       "\n",
       "    .dataframe thead th {\n",
       "        text-align: right;\n",
       "    }\n",
       "</style>\n",
       "<table border=\"1\" class=\"dataframe\">\n",
       "  <thead>\n",
       "    <tr style=\"text-align: right;\">\n",
       "      <th></th>\n",
       "      <th>Company Name</th>\n",
       "      <th>Model Name</th>\n",
       "      <th>Mobile Weight(in gram)</th>\n",
       "      <th>RAM(in GB)</th>\n",
       "      <th>Front Camera</th>\n",
       "      <th>Back Camera</th>\n",
       "      <th>Processor</th>\n",
       "      <th>Battery Capacity</th>\n",
       "      <th>Screen Size</th>\n",
       "      <th>Launched Price (Pakistan)</th>\n",
       "      <th>Launched Price (India)</th>\n",
       "      <th>Launched Price (China)</th>\n",
       "      <th>Launched Price (USA)</th>\n",
       "      <th>Launched Price (Dubai)</th>\n",
       "      <th>Launched Year</th>\n",
       "    </tr>\n",
       "  </thead>\n",
       "  <tbody>\n",
       "    <tr>\n",
       "      <th>641</th>\n",
       "      <td>Huawei</td>\n",
       "      <td>P60 Pro</td>\n",
       "      <td>200.0</td>\n",
       "      <td>8 / 12</td>\n",
       "      <td>13MP</td>\n",
       "      <td>48MP (wide) + 13MP (ultrawide) + 48MP (telephoto)</td>\n",
       "      <td>Snapdragon 8+ Gen 1 4G</td>\n",
       "      <td>4,815mAh</td>\n",
       "      <td>6.67 inches</td>\n",
       "      <td>PKR 189,999</td>\n",
       "      <td>INR 99,999</td>\n",
       "      <td>CNY 7,988</td>\n",
       "      <td>USD 1,099</td>\n",
       "      <td>AED 4,199</td>\n",
       "      <td>2023</td>\n",
       "    </tr>\n",
       "    <tr>\n",
       "      <th>642</th>\n",
       "      <td>Huawei</td>\n",
       "      <td>P60 Art</td>\n",
       "      <td>206.0</td>\n",
       "      <td>8 / 12</td>\n",
       "      <td>13MP</td>\n",
       "      <td>48MP (wide) + 40MP (ultrawide) + 48MP (telephoto)</td>\n",
       "      <td>Snapdragon 8+ Gen 1 4G</td>\n",
       "      <td>5,100mAh</td>\n",
       "      <td>6.73 inches</td>\n",
       "      <td>PKR 219,999</td>\n",
       "      <td>INR 119,999</td>\n",
       "      <td>CNY 8,988</td>\n",
       "      <td>USD 1,299</td>\n",
       "      <td>AED 4,799</td>\n",
       "      <td>2023</td>\n",
       "    </tr>\n",
       "  </tbody>\n",
       "</table>\n",
       "</div>"
      ],
      "text/plain": [
       "    Company Name Model Name  Mobile Weight(in gram) RAM(in GB) Front Camera  \\\n",
       "641       Huawei    P60 Pro                   200.0     8 / 12         13MP   \n",
       "642       Huawei    P60 Art                   206.0     8 / 12         13MP   \n",
       "\n",
       "                                           Back Camera  \\\n",
       "641  48MP (wide) + 13MP (ultrawide) + 48MP (telephoto)   \n",
       "642  48MP (wide) + 40MP (ultrawide) + 48MP (telephoto)   \n",
       "\n",
       "                  Processor Battery Capacity  Screen Size  \\\n",
       "641  Snapdragon 8+ Gen 1 4G         4,815mAh  6.67 inches   \n",
       "642  Snapdragon 8+ Gen 1 4G         5,100mAh  6.73 inches   \n",
       "\n",
       "    Launched Price (Pakistan) Launched Price (India) Launched Price (China)  \\\n",
       "641               PKR 189,999             INR 99,999              CNY 7,988   \n",
       "642               PKR 219,999            INR 119,999              CNY 8,988   \n",
       "\n",
       "    Launched Price (USA) Launched Price (Dubai)  Launched Year  \n",
       "641            USD 1,099              AED 4,199           2023  \n",
       "642            USD 1,299              AED 4,799           2023  "
      ]
     },
     "execution_count": 31,
     "metadata": {},
     "output_type": "execute_result"
    }
   ],
   "source": [
    "df[df[\"RAM(in GB)\"]==\"8 / 12\"]"
   ]
  },
  {
   "cell_type": "markdown",
   "id": "19d312e8-c7d4-4258-9eb0-c5ea312ad8a1",
   "metadata": {},
   "source": [
    "# Observation:- To know the index number of wrong values in RAM(in GB) column."
   ]
  },
  {
   "cell_type": "code",
   "execution_count": 32,
   "id": "3bb8aff7-23f4-4df4-938b-d0d90317f084",
   "metadata": {},
   "outputs": [],
   "source": [
    "df.drop([641,642],axis=0,inplace=True)"
   ]
  },
  {
   "cell_type": "markdown",
   "id": "cc1af711-d4ec-4d9d-8c17-948b62c332bf",
   "metadata": {},
   "source": [
    "# Observation:- Drop the wrong values rows which is present in column \"RAM(in GB)\"."
   ]
  },
  {
   "cell_type": "code",
   "execution_count": 33,
   "id": "a97f36ff-3e03-499a-a88f-2e73242cec1b",
   "metadata": {},
   "outputs": [
    {
     "data": {
      "text/plain": [
       "RAM(in GB)\n",
       "8      308\n",
       "6      206\n",
       "12     193\n",
       "4      146\n",
       "3       34\n",
       "16      31\n",
       "2        6\n",
       "1.5      2\n",
       "10       1\n",
       "1        1\n",
       "Name: count, dtype: int64"
      ]
     },
     "execution_count": 33,
     "metadata": {},
     "output_type": "execute_result"
    }
   ],
   "source": [
    "df[\"RAM(in GB)\"].value_counts()"
   ]
  },
  {
   "cell_type": "code",
   "execution_count": 34,
   "id": "e415f176-1f07-41a0-be1c-32507cb22d0e",
   "metadata": {},
   "outputs": [],
   "source": [
    "df[\"RAM(in GB)\"]=df[\"RAM(in GB)\"].astype(float)"
   ]
  },
  {
   "cell_type": "markdown",
   "id": "a017d857-c0cb-4604-baec-9ad2a74e0821",
   "metadata": {},
   "source": [
    "# Observation:- Convert the datatype of \"RAM(in GB)\" from string to float"
   ]
  },
  {
   "cell_type": "code",
   "execution_count": 35,
   "id": "371c6c0e-55ac-42f4-bd62-d8df6c13b84a",
   "metadata": {},
   "outputs": [
    {
     "data": {
      "text/plain": [
       "array([ 6. ,  8. ,  4. ,  3. , 12. ,  2. ,  1.5, 16. , 10. ,  1. ])"
      ]
     },
     "execution_count": 35,
     "metadata": {},
     "output_type": "execute_result"
    }
   ],
   "source": [
    "df[\"RAM(in GB)\"].unique()"
   ]
  },
  {
   "cell_type": "code",
   "execution_count": 36,
   "id": "9c057cc4-e13c-4910-a562-c92d5ba08139",
   "metadata": {},
   "outputs": [
    {
     "data": {
      "text/plain": [
       "10"
      ]
     },
     "execution_count": 36,
     "metadata": {},
     "output_type": "execute_result"
    }
   ],
   "source": [
    "df[\"RAM(in GB)\"].nunique()"
   ]
  },
  {
   "cell_type": "markdown",
   "id": "535cb4e4-1dec-47b7-8c52-6589906bfc13",
   "metadata": {},
   "source": [
    "# Observation:- Total 10 different types of RAM inside column \"RAM(in GB)\""
   ]
  },
  {
   "cell_type": "code",
   "execution_count": 37,
   "id": "9d8107b2-f9ce-47d2-a6b6-4898c05fe6f8",
   "metadata": {},
   "outputs": [
    {
     "data": {
      "text/plain": [
       "count    928.000000\n",
       "mean       7.784483\n",
       "std        3.183086\n",
       "min        1.000000\n",
       "25%        6.000000\n",
       "50%        8.000000\n",
       "75%        8.000000\n",
       "max       16.000000\n",
       "Name: RAM(in GB), dtype: float64"
      ]
     },
     "execution_count": 37,
     "metadata": {},
     "output_type": "execute_result"
    }
   ],
   "source": [
    "df[\"RAM(in GB)\"].describe()"
   ]
  },
  {
   "cell_type": "markdown",
   "id": "1685a40c-e9ed-450a-8719-29c390bc8538",
   "metadata": {},
   "source": [
    "#  Insights & Observations\n",
    "# Most Common RAM Size:\n",
    "# Since both the median and 75th percentile are 8 GB, it suggests 8 GB RAM is the most common configuration in this dataset.\n",
    "\n",
    "# Skewness:\n",
    "\n",
    "# The mean (7.78) is slightly less than the median (8), indicating a slight left-skew, though almost symmetrical.\n",
    "\n",
    "# There are a few low-end phones (1 GB RAM) and some high-end ones (up to 16 GB), but most cluster around 8 GB.\n",
    "\n",
    "# Market Segment Insight:\n",
    "\n",
    "# Majority of devices are mid-range (6–8 GB RAM).\n",
    "\n",
    "# A minority have very low or very high RAM, suggesting lower sales or availability of those models.\n",
    "\n",
    "# Spread:\n",
    "\n",
    "# The range is 15 GB (from 1 GB to 16 GB), but most devices fall within a narrower interquartile range (6–8 GB).\n",
    "\n",
    "# The standard deviation (3.18) shows moderate variability, with a few extreme values pulling it slightly higher.\n",
    "\n"
   ]
  },
  {
   "cell_type": "code",
   "execution_count": 38,
   "id": "12b62e8d-aff7-4b61-891f-ed3e324ea10d",
   "metadata": {},
   "outputs": [
    {
     "name": "stdout",
     "output_type": "stream",
     "text": [
      "Q1 =  6.0\n",
      "Q3 =  8.0\n",
      "IQR =  2.0\n",
      "lower limit =  3.0\n",
      "upper limit =  11.0\n",
      "Outliers =  97     12.0\n",
      "98     12.0\n",
      "103    12.0\n",
      "104    12.0\n",
      "109    12.0\n",
      "       ... \n",
      "890    12.0\n",
      "893    12.0\n",
      "927    12.0\n",
      "928    12.0\n",
      "929    12.0\n",
      "Name: RAM(in GB), Length: 233, dtype: float64\n"
     ]
    },
    {
     "data": {
      "text/plain": [
       "233"
      ]
     },
     "execution_count": 38,
     "metadata": {},
     "output_type": "execute_result"
    }
   ],
   "source": [
    "q1=df[\"RAM(in GB)\"].quantile(0.25)\n",
    "q3=df[\"RAM(in GB)\"].quantile(0.75)\n",
    "IQR=q3-q1\n",
    "ll=q1-1.5*IQR\n",
    "ul=q3+1.5*IQR\n",
    "outliers=df[\"RAM(in GB)\"][(df[\"RAM(in GB)\"]<ll) | (df[\"RAM(in GB)\"]>ul)]\n",
    "print(\"Q1 = \",q1)\n",
    "print(\"Q3 = \",q3)\n",
    "print(\"IQR = \",IQR)\n",
    "print(\"lower limit = \",ll)\n",
    "print(\"upper limit = \",ul)\n",
    "print(\"Outliers = \",outliers)\n",
    "len(outliers)"
   ]
  },
  {
   "cell_type": "markdown",
   "id": "7cd36a50-ec59-4b8f-b361-ed025eebefcb",
   "metadata": {},
   "source": [
    "# Observation:- Total outliers in RAM(in GB)=233"
   ]
  },
  {
   "cell_type": "code",
   "execution_count": 39,
   "id": "1ffbc973-4522-431a-83d6-7b92810156f9",
   "metadata": {},
   "outputs": [
    {
     "data": {
      "text/plain": [
       "array(['12MP', '12MP / 4K', '7MP', '10MP', '32MP', '13MP', '5MP', '16MP',\n",
       "       '8MP', '12MP + 12MP', '2MP', '44MP', '24MP', '20MP+8MP', '20MP',\n",
       "       '50MP', '25MP', '60MP', '10.7MP', 'Dual 32MP', 'Dual 60MP',\n",
       "       '60MP (ultrawide) + 8MP (telephoto)', '60MP + 8MP', '11.1MP',\n",
       "       '10.8MP', '10.5MP', '48MP', '42MP', '10MP, 4MP (UDC)'],\n",
       "      dtype=object)"
      ]
     },
     "execution_count": 39,
     "metadata": {},
     "output_type": "execute_result"
    }
   ],
   "source": [
    "df[\"Front Camera\"].unique()"
   ]
  },
  {
   "cell_type": "code",
   "execution_count": 40,
   "id": "37fb7cbb-6bd7-4039-b357-cd3090406371",
   "metadata": {},
   "outputs": [
    {
     "data": {
      "text/plain": [
       "29"
      ]
     },
     "execution_count": 40,
     "metadata": {},
     "output_type": "execute_result"
    }
   ],
   "source": [
    "df[\"Front Camera\"].nunique()"
   ]
  },
  {
   "cell_type": "markdown",
   "id": "7b553a0a-8e3a-4186-90a7-b3c9a53799dd",
   "metadata": {},
   "source": [
    "# Observation:- Total 29 types of front camera are present."
   ]
  },
  {
   "cell_type": "code",
   "execution_count": 41,
   "id": "5d23b3e9-5dc8-4fa5-9cfd-68f72d7dcbea",
   "metadata": {},
   "outputs": [
    {
     "data": {
      "text/plain": [
       "Front Camera\n",
       "16MP                                  211\n",
       "32MP                                  207\n",
       "8MP                                   165\n",
       "12MP                                   81\n",
       "5MP                                    47\n",
       "13MP                                   41\n",
       "12MP / 4K                              36\n",
       "50MP                                   30\n",
       "7MP                                    24\n",
       "10MP                                   22\n",
       "20MP                                   12\n",
       "2MP                                    12\n",
       "10.8MP                                  7\n",
       "60MP                                    5\n",
       "44MP                                    3\n",
       "10.5MP                                  3\n",
       "60MP + 8MP                              3\n",
       "10MP, 4MP (UDC)                         3\n",
       "10.7MP                                  2\n",
       "60MP (ultrawide) + 8MP (telephoto)      2\n",
       "25MP                                    2\n",
       "12MP + 12MP                             2\n",
       "20MP+8MP                                2\n",
       "Dual 32MP                               1\n",
       "24MP                                    1\n",
       "11.1MP                                  1\n",
       "48MP                                    1\n",
       "42MP                                    1\n",
       "Dual 60MP                               1\n",
       "Name: count, dtype: int64"
      ]
     },
     "execution_count": 41,
     "metadata": {},
     "output_type": "execute_result"
    }
   ],
   "source": [
    "df[\"Front Camera\"].value_counts()"
   ]
  },
  {
   "cell_type": "markdown",
   "id": "277c33b2-18d8-4fc3-8ed9-d94583689861",
   "metadata": {},
   "source": [
    "# Observation:- Most cell phone has 16 & 32 MP front camera."
   ]
  },
  {
   "cell_type": "code",
   "execution_count": 42,
   "id": "46c788b4-724e-4acd-a9a0-2d5fe3fab81d",
   "metadata": {},
   "outputs": [
    {
     "data": {
      "text/plain": [
       "array(['48MP', '50MP + 12MP', '48MP + 12MP', '12MP + 12MP', '12MP',\n",
       "       '12MP + 12MP + 12MP', '8MP', '12MP + 10MP', '200MP + 12MP',\n",
       "       '108MP + 12MP', '48MP + 8MP', '50MP + 5MP', '50MP + 2MP',\n",
       "       '108MP + 8MP', '50MP + 8MP', '13MP + 2MP', '12MP + 16MP', '50MP',\n",
       "       '16MP', '16MP + 5MP', '13MP', '13MP + 5MP', '16MP + 8MP',\n",
       "       '13MP + 8MP', '13MP + 6MP', '5MP', '50MP + 48MP', '108MP',\n",
       "       '64MP + 2MP', '48MP + 48MP', '48MP + 50MP', '48MP + 16MP',\n",
       "       '48MP + 5MP', '64MP + 8MP', '20MP + 16MP', '16MP + 20MP',\n",
       "       '50MP + 16MP', '200MP', '64MP', '13MP+2MP', '48MP + 64MP + 48MP',\n",
       "       '50MP + 32MP + 48MP', '50MP + 50MP + 50MP', '50MP + 50MP',\n",
       "       '50MP + 8MP + 2MP', '50MP + 50MP + 8MP', '50MP + 32MP + 8MP',\n",
       "       '64MP + 8MP + 2MP', '8MP + 2MP', '50MP + 50MP + 64MP',\n",
       "       '50MP + 50MP + 13MP', '50MP + 48MP + 32MP', '64MP + 32MP + 8MP',\n",
       "       '50MP + 64MP + 8MP', '64MP + 8MP + 2MP + 2MP',\n",
       "       '50MP + 13MP + 16MP + 2MP', '50MP + 16MP + 13MP + 2MP',\n",
       "       '48MP + 8MP + 2MP + 2MP', '48MP + 13MP + 12MP',\n",
       "       '48MP + 13MP + 8MP + 2MP', '13MP + 2MP + 2MP', '16MP + 2MP + 2MP',\n",
       "       '12MP + 8MP + 2MP + 2MP', '108MP + 2MP', '64MP + 2MP + 2MP',\n",
       "       '50MP + 8MP + 50MP', '48MP + 2MP + 2MP',\n",
       "       '50MP (Main) + 50MP (Ultra-wide) + 50MP (Telephoto)',\n",
       "       '50MP (Main) + 50MP (Ultra-wide)',\n",
       "       '200MP (Main) + 8MP (Ultra-wide) + 2MP (Macro)',\n",
       "       '108MP (Main) + 8MP (Ultra-wide) + 2MP (Macro)',\n",
       "       '50MP (Main) + 8MP (Ultra-wide) + 2MP (Macro)',\n",
       "       '50MP (Main) + 2MP (Depth)', '40MP',\n",
       "       '48MP (wide) + 13MP (ultrawide) + 48MP (telephoto)',\n",
       "       '50MP (wide) + 13MP (ultrawide) + 12MP (periscope telephoto)',\n",
       "       '50MP (wide) + 12MP (ultrawide) + 12MP (telephoto)',\n",
       "       '50MP (wide) + 40MP (ultrawide) + 48MP (telephoto)',\n",
       "       '50MP (wide) + 48MP (ultrawide) + 48MP (telephoto)',\n",
       "       '50MP (wide) + 8MP (ultrawide)', '50MP + 13MP + 12MP',\n",
       "       '50MP + 12.5MP + 48MP', '50MP + 40MP + 50MP', '50MP + 12MP + 40MP',\n",
       "       '50MP + 12MP + 48MP', '13MP (f/1.8, AF)', '12.2MP', '54MP',\n",
       "       '160MP', '100MP'], dtype=object)"
      ]
     },
     "execution_count": 42,
     "metadata": {},
     "output_type": "execute_result"
    }
   ],
   "source": [
    "df[\"Back Camera\"].unique()"
   ]
  },
  {
   "cell_type": "code",
   "execution_count": 43,
   "id": "564d1b71-a062-438d-8315-e0bcc046c45a",
   "metadata": {},
   "outputs": [
    {
     "data": {
      "text/plain": [
       "90"
      ]
     },
     "execution_count": 43,
     "metadata": {},
     "output_type": "execute_result"
    }
   ],
   "source": [
    "df[\"Back Camera\"].nunique()"
   ]
  },
  {
   "cell_type": "markdown",
   "id": "e3e50487-1f20-4f80-b020-1ca76f34fb22",
   "metadata": {},
   "source": [
    "# Observation:- Total 90 types of Back Camera are present in phones."
   ]
  },
  {
   "cell_type": "code",
   "execution_count": 44,
   "id": "02f8c7e1-2d02-466b-a49d-04a570de5777",
   "metadata": {},
   "outputs": [
    {
     "data": {
      "text/plain": [
       "Back Camera\n",
       "50MP                                                 182\n",
       "13MP                                                  76\n",
       "48MP                                                  60\n",
       "64MP                                                  57\n",
       "50MP + 2MP                                            39\n",
       "                                                    ... \n",
       "48MP + 13MP + 8MP + 2MP                                1\n",
       "16MP + 2MP + 2MP                                       1\n",
       "12MP + 8MP + 2MP + 2MP                                 1\n",
       "13MP+2MP                                               1\n",
       "50MP (wide) + 40MP (ultrawide) + 48MP (telephoto)      1\n",
       "Name: count, Length: 90, dtype: int64"
      ]
     },
     "execution_count": 44,
     "metadata": {},
     "output_type": "execute_result"
    }
   ],
   "source": [
    "df[\"Back Camera\"].value_counts()"
   ]
  },
  {
   "cell_type": "markdown",
   "id": "2c80fe60-999f-4b0a-82f6-aa56c75a55f8",
   "metadata": {},
   "source": [
    "# Observation:- 182 phones has 50MP back camera."
   ]
  },
  {
   "cell_type": "code",
   "execution_count": 45,
   "id": "784bbd7d-17fb-461d-8ebb-778379933a96",
   "metadata": {},
   "outputs": [
    {
     "data": {
      "text/plain": [
       "count      928\n",
       "unique      90\n",
       "top       50MP\n",
       "freq       182\n",
       "Name: Back Camera, dtype: object"
      ]
     },
     "execution_count": 45,
     "metadata": {},
     "output_type": "execute_result"
    }
   ],
   "source": [
    "df[\"Back Camera\"].describe()"
   ]
  },
  {
   "cell_type": "code",
   "execution_count": null,
   "id": "bea08abf-b376-4bd7-b227-7bc47ea3e1da",
   "metadata": {},
   "outputs": [],
   "source": []
  },
  {
   "cell_type": "code",
   "execution_count": 46,
   "id": "618f0c85-fb8f-40df-8f6b-4bc841ebc01b",
   "metadata": {},
   "outputs": [
    {
     "data": {
      "text/plain": [
       "['A17 Bionic',\n",
       " 'A17 Pro',\n",
       " 'A16 Bionic',\n",
       " 'A15 Bionic',\n",
       " 'A14 Bionic',\n",
       " 'A13 Bionic',\n",
       " 'A11 Bionic',\n",
       " 'A12 Bionic',\n",
       " 'A12Z Bionic',\n",
       " 'Exynos 2400',\n",
       " 'Snapdragon 8 Gen 2',\n",
       " 'Exynos 2200',\n",
       " 'Snapdragon 8 Gen 1',\n",
       " 'Exynos 1380',\n",
       " 'MediaTek Dimensity 1080',\n",
       " 'MediaTek Helio G99',\n",
       " 'Exynos 850',\n",
       " 'Exynos 1280',\n",
       " 'MediaTek Helio P35',\n",
       " 'Exynos 990',\n",
       " 'Exynos 9825',\n",
       " 'Snapdragon 450',\n",
       " 'Exynos 7870',\n",
       " 'Snapdragon 425',\n",
       " 'Exynos 7570',\n",
       " 'Snapdragon 653',\n",
       " 'Snapdragon 625',\n",
       " 'Snapdragon 617',\n",
       " 'Snapdragon 888',\n",
       " 'Snapdragon 695',\n",
       " 'Unisoc T618',\n",
       " 'MediaTek Helio P22T',\n",
       " 'Snapdragon 778G',\n",
       " 'Exynos 9810',\n",
       " 'Spreadtrum SC8830',\n",
       " 'Qualcomm MSM8916',\n",
       " 'Snapdragon 8 Gen 3',\n",
       " 'MediaTek Dimensity 9000',\n",
       " 'Snapdragon 782G',\n",
       " 'MediaTek Dimensity 6020',\n",
       " 'Snapdragon 8+ Gen 1',\n",
       " 'MediaTek Dimensity 1300',\n",
       " 'MediaTek Dimensity 1200-AI',\n",
       " 'Snapdragon 480',\n",
       " 'Qualcomm Snapdragon 460',\n",
       " 'Snapdragon 865',\n",
       " 'Snapdragon 870',\n",
       " 'MediaTek Dimensity 900',\n",
       " 'MediaTek Dimensity 1200',\n",
       " 'Snapdragon 765G',\n",
       " 'Snapdragon 750G',\n",
       " 'Qualcomm Snapdragon 690',\n",
       " 'Snapdragon 855',\n",
       " 'Snapdragon 845',\n",
       " 'Snapdragon 835',\n",
       " 'MediaTek Dimensity 8100',\n",
       " 'Dimensity 9400',\n",
       " 'Dimensity 1200',\n",
       " 'Dimensity 900',\n",
       " 'Dimensity 1100',\n",
       " 'Snapdragon 710',\n",
       " 'Snapdragon 626',\n",
       " 'MediaTek Helio P22',\n",
       " 'Snapdragon 615',\n",
       " 'Snapdragon 439',\n",
       " 'Snapdragon 652',\n",
       " 'MediaTek MT6592',\n",
       " 'Snapdragon 430',\n",
       " 'Qualcomm Snapdragon 712',\n",
       " 'Qualcomm Snapdragon 675',\n",
       " 'MediaTek Helio P65',\n",
       " 'Qualcomm Snapdragon 439',\n",
       " 'MediaTek Helio P70',\n",
       " 'Qualcomm Snapdragon 710',\n",
       " 'Qualcomm Snapdragon 660',\n",
       " 'MediaTek Helio G96',\n",
       " 'MediaTek Helio G80',\n",
       " 'Qualcomm Snapdragon 870',\n",
       " 'Qualcomm Snapdragon 765G',\n",
       " 'MediaTek Dimensity 700',\n",
       " 'Qualcomm Snapdragon 695',\n",
       " 'Qualcomm Snapdragon 855',\n",
       " 'MediaTek Dimensity 8200',\n",
       " 'MediaTek Dimensity 9200',\n",
       " 'MediaTek Dimensity 920',\n",
       " 'MediaTek Helio G100',\n",
       " 'MediaTek Dimensity 8350',\n",
       " 'Snapdragon 685',\n",
       " 'MediaTek Dimensity 7050',\n",
       " 'Dimensity 7300',\n",
       " 'Dimensity 6300',\n",
       " 'Snapdragon 6s 4G Gen 1',\n",
       " 'Snapdragon 680 4G',\n",
       " 'Snapdragon 7 Gen 3',\n",
       " 'Dimensity 7050',\n",
       " 'Dimensity 8350',\n",
       " 'Dimensity 9300',\n",
       " 'Dimensity 9200',\n",
       " 'Dimensity 9000+',\n",
       " 'Dimensity 8100',\n",
       " 'Dimensity 1300',\n",
       " 'Dimensity 1000+',\n",
       " 'Dimensity 1000L',\n",
       " 'MediaTek Dimensity 810',\n",
       " 'Qualcomm Snapdragon 480',\n",
       " 'MediaTek Dimensity 720',\n",
       " 'Qualcomm Snapdragon 6s Gen 1',\n",
       " 'MediaTek Dimensity 8000-Max',\n",
       " 'Qualcomm Snapdragon 768G',\n",
       " 'Qualcomm Snapdragon 782G',\n",
       " 'Qualcomm Snapdragon 8 Elite',\n",
       " 'Qualcomm Snapdragon 8s Gen 3',\n",
       " 'Qualcomm Snapdragon 7 Plus Gen 3',\n",
       " 'Qualcomm Snapdragon 7s Gen 3',\n",
       " 'MediaTek Dimensity 7300 Energy',\n",
       " 'Qualcomm Snapdragon 7s Gen 2',\n",
       " 'MediaTek Dimensity 7200',\n",
       " 'MediaTek Dimensity 6100+',\n",
       " 'Qualcomm Snapdragon 7+ Gen 2',\n",
       " 'Qualcomm Snapdragon 7+ Gen 3',\n",
       " 'Qualcomm Snapdragon 7s Gen 1',\n",
       " 'MediaTek Helio G88',\n",
       " 'MediaTek Helio G85',\n",
       " 'Unisoc T612',\n",
       " 'Qualcomm Snapdragon 680',\n",
       " 'Qualcomm Snapdragon 8 Gen 2',\n",
       " 'Unisoc T616',\n",
       " 'Snapdragon 8 Elite',\n",
       " 'Dimensity 9300+',\n",
       " 'Dimensity 8300-Ultra',\n",
       " 'Snapdragon 7s Gen 3',\n",
       " 'MediaTek Dimensity 7300-Ultra',\n",
       " 'Qualcomm Snapdragon 732G',\n",
       " 'MediaTek Dimensity 7025-Ultra',\n",
       " 'Unisoc T700',\n",
       " 'Snapdragon 662',\n",
       " 'Unisoc SC9863A',\n",
       " 'Snapdragon 460',\n",
       " 'Snapdragon 632',\n",
       " 'Helio P22',\n",
       " 'Snapdragon 7 Gen 1',\n",
       " 'Exynos 9609',\n",
       " 'MediaTek Helio G25',\n",
       " 'Snapdragon 6 Gen 3',\n",
       " 'MediaTek Dimensity 7300',\n",
       " 'MediaTek Dimensity 7025',\n",
       " 'Unisoc T760',\n",
       " 'Snapdragon 6s Gen 3',\n",
       " 'Snapdragon 7s Gen 2',\n",
       " 'Unisoc T606',\n",
       " 'Snapdragon 6 Gen 1',\n",
       " 'Snapdragon 888+ 5G',\n",
       " 'Snapdragon 695 5G',\n",
       " 'Snapdragon 480+ 5G',\n",
       " 'MediaTek Helio G37',\n",
       " 'Snapdragon 888 4G',\n",
       " 'Kirin 990E 5G',\n",
       " 'Kirin 9000 5G',\n",
       " 'Snapdragon 778G 4G',\n",
       " 'Snapdragon 8+ Gen 1 4G',\n",
       " 'Kirin 9000S',\n",
       " 'Kirin 9010',\n",
       " 'Snapdragon 480+',\n",
       " 'MediaTek G35',\n",
       " 'Snapdragon 670',\n",
       " 'Snapdragon 730G',\n",
       " 'Google Tensor',\n",
       " 'Google Tensor G2',\n",
       " 'Google Tensor G3',\n",
       " 'Google Tensor G4',\n",
       " 'MediaTek Helio A22',\n",
       " 'MediaTek G99',\n",
       " 'Unisoc SC9832E',\n",
       " 'MediaTek Dimensity 9200+',\n",
       " 'MediaTek Dimensity 8050',\n",
       " 'Qualcomm Snapdragon 778G',\n",
       " 'MediaTek Dimensity 8020',\n",
       " 'Unisoc T610',\n",
       " 'MediaTek Helio G70',\n",
       " 'MediaTek Helio A25',\n",
       " 'MediaTek Helio G35',\n",
       " 'MediaTek Helio A20',\n",
       " 'MediaTek Helio G90T',\n",
       " 'Kirin 710F',\n",
       " 'Kirin 985 5G',\n",
       " 'Kirin 990 5G',\n",
       " 'Kirin 820 5G',\n",
       " 'MediaTek Dimensity 800',\n",
       " 'Kirin 710A',\n",
       " 'MediaTek Dimensity 1000+',\n",
       " 'MediaTek Dimensity 800U',\n",
       " 'Qualcomm Snapdragon 888',\n",
       " 'Qualcomm Snapdragon 888+',\n",
       " 'Qualcomm Snapdragon 778G+',\n",
       " 'MediaTek MT6762G Helio G25',\n",
       " 'Qualcomm Snapdragon 8 Gen 1',\n",
       " 'MediaTek Dimensity 8000',\n",
       " 'Qualcomm Snapdragon 8+ Gen 1',\n",
       " 'Qualcomm Snapdragon 6 Gen 1',\n",
       " 'MediaTek Helio G36',\n",
       " 'Qualcomm Snapdragon 8 Gen 3',\n",
       " 'Qualcomm Snapdragon 7 Gen 1',\n",
       " 'Qualcomm Snapdragon 662',\n",
       " 'MediaTek MT8768T',\n",
       " 'MediaTek Dimensity 1300T',\n",
       " 'MediaTek MT8786',\n",
       " 'Qualcomm Snapdragon 685',\n",
       " 'Snapdragon 720G',\n",
       " 'Snapdragon 732G',\n",
       " 'Snapdragon 860',\n",
       " 'MediaTek Dimensity 1100',\n",
       " 'MediaTek Helio G95',\n",
       " 'Snapdragon 7+ Gen 2',\n",
       " 'Snapdragon 4 Gen 1',\n",
       " 'MediaTek Dimensity 8300',\n",
       " 'Snapdragon 8+ Gen 2',\n",
       " 'MediaTek Dimensity 8400']"
      ]
     },
     "execution_count": 46,
     "metadata": {},
     "output_type": "execute_result"
    }
   ],
   "source": [
    "df[\"Processor\"].unique().tolist()"
   ]
  },
  {
   "cell_type": "code",
   "execution_count": 47,
   "id": "f818a37b-4e2b-43cc-9822-a220d6aa14c3",
   "metadata": {},
   "outputs": [
    {
     "data": {
      "text/plain": [
       "217"
      ]
     },
     "execution_count": 47,
     "metadata": {},
     "output_type": "execute_result"
    }
   ],
   "source": [
    "df[\"Processor\"].nunique()"
   ]
  },
  {
   "cell_type": "markdown",
   "id": "2ddc8b0a-efe9-41e2-8890-b1b6e3c338e6",
   "metadata": {},
   "source": [
    "# Observation:- Total 217 different types of processor are present."
   ]
  },
  {
   "cell_type": "code",
   "execution_count": 48,
   "id": "39276d27-b189-470c-8d8c-6ab2e443c5fa",
   "metadata": {},
   "outputs": [
    {
     "data": {
      "text/plain": [
       "Processor\n",
       "Snapdragon 8 Gen 2         30\n",
       "MediaTek Dimensity 810     22\n",
       "MediaTek Helio G99         21\n",
       "Snapdragon 8 Gen 3         19\n",
       "MediaTek Helio G85         19\n",
       "                           ..\n",
       "Snapdragon 439              1\n",
       "Snapdragon 652              1\n",
       "MediaTek Helio G35          1\n",
       "MediaTek MT6592             1\n",
       "MediaTek Dimensity 8400     1\n",
       "Name: count, Length: 217, dtype: int64"
      ]
     },
     "execution_count": 48,
     "metadata": {},
     "output_type": "execute_result"
    }
   ],
   "source": [
    "df[\"Processor\"].value_counts()"
   ]
  },
  {
   "cell_type": "code",
   "execution_count": 49,
   "id": "ef73a165-de98-4b2e-a72e-f1767eaa4a9a",
   "metadata": {},
   "outputs": [
    {
     "data": {
      "text/plain": [
       "count                    928\n",
       "unique                   217\n",
       "top       Snapdragon 8 Gen 2\n",
       "freq                      30\n",
       "Name: Processor, dtype: object"
      ]
     },
     "execution_count": 49,
     "metadata": {},
     "output_type": "execute_result"
    }
   ],
   "source": [
    "df[\"Processor\"].describe()"
   ]
  },
  {
   "cell_type": "markdown",
   "id": "eba8fa63-a20e-4559-ba71-99e181fb1614",
   "metadata": {},
   "source": [
    "# Observation:- Mostly used processor is \"Snapdragon 8 Gen 2\" which has frequency=30."
   ]
  },
  {
   "cell_type": "code",
   "execution_count": 50,
   "id": "b6c8f464-00ea-45cf-9691-2d77f2882dc5",
   "metadata": {},
   "outputs": [
    {
     "data": {
      "text/plain": [
       "['3,600mAh',\n",
       " '4,200mAh',\n",
       " '4,400mAh',\n",
       " '4,500mAh',\n",
       " '3,200mAh',\n",
       " '4,300mAh',\n",
       " '4,325mAh',\n",
       " '2,438mAh',\n",
       " '3,240mAh',\n",
       " '3,095mAh',\n",
       " '4,352mAh',\n",
       " '2,227mAh',\n",
       " '2,815mAh',\n",
       " '3,687mAh',\n",
       " '3,110mAh',\n",
       " '3,046mAh',\n",
       " '3,969mAh',\n",
       " '2,716mAh',\n",
       " '2,658mAh',\n",
       " '3,174mAh',\n",
       " '2,942mAh',\n",
       " '7,608mAh',\n",
       " '8,612mAh',\n",
       " '5,124mAh',\n",
       " '7,812mAh',\n",
       " '9,720mAh',\n",
       " '10,307mAh',\n",
       " '5000mAh',\n",
       " '4800mAh',\n",
       " '4000mAh',\n",
       " '4700mAh',\n",
       " '3900mAh',\n",
       " '4500mAh',\n",
       " '3800mAh',\n",
       " '4400mAh',\n",
       " '3700mAh',\n",
       " '6000mAh',\n",
       " '4300mAh',\n",
       " '3500mAh',\n",
       " '4050mAh',\n",
       " '3000mAh',\n",
       " '3600mAh',\n",
       " '3300mAh',\n",
       " '2600mAh',\n",
       " '11200mAh',\n",
       " '10090mAh',\n",
       " '8400mAh',\n",
       " '8000mAh',\n",
       " '7040mAh',\n",
       " '5100mAh',\n",
       " '5050mAh',\n",
       " '7600mAh',\n",
       " '4510mAh',\n",
       " '4115mAh',\n",
       " '4085mAh',\n",
       " '9510mAh',\n",
       " '11000mAh',\n",
       " '5700mAh',\n",
       " '4100mAh',\n",
       " '3315mAh',\n",
       " '3260mAh',\n",
       " '2300mAh',\n",
       " '3055mAh',\n",
       " '4030mAh',\n",
       " '2000mAh',\n",
       " '3200mAh',\n",
       " '4200mAh',\n",
       " '4450mAh',\n",
       " '4600mAh',\n",
       " '4830mAh',\n",
       " '4870mAh',\n",
       " '8040mAh',\n",
       " '4805mAh',\n",
       " '5800mAh',\n",
       " '5600mAh',\n",
       " '6400mAh',\n",
       " '8360mAh',\n",
       " '4520mAh',\n",
       " '5,000mAh',\n",
       " '4,600mAh',\n",
       " '4,700mAh',\n",
       " '4,350mAh',\n",
       " '4,000mAh',\n",
       " '4,025mAh',\n",
       " '4,040mAh',\n",
       " '5,100mAh',\n",
       " '6,500mAh',\n",
       " '5,500mAh',\n",
       " '6,000mAh',\n",
       " '5,800mAh',\n",
       " '5,200mAh',\n",
       " '7,100mAh',\n",
       " '8,360mAh',\n",
       " '8,340mAh',\n",
       " '6,400mAh',\n",
       " '7,200mAh',\n",
       " '6,100mAh',\n",
       " '5,400mAh',\n",
       " '4,610mAh',\n",
       " '5,110mAh',\n",
       " '4,050mAh',\n",
       " '3,350mAh',\n",
       " '3,500mAh',\n",
       " '4,310mAh',\n",
       " '3,800mAh',\n",
       " '4,020mAh',\n",
       " '4,100mAh',\n",
       " '4,360mAh',\n",
       " '4,460mAh',\n",
       " '4,815mAh',\n",
       " '4,800mAh',\n",
       " '4,750mAh',\n",
       " '4,900mAh',\n",
       " '5,050mAh',\n",
       " '8200mAh',\n",
       " '10,100mAh',\n",
       " '3,000mAh',\n",
       " '3,700mAh',\n",
       " '2,800mAh',\n",
       " '3,140mAh',\n",
       " '3,885mAh',\n",
       " '4,080mAh',\n",
       " '4,680mAh',\n",
       " '4,614mAh',\n",
       " '5,003mAh',\n",
       " '4,410mAh',\n",
       " '4,355mAh',\n",
       " '4,385mAh',\n",
       " '4,575mAh',\n",
       " '5,250mAh',\n",
       " '8,000mAh',\n",
       " '7,500mAh',\n",
       " '7,000mAh',\n",
       " '9,000mAh',\n",
       " '5,300mAh',\n",
       " '3,750mAh',\n",
       " '5,450mAh',\n",
       " '5,550mAh',\n",
       " '7,250mAh',\n",
       " '8,500mAh',\n",
       " '8,300mAh',\n",
       " '10,000mAh',\n",
       " '10,500mAh',\n",
       " '8,850mAh',\n",
       " '5160mAh',\n",
       " '5065mAh',\n",
       " '5110mAh']"
      ]
     },
     "execution_count": 50,
     "metadata": {},
     "output_type": "execute_result"
    }
   ],
   "source": [
    "df[\"Battery Capacity\"].unique().tolist()"
   ]
  },
  {
   "cell_type": "code",
   "execution_count": 51,
   "id": "2230ff51-906c-4659-90d8-8f2e1eb44978",
   "metadata": {},
   "outputs": [],
   "source": [
    "df.rename(columns={\"Battery Capacity\":\"Battery Capacity(in mAh)\"},inplace=True)"
   ]
  },
  {
   "cell_type": "markdown",
   "id": "5432f48e-5f0f-4afd-bf30-f712358ac3b5",
   "metadata": {},
   "source": [
    "# Observation:-renamed the column from \"Battery Capacity\" to \"Battery Capacity(in mAh)\"."
   ]
  },
  {
   "cell_type": "code",
   "execution_count": 52,
   "id": "0cad7211-0a18-4354-8324-240003951c65",
   "metadata": {},
   "outputs": [],
   "source": [
    "df[\"Battery Capacity(in mAh)\"]=df[\"Battery Capacity(in mAh)\"].str.replace(\"mAh\",\"\")"
   ]
  },
  {
   "cell_type": "markdown",
   "id": "7379d3ff-c8e5-4b13-afc1-33383a5afc10",
   "metadata": {},
   "source": [
    "# Observation:- Removed \"mAh\" from the values of column \"Battery Capacity(in mAh)\"."
   ]
  },
  {
   "cell_type": "code",
   "execution_count": 53,
   "id": "d3f06f1f-6f5f-40c2-a24c-dccc93da53ef",
   "metadata": {},
   "outputs": [
    {
     "data": {
      "text/plain": [
       "147"
      ]
     },
     "execution_count": 53,
     "metadata": {},
     "output_type": "execute_result"
    }
   ],
   "source": [
    "df[\"Battery Capacity(in mAh)\"].nunique()"
   ]
  },
  {
   "cell_type": "markdown",
   "id": "a5fb74c9-da33-4b7c-b905-6477adb4eec8",
   "metadata": {},
   "source": [
    "# Observation:- Total 147 unique battery capacity are present before remove comma from the values"
   ]
  },
  {
   "cell_type": "code",
   "execution_count": 54,
   "id": "1fa61e92-3416-4dd0-b643-5c24eb4c146b",
   "metadata": {},
   "outputs": [],
   "source": [
    "df[\"Battery Capacity(in mAh)\"]=df[\"Battery Capacity(in mAh)\"].str.replace(\",\",\"\")"
   ]
  },
  {
   "cell_type": "markdown",
   "id": "ee0b2be2-70f8-4f87-b66d-1c93dbf66687",
   "metadata": {},
   "source": [
    "# Observation:- Removed comma from the values."
   ]
  },
  {
   "cell_type": "code",
   "execution_count": 55,
   "id": "27f90b5f-1137-4035-96da-ea1b3104e132",
   "metadata": {},
   "outputs": [
    {
     "data": {
      "text/plain": [
       "122"
      ]
     },
     "execution_count": 55,
     "metadata": {},
     "output_type": "execute_result"
    }
   ],
   "source": [
    "df[\"Battery Capacity(in mAh)\"].nunique()"
   ]
  },
  {
   "cell_type": "markdown",
   "id": "a536cf1b-d6e7-449f-bd3e-5a77f1ef805f",
   "metadata": {},
   "source": [
    "# Observation:- Total 122 unique battery capacity are present after remove comma from the values."
   ]
  },
  {
   "cell_type": "code",
   "execution_count": 56,
   "id": "c8c1a2e8-981e-46f0-986b-28ff54daa0b3",
   "metadata": {},
   "outputs": [],
   "source": [
    "df[\"Battery Capacity(in mAh)\"]=df[\"Battery Capacity(in mAh)\"].astype(int)"
   ]
  },
  {
   "cell_type": "markdown",
   "id": "510e6ea1-fb1d-4e5b-aa38-f34ce59b2204",
   "metadata": {},
   "source": [
    "# Observation :- Converted the datatype from string to int."
   ]
  },
  {
   "cell_type": "code",
   "execution_count": 57,
   "id": "224d4a18-5bfa-498d-aaa4-bf9bbf53e878",
   "metadata": {},
   "outputs": [
    {
     "data": {
      "text/plain": [
       "count      928.000000\n",
       "mean      5026.311422\n",
       "std       1356.989874\n",
       "min       2000.000000\n",
       "25%       4400.000000\n",
       "50%       5000.000000\n",
       "75%       5073.750000\n",
       "max      11200.000000\n",
       "Name: Battery Capacity(in mAh), dtype: float64"
      ]
     },
     "execution_count": 57,
     "metadata": {},
     "output_type": "execute_result"
    }
   ],
   "source": [
    "df[\"Battery Capacity(in mAh)\"].describe()"
   ]
  },
  {
   "cell_type": "markdown",
   "id": "4b8e266e-0693-4ca1-b8c5-1765bfb21749",
   "metadata": {},
   "source": [
    "#  Key Observations\n",
    "# Most Common Size:\n",
    "\n",
    "# Median = 5000 mAh → Typical for most Android smartphones today.\n",
    "\n",
    "# Low-End Devices:\n",
    "\n",
    "# Devices with 2000–4000 mAh may be budget phones or older models.\n",
    "\n",
    "# High-End / Special Devices:\n",
    "\n",
    "# Max = 11200 mAh → These are outliers, possibly:\n",
    "\n",
    "# Phones with very large batteries.\n",
    "\n",
    "# Tablets or gaming phones.\n",
    "\n",
    "# Data entry errors (if suspicious).\n",
    "\n",
    "# Spread:\n",
    "\n",
    "# Standard deviation of ~1357 mAh is relatively large.\n",
    "\n",
    "# Suggests a wide battery size distribution, which might need segmentation."
   ]
  },
  {
   "cell_type": "code",
   "execution_count": 58,
   "id": "ec752437-3164-42b0-bd89-c6c805774c91",
   "metadata": {},
   "outputs": [
    {
     "name": "stdout",
     "output_type": "stream",
     "text": [
      "Q1 =  4400.0\n",
      "Q3 =  5073.75\n",
      "IQR =  673.75\n",
      "lower limit =  3389.375\n",
      "upper limit =  6084.375\n",
      "Outliers =  12      3200\n",
      "13      3200\n",
      "14      3200\n",
      "24      3200\n",
      "25      3200\n",
      "       ...  \n",
      "892     9000\n",
      "893    10500\n",
      "894     8500\n",
      "925    10000\n",
      "926    10000\n",
      "Name: Battery Capacity(in mAh), Length: 154, dtype: int32\n"
     ]
    },
    {
     "data": {
      "text/plain": [
       "154"
      ]
     },
     "execution_count": 58,
     "metadata": {},
     "output_type": "execute_result"
    }
   ],
   "source": [
    "q1=df[\"Battery Capacity(in mAh)\"].quantile(0.25)\n",
    "q3=df[\"Battery Capacity(in mAh)\"].quantile(0.75)\n",
    "IQR=q3-q1\n",
    "ll=q1-1.5*IQR\n",
    "ul=q3+1.5*IQR\n",
    "outliers=df[\"Battery Capacity(in mAh)\"][(df[\"Battery Capacity(in mAh)\"]<ll) | (df[\"Battery Capacity(in mAh)\"]>ul)]\n",
    "print(\"Q1 = \",q1)\n",
    "print(\"Q3 = \",q3)\n",
    "print(\"IQR = \",IQR)\n",
    "print(\"lower limit = \",ll)\n",
    "print(\"upper limit = \",ul)\n",
    "print(\"Outliers = \",outliers)\n",
    "len(outliers)"
   ]
  },
  {
   "cell_type": "markdown",
   "id": "e9cda5c7-7aff-4b5d-9654-7178365413b8",
   "metadata": {},
   "source": [
    "# Observation:- Total outliers are 154."
   ]
  },
  {
   "cell_type": "code",
   "execution_count": 59,
   "id": "11f171e8-36ee-42c5-98ec-7ecffb5de0cc",
   "metadata": {},
   "outputs": [
    {
     "data": {
      "text/plain": [
       "['6.1 inches',\n",
       " '6.7 inches',\n",
       " '5.4 inches',\n",
       " '5.8 inches',\n",
       " '6.5 inches',\n",
       " '10.9 inches',\n",
       " '10.2 inches',\n",
       " '7.9 inches',\n",
       " '11 inches',\n",
       " '12.9 inches',\n",
       " '13 inches',\n",
       " '6.8 inches',\n",
       " '6.6 inches',\n",
       " '7.6 inches',\n",
       " '6.4 inches',\n",
       " '6.9 inches',\n",
       " '6.3 inches',\n",
       " '5.3 inches',\n",
       " '6.0 inches',\n",
       " '5.5 inches',\n",
       " '5.7 inches',\n",
       " '5.2 inches',\n",
       " '14.6 inches',\n",
       " '12.4 inches',\n",
       " '8.7 inches',\n",
       " '10.5 inches',\n",
       " '8 inches',\n",
       " '10.1 inches',\n",
       " '6.74 inches',\n",
       " '6.72 inches',\n",
       " '7.8 inches',\n",
       " '6.55 inches',\n",
       " '6.43 inches',\n",
       " '6.49 inches',\n",
       " '6.52 inches',\n",
       " '6.78 inches',\n",
       " '6.59 inches',\n",
       " '6.44 inches',\n",
       " '6.41 inches',\n",
       " '6.01 inches',\n",
       " '6.67 inches',\n",
       " '6.28 inches',\n",
       " '11.61 inches',\n",
       " '6.31 inches',\n",
       " '6.58 inches',\n",
       " '6.38 inches',\n",
       " '6.56 inches',\n",
       " '5.88 inches',\n",
       " '6.22 inches',\n",
       " '5.0 inches',\n",
       " '6.51 inches',\n",
       " '6.35 inches',\n",
       " '6.53 inches',\n",
       " '6.39 inches',\n",
       " '6.47 inches',\n",
       " '10.4 inches',\n",
       " '12.3 inches',\n",
       " '7.82 inches',\n",
       " '6.83 inches',\n",
       " '11.6 inches',\n",
       " '12.1 inches',\n",
       " '6.82 inches',\n",
       " '7.1 inches',\n",
       " '11.5 inches',\n",
       " '6.73 inches',\n",
       " '6.36 inches',\n",
       " '6.09 inches',\n",
       " '6.7 inches (main), 2.7 inches (external)',\n",
       " '6.9 inches (internal), 4.0 inches (external)',\n",
       " '6.7 inches (internal), 3.6 inches (external)',\n",
       " '6.9 inches (unfolded)',\n",
       " '8.0 inches (unfolded)',\n",
       " '6.57 inches',\n",
       " '7.8 inches (unfolded)',\n",
       " '7.85 inches (unfolded)',\n",
       " '7.93 inches',\n",
       " '7.92 inches',\n",
       " '12.2 inches',\n",
       " '13.2 inches',\n",
       " '5.6 inches',\n",
       " '6.2 inches',\n",
       " '6.34 inches',\n",
       " '6.71 inches',\n",
       " '7.85 inches',\n",
       " '9.7 inches',\n",
       " '11.0 inches',\n",
       " '6.95 inches',\n",
       " '6.85 inches',\n",
       " '6.63 inches',\n",
       " '7.09 inches',\n",
       " '6.81 inches',\n",
       " '6.76 inches',\n",
       " '12.0 inches',\n",
       " '12.6 inches',\n",
       " '13.0 inches',\n",
       " '13.5 inches',\n",
       " '6.79 inches']"
      ]
     },
     "execution_count": 59,
     "metadata": {},
     "output_type": "execute_result"
    }
   ],
   "source": [
    "df[\"Screen Size\"].unique().tolist()"
   ]
  },
  {
   "cell_type": "code",
   "execution_count": 60,
   "id": "6a1907ae-869c-461a-aec2-9c43cec76aef",
   "metadata": {},
   "outputs": [
    {
     "data": {
      "text/html": [
       "<div>\n",
       "<style scoped>\n",
       "    .dataframe tbody tr th:only-of-type {\n",
       "        vertical-align: middle;\n",
       "    }\n",
       "\n",
       "    .dataframe tbody tr th {\n",
       "        vertical-align: top;\n",
       "    }\n",
       "\n",
       "    .dataframe thead th {\n",
       "        text-align: right;\n",
       "    }\n",
       "</style>\n",
       "<table border=\"1\" class=\"dataframe\">\n",
       "  <thead>\n",
       "    <tr style=\"text-align: right;\">\n",
       "      <th></th>\n",
       "      <th>Company Name</th>\n",
       "      <th>Model Name</th>\n",
       "      <th>Mobile Weight(in gram)</th>\n",
       "      <th>RAM(in GB)</th>\n",
       "      <th>Front Camera</th>\n",
       "      <th>Back Camera</th>\n",
       "      <th>Processor</th>\n",
       "      <th>Battery Capacity(in mAh)</th>\n",
       "      <th>Screen Size</th>\n",
       "      <th>Launched Price (Pakistan)</th>\n",
       "      <th>Launched Price (India)</th>\n",
       "      <th>Launched Price (China)</th>\n",
       "      <th>Launched Price (USA)</th>\n",
       "      <th>Launched Price (Dubai)</th>\n",
       "      <th>Launched Year</th>\n",
       "    </tr>\n",
       "  </thead>\n",
       "  <tbody>\n",
       "    <tr>\n",
       "      <th>568</th>\n",
       "      <td>Motorola</td>\n",
       "      <td>Razr 128GB</td>\n",
       "      <td>192.0</td>\n",
       "      <td>8.0</td>\n",
       "      <td>32MP</td>\n",
       "      <td>50MP</td>\n",
       "      <td>Snapdragon 8+ Gen 1</td>\n",
       "      <td>3500</td>\n",
       "      <td>6.7 inches (main), 2.7 inches (external)</td>\n",
       "      <td>PKR 199,999</td>\n",
       "      <td>INR 59,999</td>\n",
       "      <td>CNY 5,999</td>\n",
       "      <td>USD 999</td>\n",
       "      <td>AED 3,699</td>\n",
       "      <td>2023</td>\n",
       "    </tr>\n",
       "    <tr>\n",
       "      <th>569</th>\n",
       "      <td>Motorola</td>\n",
       "      <td>Razr 256GB</td>\n",
       "      <td>192.0</td>\n",
       "      <td>12.0</td>\n",
       "      <td>32MP</td>\n",
       "      <td>50MP</td>\n",
       "      <td>Snapdragon 8+ Gen 1</td>\n",
       "      <td>3500</td>\n",
       "      <td>6.7 inches (main), 2.7 inches (external)</td>\n",
       "      <td>PKR 219,999</td>\n",
       "      <td>INR 64,999</td>\n",
       "      <td>CNY 6,499</td>\n",
       "      <td>USD 1,099</td>\n",
       "      <td>AED 3,999</td>\n",
       "      <td>2023</td>\n",
       "    </tr>\n",
       "  </tbody>\n",
       "</table>\n",
       "</div>"
      ],
      "text/plain": [
       "    Company Name  Model Name  Mobile Weight(in gram)  RAM(in GB) Front Camera  \\\n",
       "568     Motorola  Razr 128GB                   192.0         8.0         32MP   \n",
       "569     Motorola  Razr 256GB                   192.0        12.0         32MP   \n",
       "\n",
       "    Back Camera            Processor  Battery Capacity(in mAh)  \\\n",
       "568        50MP  Snapdragon 8+ Gen 1                      3500   \n",
       "569        50MP  Snapdragon 8+ Gen 1                      3500   \n",
       "\n",
       "                                  Screen Size Launched Price (Pakistan)  \\\n",
       "568  6.7 inches (main), 2.7 inches (external)               PKR 199,999   \n",
       "569  6.7 inches (main), 2.7 inches (external)               PKR 219,999   \n",
       "\n",
       "    Launched Price (India) Launched Price (China) Launched Price (USA)  \\\n",
       "568             INR 59,999              CNY 5,999              USD 999   \n",
       "569             INR 64,999              CNY 6,499            USD 1,099   \n",
       "\n",
       "    Launched Price (Dubai)  Launched Year  \n",
       "568              AED 3,699           2023  \n",
       "569              AED 3,999           2023  "
      ]
     },
     "execution_count": 60,
     "metadata": {},
     "output_type": "execute_result"
    }
   ],
   "source": [
    "df[df[\"Screen Size\"]=='6.7 inches (main), 2.7 inches (external)']"
   ]
  },
  {
   "cell_type": "code",
   "execution_count": 61,
   "id": "fdec3d49-3569-40b6-b6df-c7f051b4d4aa",
   "metadata": {},
   "outputs": [
    {
     "data": {
      "text/plain": [
       "Screen Size\n",
       "6.7 inches               124\n",
       "6.5 inches                76\n",
       "6.67 inches               68\n",
       "6.6 inches                64\n",
       "6.78 inches               61\n",
       "                        ... \n",
       "8.0 inches (unfolded)      1\n",
       "7.8 inches (unfolded)      1\n",
       "5.0 inches                 1\n",
       "7.93 inches                1\n",
       "6.79 inches                1\n",
       "Name: count, Length: 97, dtype: int64"
      ]
     },
     "execution_count": 61,
     "metadata": {},
     "output_type": "execute_result"
    }
   ],
   "source": [
    "df[\"Screen Size\"].value_counts()"
   ]
  },
  {
   "cell_type": "code",
   "execution_count": null,
   "id": "1692def9-8efd-4de7-b40b-e3c6f2ee0c34",
   "metadata": {},
   "outputs": [],
   "source": []
  },
  {
   "cell_type": "code",
   "execution_count": null,
   "id": "ea5393c1-b56e-402e-b867-3771e6ed8cb2",
   "metadata": {},
   "outputs": [],
   "source": []
  },
  {
   "cell_type": "code",
   "execution_count": null,
   "id": "a220e280-65cc-454c-ad79-4d1e8546d147",
   "metadata": {},
   "outputs": [],
   "source": []
  },
  {
   "cell_type": "code",
   "execution_count": null,
   "id": "53fc2a3d-7813-4ab1-9320-6d30f47e21b2",
   "metadata": {},
   "outputs": [],
   "source": []
  },
  {
   "cell_type": "code",
   "execution_count": 62,
   "id": "d0f28826-e094-4656-9364-1577db21c4e7",
   "metadata": {},
   "outputs": [
    {
     "data": {
      "text/plain": [
       "['PKR 224,999',\n",
       " 'PKR 234,999',\n",
       " 'PKR 244,999',\n",
       " 'PKR 249,999',\n",
       " 'PKR 259,999',\n",
       " 'PKR 274,999',\n",
       " 'PKR 284,999',\n",
       " 'PKR 294,999',\n",
       " 'PKR 314,999',\n",
       " 'PKR 324,999',\n",
       " 'PKR 344,999',\n",
       " 'PKR 204,999',\n",
       " 'PKR 214,999',\n",
       " 'PKR 264,999',\n",
       " 'PKR 304,999',\n",
       " 'PKR 184,999',\n",
       " 'PKR 194,999',\n",
       " 'PKR 364,999',\n",
       " 'PKR 174,999',\n",
       " 'PKR 354,999',\n",
       " 'PKR 384,999',\n",
       " 'PKR 334,999',\n",
       " 'PKR 159,999',\n",
       " 'PKR 169,999',\n",
       " 'PKR 179,999',\n",
       " 'PKR 219,999',\n",
       " 'PKR 239,999',\n",
       " 'PKR 269,999',\n",
       " 'PKR 289,999',\n",
       " 'PKR 309,999',\n",
       " 'PKR 164,999',\n",
       " 'PKR 149,999',\n",
       " 'PKR 79,999',\n",
       " 'PKR 89,999',\n",
       " 'PKR 49,999',\n",
       " 'PKR 59,999',\n",
       " 'PKR 69,999',\n",
       " 'PKR 189,999',\n",
       " 'PKR 279,999',\n",
       " 'PKR 359,999',\n",
       " 'PKR 399,999',\n",
       " 'PKR 450,000',\n",
       " 'PKR 480,000',\n",
       " 'PKR 400,000',\n",
       " 'PKR 430,000',\n",
       " 'PKR 350,000',\n",
       " 'PKR 380,000',\n",
       " 'PKR 460,000',\n",
       " 'PKR 360,000',\n",
       " 'PKR 390,000',\n",
       " 'PKR 320,000',\n",
       " 'PKR 420,000',\n",
       " 'PKR 300,000',\n",
       " 'PKR 330,000',\n",
       " 'PKR 500,000',\n",
       " 'PKR 550,000',\n",
       " 'PKR 530,000',\n",
       " 'PKR 85,000',\n",
       " 'PKR 95,000',\n",
       " 'PKR 75,000',\n",
       " 'PKR 70,000',\n",
       " 'PKR 80,000',\n",
       " 'PKR 60,000',\n",
       " 'PKR 50,000',\n",
       " 'PKR 105,000',\n",
       " 'PKR 180,000',\n",
       " 'PKR 200,000',\n",
       " 'PKR 150,000',\n",
       " 'PKR 170,000',\n",
       " 'PKR 160,000',\n",
       " 'PKR 140,000',\n",
       " 'PKR 120,000',\n",
       " 'PKR 45,000',\n",
       " 'PKR 40,000',\n",
       " 'PKR 25,000',\n",
       " 'PKR 65,000',\n",
       " 'PKR 280,000',\n",
       " 'PKR 260,000',\n",
       " 'PKR 230,000',\n",
       " 'PKR 250,000',\n",
       " 'PKR 100,000',\n",
       " 'PKR 68,000',\n",
       " 'PKR 35,000',\n",
       " 'PKR 28,000',\n",
       " 'PKR 119,999',\n",
       " 'PKR 55,000',\n",
       " 'PKR 299,999',\n",
       " 'PKR 199,999',\n",
       " 'PKR 39,999',\n",
       " 'PKR 29,999',\n",
       " 'PKR 139,999',\n",
       " 'PKR 64,999',\n",
       " 'PKR 54,999',\n",
       " 'PKR 109,999',\n",
       " 'PKR 99,999',\n",
       " 'PKR 94,999',\n",
       " 'PKR 229,999',\n",
       " 'PKR 104,999',\n",
       " 'PKR 34,999',\n",
       " 'PKR 42,999',\n",
       " 'PKR 22,999',\n",
       " 'PKR 24,999',\n",
       " 'PKR 19,999',\n",
       " 'PKR 27,999',\n",
       " 'PKR 18,999',\n",
       " 'PKR 44,999',\n",
       " 'PKR 18,499',\n",
       " 'PKR 22,499',\n",
       " 'PKR 84,999',\n",
       " 'PKR 85,999',\n",
       " 'PKR 74,999',\n",
       " 'PKR 26,999',\n",
       " 'PKR 58,999',\n",
       " 'PKR 62,999',\n",
       " 'PKR 129,999',\n",
       " 'PKR 32,999',\n",
       " 'PKR 25,999',\n",
       " 'PKR 23,999',\n",
       " 'PKR 21,999',\n",
       " 'PKR 37,999',\n",
       " 'PKR 47,999',\n",
       " 'PKR 52,999',\n",
       " 'PKR 36,999',\n",
       " 'PKR 124,999',\n",
       " 'PKR 57,999',\n",
       " 'PKR 61,999',\n",
       " 'PKR 56,999',\n",
       " 'PKR 209,999',\n",
       " 'PKR 349,999',\n",
       " 'PKR 389,999',\n",
       " 'PKR 134,999',\n",
       " 'PKR 48,999',\n",
       " 'PKR 46,999',\n",
       " 'PKR 38,999',\n",
       " 'PKR 429,999',\n",
       " 'PKR 319,999',\n",
       " 'PKR 449,999',\n",
       " 'PKR 339,999',\n",
       " 'PKR 469,999',\n",
       " 'PKR 52,000',\n",
       " 'PKR 161,500',\n",
       " 'PKR 197,000',\n",
       " 'PKR 55,999',\n",
       " 'PKR 45,999',\n",
       " 'PKR 72,999',\n",
       " 'PKR 35,999',\n",
       " 'PKR 28,999',\n",
       " 'PKR 30,999',\n",
       " 'PKR 41,999',\n",
       " 'PKR 31,999',\n",
       " 'PKR 15,999',\n",
       " 'PKR 369,999',\n",
       " 'PKR 66,220',\n",
       " 'PKR 71,220',\n",
       " 'PKR 604,999',\n",
       " 'PKR 544,999',\n",
       " 'Not available']"
      ]
     },
     "execution_count": 62,
     "metadata": {},
     "output_type": "execute_result"
    }
   ],
   "source": [
    "df[\"Launched Price (Pakistan)\"].unique().tolist()"
   ]
  },
  {
   "cell_type": "code",
   "execution_count": 63,
   "id": "95930549-afdf-4c10-b215-63b36aac6b74",
   "metadata": {},
   "outputs": [
    {
     "data": {
      "text/plain": [
       "157"
      ]
     },
     "execution_count": 63,
     "metadata": {},
     "output_type": "execute_result"
    }
   ],
   "source": [
    "df[\"Launched Price (Pakistan)\"].nunique()"
   ]
  },
  {
   "cell_type": "markdown",
   "id": "3fdef89c-63a0-41ec-89db-5c007a96f25d",
   "metadata": {},
   "source": [
    "# Observation:- to get 'Not available' value inside the column."
   ]
  },
  {
   "cell_type": "code",
   "execution_count": 64,
   "id": "cdc8781a-da32-46a9-8dd9-b5f07d0bb685",
   "metadata": {},
   "outputs": [
    {
     "data": {
      "text/html": [
       "<div>\n",
       "<style scoped>\n",
       "    .dataframe tbody tr th:only-of-type {\n",
       "        vertical-align: middle;\n",
       "    }\n",
       "\n",
       "    .dataframe tbody tr th {\n",
       "        vertical-align: top;\n",
       "    }\n",
       "\n",
       "    .dataframe thead th {\n",
       "        text-align: right;\n",
       "    }\n",
       "</style>\n",
       "<table border=\"1\" class=\"dataframe\">\n",
       "  <thead>\n",
       "    <tr style=\"text-align: right;\">\n",
       "      <th></th>\n",
       "      <th>Company Name</th>\n",
       "      <th>Model Name</th>\n",
       "      <th>Mobile Weight(in gram)</th>\n",
       "      <th>RAM(in GB)</th>\n",
       "      <th>Front Camera</th>\n",
       "      <th>Back Camera</th>\n",
       "      <th>Processor</th>\n",
       "      <th>Battery Capacity(in mAh)</th>\n",
       "      <th>Screen Size</th>\n",
       "      <th>Launched Price (Pakistan)</th>\n",
       "      <th>Launched Price (India)</th>\n",
       "      <th>Launched Price (China)</th>\n",
       "      <th>Launched Price (USA)</th>\n",
       "      <th>Launched Price (Dubai)</th>\n",
       "      <th>Launched Year</th>\n",
       "    </tr>\n",
       "  </thead>\n",
       "  <tbody>\n",
       "    <tr>\n",
       "      <th>929</th>\n",
       "      <td>Samsung</td>\n",
       "      <td>Galaxy Z Fold6 1TB</td>\n",
       "      <td>239.0</td>\n",
       "      <td>12.0</td>\n",
       "      <td>10MP, 4MP (UDC)</td>\n",
       "      <td>50MP</td>\n",
       "      <td>Snapdragon 8 Gen 3</td>\n",
       "      <td>4400</td>\n",
       "      <td>7.6 inches</td>\n",
       "      <td>Not available</td>\n",
       "      <td>INR 200,999</td>\n",
       "      <td>CNY 17,999</td>\n",
       "      <td>USD 2,259</td>\n",
       "      <td>AED 8,699</td>\n",
       "      <td>2024</td>\n",
       "    </tr>\n",
       "  </tbody>\n",
       "</table>\n",
       "</div>"
      ],
      "text/plain": [
       "    Company Name          Model Name  Mobile Weight(in gram)  RAM(in GB)  \\\n",
       "929      Samsung  Galaxy Z Fold6 1TB                   239.0        12.0   \n",
       "\n",
       "        Front Camera Back Camera           Processor  \\\n",
       "929  10MP, 4MP (UDC)        50MP  Snapdragon 8 Gen 3   \n",
       "\n",
       "     Battery Capacity(in mAh) Screen Size Launched Price (Pakistan)  \\\n",
       "929                      4400  7.6 inches             Not available   \n",
       "\n",
       "    Launched Price (India) Launched Price (China) Launched Price (USA)  \\\n",
       "929            INR 200,999             CNY 17,999            USD 2,259   \n",
       "\n",
       "    Launched Price (Dubai)  Launched Year  \n",
       "929              AED 8,699           2024  "
      ]
     },
     "execution_count": 64,
     "metadata": {},
     "output_type": "execute_result"
    }
   ],
   "source": [
    "df[df[\"Launched Price (Pakistan)\"]=='Not available']"
   ]
  },
  {
   "cell_type": "markdown",
   "id": "9af796fc-31a7-4225-946c-52c60bfd72be",
   "metadata": {},
   "source": [
    "# Observation:- index number of not available value =929"
   ]
  },
  {
   "cell_type": "code",
   "execution_count": 65,
   "id": "df93d8b4-f3fa-46f6-b7b5-a03bd9150104",
   "metadata": {},
   "outputs": [],
   "source": [
    "df.rename(columns={\"Launched Price (Pakistan)\":\"Launched Price(Pakistan) in PKR\"},inplace=True)"
   ]
  },
  {
   "cell_type": "markdown",
   "id": "2491434f-a35d-4ee9-aac5-44eae89aacd8",
   "metadata": {},
   "source": [
    "# Observation:- Renamed the column from \"Launched Price (Pakistan)\" to \"Launched Price(Pakistan) in PKR\"."
   ]
  },
  {
   "cell_type": "code",
   "execution_count": 66,
   "id": "105b3c93-5f8b-4c32-93d2-7068189e3efa",
   "metadata": {},
   "outputs": [],
   "source": [
    "df[\"Launched Price(Pakistan) in PKR\"]=df[\"Launched Price(Pakistan) in PKR\"].str.replace(\"PKR\",\"\")"
   ]
  },
  {
   "cell_type": "markdown",
   "id": "2a672a70-8229-456c-a3b0-a4e8444e4fd8",
   "metadata": {},
   "source": [
    "# Observation:- Removed the value \"PKR\" from column \"Launched Price(Pakistan) in PKR\"."
   ]
  },
  {
   "cell_type": "code",
   "execution_count": 67,
   "id": "1efbbfe6-2958-4767-a176-3fdb87232c2d",
   "metadata": {},
   "outputs": [],
   "source": [
    "df[\"Launched Price(Pakistan) in PKR\"]=df[\"Launched Price(Pakistan) in PKR\"].str.replace(\"Not available\",\"0\")"
   ]
  },
  {
   "cell_type": "markdown",
   "id": "ca3f3d9b-af7a-4d3c-8970-981671d315c0",
   "metadata": {},
   "source": [
    "# Observation:- Replaced the value \"Not available\" by \"0\" from column \"Launched Price(Pakistan) in PKR\""
   ]
  },
  {
   "cell_type": "code",
   "execution_count": 68,
   "id": "ea73f30c-5fdb-4d5e-a89d-7f1dc53ded04",
   "metadata": {},
   "outputs": [],
   "source": [
    "df[\"Launched Price(Pakistan) in PKR\"]=df[\"Launched Price(Pakistan) in PKR\"].str.replace(\",\",\"\")"
   ]
  },
  {
   "cell_type": "markdown",
   "id": "b47f76e3-284e-4cce-aa3d-bd35ad188198",
   "metadata": {},
   "source": [
    "# Observation:- Removed \",\"  from column \"Launched Price(Pakistan) in PKR\""
   ]
  },
  {
   "cell_type": "code",
   "execution_count": 69,
   "id": "c77806d9-9342-485b-84bb-59d87ef28b76",
   "metadata": {},
   "outputs": [],
   "source": [
    "df[\"Launched Price(Pakistan) in PKR\"]=df[\"Launched Price(Pakistan) in PKR\"].astype(int)"
   ]
  },
  {
   "cell_type": "markdown",
   "id": "7e0e5deb-5f79-4576-9b66-7a213a48d6bd",
   "metadata": {},
   "source": [
    "# Observation:- Convert the datatype from string to int."
   ]
  },
  {
   "cell_type": "code",
   "execution_count": 70,
   "id": "adb1167e-8fdb-47fc-b792-6008b36970c2",
   "metadata": {},
   "outputs": [
    {
     "data": {
      "text/plain": [
       "count       928.000000\n",
       "mean     125129.423491\n",
       "std      101661.762836\n",
       "min           0.000000\n",
       "25%       54999.000000\n",
       "50%       84999.000000\n",
       "75%      179999.000000\n",
       "max      604999.000000\n",
       "Name: Launched Price(Pakistan) in PKR, dtype: float64"
      ]
     },
     "execution_count": 70,
     "metadata": {},
     "output_type": "execute_result"
    }
   ],
   "source": [
    "df[\"Launched Price(Pakistan) in PKR\"].describe()"
   ]
  },
  {
   "cell_type": "markdown",
   "id": "3afcaa50-ec8c-453b-ba6c-850377baacb7",
   "metadata": {},
   "source": [
    "# Observation:- mean>median(right skewed data\n",
    "# Standard Deviation: PKR 101,579\n",
    "# Prices are highly varied, indicating presence of low, mid, and premium segments"
   ]
  },
  {
   "cell_type": "code",
   "execution_count": 71,
   "id": "ee017ebc-6a6e-4cf7-a89d-928240f7d8b5",
   "metadata": {},
   "outputs": [],
   "source": [
    "df[\"Launched Price(Pakistan) in PKR\"]=df[\"Launched Price(Pakistan) in PKR\"].replace(0,df[\"Launched Price(Pakistan) in PKR\"].median())"
   ]
  },
  {
   "cell_type": "markdown",
   "id": "b311f81b-0ebf-41f0-b77d-5f3aa3a72e9d",
   "metadata": {},
   "source": [
    "# Observation:- Replaced the value \"0\" by \"median of that column\" from column \"Launched Price(Pakistan) in PKR\""
   ]
  },
  {
   "cell_type": "code",
   "execution_count": 72,
   "id": "103d39af-b06e-4809-863a-9a30a5fb486f",
   "metadata": {},
   "outputs": [
    {
     "data": {
      "text/plain": [
       "156"
      ]
     },
     "execution_count": 72,
     "metadata": {},
     "output_type": "execute_result"
    }
   ],
   "source": [
    "df[\"Launched Price(Pakistan) in PKR\"].nunique()"
   ]
  },
  {
   "cell_type": "markdown",
   "id": "e9ba6efe-41e7-424c-b12a-febd785b83e3",
   "metadata": {},
   "source": [
    "# Observation:- Total 157 unique price in df[\"Launched Price(Pakistan) in PKR\"]"
   ]
  },
  {
   "cell_type": "code",
   "execution_count": 73,
   "id": "6f2703d9-c38e-454c-b776-3bc370ed145e",
   "metadata": {},
   "outputs": [
    {
     "name": "stdout",
     "output_type": "stream",
     "text": [
      "Q1 =  54999.0\n",
      "Q3 =  179999.0\n",
      "IQR =  125000.0\n",
      "lower limit =  -132501.0\n",
      "upper limit =  367499.0\n",
      "Outliers =  47     384999\n",
      "59     384999\n",
      "96     399999\n",
      "97     450000\n",
      "98     480000\n",
      "99     400000\n",
      "100    430000\n",
      "102    380000\n",
      "103    430000\n",
      "104    460000\n",
      "106    390000\n",
      "109    420000\n",
      "110    450000\n",
      "112    380000\n",
      "115    500000\n",
      "116    550000\n",
      "118    380000\n",
      "119    480000\n",
      "120    530000\n",
      "661    389999\n",
      "676    429999\n",
      "679    449999\n",
      "682    469999\n",
      "708    399999\n",
      "719    399999\n",
      "847    369999\n",
      "858    389999\n",
      "869    389999\n",
      "927    604999\n",
      "928    544999\n",
      "Name: Launched Price(Pakistan) in PKR, dtype: int32\n"
     ]
    },
    {
     "data": {
      "text/plain": [
       "30"
      ]
     },
     "execution_count": 73,
     "metadata": {},
     "output_type": "execute_result"
    }
   ],
   "source": [
    "q1=df[\"Launched Price(Pakistan) in PKR\"].quantile(0.25)\n",
    "q3=df[\"Launched Price(Pakistan) in PKR\"].quantile(0.75)\n",
    "IQR=q3-q1\n",
    "ll=q1-1.5*IQR\n",
    "ul=q3+1.5*IQR\n",
    "outliers=df[\"Launched Price(Pakistan) in PKR\"][(df[\"Launched Price(Pakistan) in PKR\"]<ll) | (df[\"Launched Price(Pakistan) in PKR\"]>ul)]\n",
    "print(\"Q1 = \",q1)\n",
    "print(\"Q3 = \",q3)\n",
    "print(\"IQR = \",IQR)\n",
    "print(\"lower limit = \",ll)\n",
    "print(\"upper limit = \",ul)\n",
    "print(\"Outliers = \",outliers)\n",
    "len(outliers)"
   ]
  },
  {
   "cell_type": "markdown",
   "id": "8080c504-e048-45e9-bfc7-0fd3a20d4da6",
   "metadata": {},
   "source": [
    "# Observation:- Total 30 outlier in df[\"Launched Price(Pakistan) in PKR\"]"
   ]
  },
  {
   "cell_type": "code",
   "execution_count": 74,
   "id": "bdcc2a82-01d1-4583-9c6f-c5114f572c89",
   "metadata": {},
   "outputs": [
    {
     "data": {
      "text/plain": [
       "['INR 79,999',\n",
       " 'INR 84,999',\n",
       " 'INR 89,999',\n",
       " 'INR 94,999',\n",
       " 'INR 104,999',\n",
       " 'INR 99,999',\n",
       " 'INR 114,999',\n",
       " 'INR 109,999',\n",
       " 'INR 124,999',\n",
       " 'INR 74,999',\n",
       " 'INR 119,999',\n",
       " 'INR 134,999',\n",
       " 'INR 69,999',\n",
       " 'INR 144,999',\n",
       " 'INR 69,900',\n",
       " 'INR 74,900',\n",
       " 'INR 84,900',\n",
       " 'INR 94,900',\n",
       " 'INR 119,900',\n",
       " 'INR 129,900',\n",
       " 'INR 139,900',\n",
       " 'INR 149,900',\n",
       " 'INR 64,900',\n",
       " 'INR 99,900',\n",
       " 'INR 109,900',\n",
       " 'INR 89,900',\n",
       " 'INR 54,900',\n",
       " 'INR 29,900',\n",
       " 'INR 39,900',\n",
       " 'INR 49,900',\n",
       " 'INR 71,900',\n",
       " 'INR 159,900',\n",
       " 'INR 179,900',\n",
       " 'INR 199,900',\n",
       " 'INR 104,900',\n",
       " 'INR 114,900',\n",
       " 'INR 79,900',\n",
       " 'INR 154,900',\n",
       " 'INR 174,900',\n",
       " 'INR 134,900',\n",
       " 'INR 27,999',\n",
       " 'INR 32,999',\n",
       " 'INR 22,999',\n",
       " 'INR 19,999',\n",
       " 'INR 24,999',\n",
       " 'INR 18,499',\n",
       " 'INR 21,999',\n",
       " 'INR 14,999',\n",
       " 'INR 23,999',\n",
       " 'INR 26,999',\n",
       " 'INR 17,999',\n",
       " 'INR 20,999',\n",
       " 'INR 12,999',\n",
       " 'INR 15,999',\n",
       " 'INR 18,999',\n",
       " 'INR 1,04,999',\n",
       " 'INR 77,999',\n",
       " 'INR 64,999',\n",
       " 'INR 59,999',\n",
       " 'INR 28,999',\n",
       " 'INR 17,499',\n",
       " 'INR 18,990',\n",
       " 'INR 9,990',\n",
       " 'INR 32,990',\n",
       " 'INR 22,990',\n",
       " 'INR 19,990',\n",
       " 'INR 1,14,999',\n",
       " 'INR 85,999',\n",
       " 'INR 49,999',\n",
       " 'INR 1,09,999',\n",
       " 'INR 16,999',\n",
       " 'INR 11,999',\n",
       " 'INR 54,999',\n",
       " 'INR 44,999',\n",
       " 'INR 9,999',\n",
       " 'INR 8,499',\n",
       " 'INR 34,999',\n",
       " 'INR 39,999',\n",
       " 'INR 45,999',\n",
       " 'INR 42,999',\n",
       " 'INR 41,999',\n",
       " 'INR 38,999',\n",
       " 'INR 50,999',\n",
       " 'INR 37,999',\n",
       " 'INR 36,999',\n",
       " 'INR 58,999',\n",
       " 'INR 129,999',\n",
       " 'INR 139,999',\n",
       " 'INR 149,999',\n",
       " 'INR 29,999',\n",
       " 'INR 13,999',\n",
       " 'INR 10,999',\n",
       " 'INR 27,990',\n",
       " 'INR 31,990',\n",
       " 'INR 33,990',\n",
       " 'INR 10,990',\n",
       " 'INR 13,990',\n",
       " 'INR 24,990',\n",
       " 'INR 13,490',\n",
       " 'INR 26,990',\n",
       " 'INR 35,990',\n",
       " 'INR 39,990',\n",
       " 'INR 14,990',\n",
       " 'INR 11,990',\n",
       " 'INR 21,990',\n",
       " 'INR 25,999',\n",
       " 'INR 47,999',\n",
       " 'INR 31,999',\n",
       " 'INR 43,999',\n",
       " 'INR 159,999',\n",
       " 'INR 52,999',\n",
       " 'INR 46,999',\n",
       " 'INR 19,000',\n",
       " 'INR 8,999',\n",
       " 'INR 18,000',\n",
       " 'INR 20,000',\n",
       " 'INR 16,990',\n",
       " 'INR 65,999',\n",
       " 'INR 28,756',\n",
       " 'INR 30,999',\n",
       " 'INR 19,499',\n",
       " 'INR 13,499',\n",
       " 'INR 53,999',\n",
       " 'INR 33,999',\n",
       " 'INR 35,999',\n",
       " 'INR 7,499',\n",
       " 'INR 21,400',\n",
       " 'INR 249,999',\n",
       " 'INR 199,999',\n",
       " 'INR 259,999',\n",
       " 'INR 274,999',\n",
       " 'INR 67,999',\n",
       " 'INR 12,499',\n",
       " 'INR 9,499',\n",
       " 'INR 49,990',\n",
       " 'INR 58,590',\n",
       " 'INR 179,999',\n",
       " 'INR 6,999',\n",
       " 'INR 169,999',\n",
       " 'INR 11,499',\n",
       " 'INR 10,499',\n",
       " 'INR 7,999',\n",
       " 'INR 5,999',\n",
       " 'INR 72,999',\n",
       " 'INR 164,999',\n",
       " 'INR 176,999',\n",
       " 'INR 200,999']"
      ]
     },
     "execution_count": 74,
     "metadata": {},
     "output_type": "execute_result"
    }
   ],
   "source": [
    "df[\"Launched Price (India)\"].unique().tolist()"
   ]
  },
  {
   "cell_type": "code",
   "execution_count": 75,
   "id": "bc17b20e-3d20-4a1c-93e3-7623ac50a01e",
   "metadata": {},
   "outputs": [
    {
     "data": {
      "text/plain": [
       "147"
      ]
     },
     "execution_count": 75,
     "metadata": {},
     "output_type": "execute_result"
    }
   ],
   "source": [
    "df[\"Launched Price (India)\"].nunique()"
   ]
  },
  {
   "cell_type": "markdown",
   "id": "237fed74-6c37-49b5-a482-a48b0507f64c",
   "metadata": {},
   "source": [
    "# Observation:- Total 147 unique values are presemt in column \"Launched Price (India)\""
   ]
  },
  {
   "cell_type": "code",
   "execution_count": 76,
   "id": "841a3b92-0c25-491b-8f27-a0fd15a9a728",
   "metadata": {},
   "outputs": [],
   "source": [
    "df.rename(columns={\"Launched Price (India)\":\"Launched Price(India) in INR\"},inplace=True)"
   ]
  },
  {
   "cell_type": "markdown",
   "id": "1f64473d-c7f5-4688-92f1-fd10b892c06b",
   "metadata": {},
   "source": [
    "# Observation:- Renamed the column from \"Launched Price (India)\" to \"Launched Price(India) in INR\"."
   ]
  },
  {
   "cell_type": "code",
   "execution_count": 77,
   "id": "24f6b3de-8ee4-4884-b1fb-0a7fac5fd522",
   "metadata": {},
   "outputs": [],
   "source": [
    "df[\"Launched Price(India) in INR\"]=df[\"Launched Price(India) in INR\"].str.replace(\"INR\",\"\")"
   ]
  },
  {
   "cell_type": "markdown",
   "id": "457a740d-374e-4c80-9443-2bf51da36f31",
   "metadata": {},
   "source": [
    "# Observation:- Removed the value \"INR\" from column \"Launched Price(India) in INR\"."
   ]
  },
  {
   "cell_type": "code",
   "execution_count": 78,
   "id": "0cb98518-1022-4431-8bd3-3676d9ba9258",
   "metadata": {},
   "outputs": [],
   "source": [
    "df[\"Launched Price(India) in INR\"]=df[\"Launched Price(India) in INR\"].str.replace(\",\",\"\")"
   ]
  },
  {
   "cell_type": "markdown",
   "id": "73e5607b-d23c-4b45-ab0f-c3d7c4fcb49c",
   "metadata": {},
   "source": [
    "# Observation:- Removed \",\" from column \"Launched Price(India) in INR\""
   ]
  },
  {
   "cell_type": "code",
   "execution_count": 79,
   "id": "7ab82565-b493-431e-821a-eab000bc0075",
   "metadata": {},
   "outputs": [],
   "source": [
    "df[\"Launched Price(India) in INR\"]=df[\"Launched Price(India) in INR\"].astype(int)"
   ]
  },
  {
   "cell_type": "markdown",
   "id": "9b26512f-27de-4268-891d-6fea7d272778",
   "metadata": {},
   "source": [
    "# Observation:- Convert the datatype from string to int."
   ]
  },
  {
   "cell_type": "code",
   "execution_count": 80,
   "id": "fff31457-6993-4522-aae5-d74c6d29ec84",
   "metadata": {},
   "outputs": [
    {
     "data": {
      "text/plain": [
       "count       928.000000\n",
       "mean      50448.753233\n",
       "std       40908.504288\n",
       "min        5999.000000\n",
       "25%       19999.000000\n",
       "50%       34999.000000\n",
       "75%       74900.000000\n",
       "max      274999.000000\n",
       "Name: Launched Price(India) in INR, dtype: float64"
      ]
     },
     "execution_count": 80,
     "metadata": {},
     "output_type": "execute_result"
    }
   ],
   "source": [
    "df[\"Launched Price(India) in INR\"].describe()"
   ]
  },
  {
   "cell_type": "markdown",
   "id": "45c2d7b3-ae9f-4fb3-9884-ccf8b8812f9b",
   "metadata": {},
   "source": [
    "# Observation:-\n",
    "#  Mean > Median → Right-skewed: A few expensive phones inflate the average\n",
    "# Interquartile Range (IQR): ₹54,901 → wide spread among mid-range phones\n",
    "# Standard Deviation: ₹40,909 → Prices are highly dispersed, confirming market diversity"
   ]
  },
  {
   "cell_type": "code",
   "execution_count": 81,
   "id": "5a5cd666-8d78-44ea-a2d2-dc30c9c9780f",
   "metadata": {},
   "outputs": [
    {
     "name": "stdout",
     "output_type": "stream",
     "text": [
      "Q1 =  19999.0\n",
      "Q3 =  74900.0\n",
      "IQR =  54901.0\n",
      "lower limit =  -62352.5\n",
      "upper limit =  157251.5\n",
      "Outliers =  94     159900\n",
      "95     179900\n",
      "96     199900\n",
      "116    174900\n",
      "324    159999\n",
      "630    249999\n",
      "634    199999\n",
      "643    249999\n",
      "657    249999\n",
      "660    259999\n",
      "661    274999\n",
      "708    179999\n",
      "719    169999\n",
      "858    159999\n",
      "869    159999\n",
      "927    164999\n",
      "928    176999\n",
      "929    200999\n",
      "Name: Launched Price(India) in INR, dtype: int32\n"
     ]
    },
    {
     "data": {
      "text/plain": [
       "18"
      ]
     },
     "execution_count": 81,
     "metadata": {},
     "output_type": "execute_result"
    }
   ],
   "source": [
    "q1=df[\"Launched Price(India) in INR\"].quantile(0.25)\n",
    "q3=df[\"Launched Price(India) in INR\"].quantile(0.75)\n",
    "IQR=q3-q1\n",
    "ll=q1-1.5*IQR\n",
    "ul=q3+1.5*IQR\n",
    "outliers=df[\"Launched Price(India) in INR\"][(df[\"Launched Price(India) in INR\"]<ll) | (df[\"Launched Price(India) in INR\"]>ul)]\n",
    "print(\"Q1 = \",q1)\n",
    "print(\"Q3 = \",q3)\n",
    "print(\"IQR = \",IQR)\n",
    "print(\"lower limit = \",ll)\n",
    "print(\"upper limit = \",ul)\n",
    "print(\"Outliers = \",outliers)\n",
    "len(outliers)"
   ]
  },
  {
   "cell_type": "markdown",
   "id": "0823f174-5061-4665-b912-8cc1b94cca8c",
   "metadata": {},
   "source": [
    "# Observation:- Total 18 outlier in \"Launched Price(India) in INR\""
   ]
  },
  {
   "cell_type": "code",
   "execution_count": 82,
   "id": "5a040e60-6acf-485f-ae79-6c600593123e",
   "metadata": {},
   "outputs": [
    {
     "data": {
      "text/html": [
       "<div>\n",
       "<style scoped>\n",
       "    .dataframe tbody tr th:only-of-type {\n",
       "        vertical-align: middle;\n",
       "    }\n",
       "\n",
       "    .dataframe tbody tr th {\n",
       "        vertical-align: top;\n",
       "    }\n",
       "\n",
       "    .dataframe thead th {\n",
       "        text-align: right;\n",
       "    }\n",
       "</style>\n",
       "<table border=\"1\" class=\"dataframe\">\n",
       "  <thead>\n",
       "    <tr style=\"text-align: right;\">\n",
       "      <th></th>\n",
       "      <th>Company Name</th>\n",
       "      <th>Model Name</th>\n",
       "      <th>Mobile Weight(in gram)</th>\n",
       "      <th>RAM(in GB)</th>\n",
       "      <th>Front Camera</th>\n",
       "      <th>Back Camera</th>\n",
       "      <th>Processor</th>\n",
       "      <th>Battery Capacity(in mAh)</th>\n",
       "      <th>Screen Size</th>\n",
       "      <th>Launched Price(Pakistan) in PKR</th>\n",
       "      <th>Launched Price(India) in INR</th>\n",
       "      <th>Launched Price (China)</th>\n",
       "      <th>Launched Price (USA)</th>\n",
       "      <th>Launched Price (Dubai)</th>\n",
       "      <th>Launched Year</th>\n",
       "    </tr>\n",
       "  </thead>\n",
       "  <tbody>\n",
       "    <tr>\n",
       "      <th>0</th>\n",
       "      <td>Apple</td>\n",
       "      <td>iPhone 16 128GB</td>\n",
       "      <td>174.0</td>\n",
       "      <td>6.0</td>\n",
       "      <td>12MP</td>\n",
       "      <td>48MP</td>\n",
       "      <td>A17 Bionic</td>\n",
       "      <td>3600</td>\n",
       "      <td>6.1 inches</td>\n",
       "      <td>224999</td>\n",
       "      <td>79999</td>\n",
       "      <td>CNY 5,799</td>\n",
       "      <td>USD 799</td>\n",
       "      <td>AED 2,799</td>\n",
       "      <td>2024</td>\n",
       "    </tr>\n",
       "  </tbody>\n",
       "</table>\n",
       "</div>"
      ],
      "text/plain": [
       "  Company Name       Model Name  Mobile Weight(in gram)  RAM(in GB)  \\\n",
       "0        Apple  iPhone 16 128GB                   174.0         6.0   \n",
       "\n",
       "  Front Camera Back Camera   Processor  Battery Capacity(in mAh) Screen Size  \\\n",
       "0         12MP        48MP  A17 Bionic                      3600  6.1 inches   \n",
       "\n",
       "   Launched Price(Pakistan) in PKR  Launched Price(India) in INR  \\\n",
       "0                           224999                         79999   \n",
       "\n",
       "  Launched Price (China) Launched Price (USA) Launched Price (Dubai)  \\\n",
       "0              CNY 5,799              USD 799              AED 2,799   \n",
       "\n",
       "   Launched Year  \n",
       "0           2024  "
      ]
     },
     "execution_count": 82,
     "metadata": {},
     "output_type": "execute_result"
    }
   ],
   "source": [
    "df.head(1)"
   ]
  },
  {
   "cell_type": "code",
   "execution_count": 83,
   "id": "38210805-c68a-4c75-874c-9e1fc370de5a",
   "metadata": {},
   "outputs": [
    {
     "data": {
      "text/plain": [
       "['CNY 5,799',\n",
       " 'CNY 6,099',\n",
       " 'CNY 6,499',\n",
       " 'CNY 6,199',\n",
       " 'CNY 6,999',\n",
       " 'CNY 7,099',\n",
       " 'CNY 7,499',\n",
       " 'CNY 7,799',\n",
       " 'CNY 8,199',\n",
       " 'CNY 5,299',\n",
       " 'CNY 5,599',\n",
       " 'CNY 5,999',\n",
       " 'CNY 5,699',\n",
       " 'CNY 6,799',\n",
       " 'CNY 7,299',\n",
       " 'CNY 7,999',\n",
       " 'CNY 8,699',\n",
       " 'CNY 5,199',\n",
       " 'CNY 5,499',\n",
       " 'CNY 5,899',\n",
       " 'CNY 6,299',\n",
       " 'CNY 7,199',\n",
       " 'CNY 8,099',\n",
       " 'CNY 8,499',\n",
       " 'CNY 8,999',\n",
       " 'CNY 7,699',\n",
       " 'CNY 8,299',\n",
       " 'CNY 8,799',\n",
       " 'CNY 9,199',\n",
       " 'CNY 8,399',\n",
       " 'CNY 7,399',\n",
       " 'CNY 8,388',\n",
       " 'CNY 8,788',\n",
       " 'CNY 9,188',\n",
       " 'CNY 9,788',\n",
       " 'CNY 10,388',\n",
       " 'CNY 10,088',\n",
       " 'CNY 10,688',\n",
       " 'CNY 11,288',\n",
       " 'CNY 3,299',\n",
       " 'CNY 3,699',\n",
       " 'CNY 2,299',\n",
       " 'CNY 2,699',\n",
       " 'CNY 3,499',\n",
       " 'CNY 3,799',\n",
       " 'CNY 6,399',\n",
       " 'CNY 9,799',\n",
       " 'CNY 10,399',\n",
       " 'CNY 11,199',\n",
       " 'CNY 6,599',\n",
       " 'CNY 11,999',\n",
       " 'CNY 12,999',\n",
       " 'CNY 10,999',\n",
       " 'CNY 2,199',\n",
       " 'CNY 2,499',\n",
       " 'CNY 1,799',\n",
       " 'CNY 1,999',\n",
       " 'CNY 1,599',\n",
       " 'CNY 1,499',\n",
       " 'CNY 1,699',\n",
       " 'CNY 1,199',\n",
       " 'CNY 1,399',\n",
       " 'CNY 2,099',\n",
       " 'CNY 1,099',\n",
       " 'CNY 1,299',\n",
       " 'CNY 2,399',\n",
       " 'CNY 999',\n",
       " 'CNY 3,099',\n",
       " 'CNY 1,899',\n",
       " 'CNY 9,999',\n",
       " 'CNY 9,499',\n",
       " 'CNY 4,299',\n",
       " 'CNY 2,999',\n",
       " 'CNY 899',\n",
       " 'CNY 799',\n",
       " 'CNY 4,999',\n",
       " 'CNY 2,799',\n",
       " 'CNY 4,699',\n",
       " 'CNY 4,199',\n",
       " 'CNY 3,199',\n",
       " 'CNY 3,899',\n",
       " 'CNY 3,999',\n",
       " 'CNY 4,499',\n",
       " 'CNY 4,599',\n",
       " 'CNY 3,599',\n",
       " 'CNY 3,399',\n",
       " 'CNY 3,400',\n",
       " 'CNY 3,600',\n",
       " 'CNY 2,800',\n",
       " 'CNY 2,900',\n",
       " 'CNY 3,000',\n",
       " 'CNY 2,700',\n",
       " 'CNY 2,600',\n",
       " 'CNY 2,400',\n",
       " 'CNY 2,500',\n",
       " 'CNY 2,000',\n",
       " 'CNY 2,100',\n",
       " 'CNY 1,800',\n",
       " 'CNY 1,900',\n",
       " 'CNY 1,500',\n",
       " 'CNY 1,600',\n",
       " 'CNY 2,200',\n",
       " 'CNY 1,400',\n",
       " 'CNY 1,700',\n",
       " 'CNY 1,200',\n",
       " 'CNY 1,100',\n",
       " 'CNY 900',\n",
       " 'CNY 1,300',\n",
       " 'CNY 1,050',\n",
       " 'CNY 3,200',\n",
       " 'CNY 2,300',\n",
       " 'CNY 1,350',\n",
       " 'CNY 1,550',\n",
       " 'CNY 4,799',\n",
       " 'CNY 2,899',\n",
       " 'CNY 1,998',\n",
       " 'CNY 4,488',\n",
       " 'CNY 5,988',\n",
       " 'CNY 8,988',\n",
       " 'CNY 17,999',\n",
       " 'CNY 4,088',\n",
       " 'CNY 14,999',\n",
       " 'CNY 6,988',\n",
       " 'CNY 13,999',\n",
       " 'CNY 7,988',\n",
       " 'CNY 9,988',\n",
       " 'CNY 13,499',\n",
       " 'CNY 14,499',\n",
       " 'CNY 1,250',\n",
       " 'CNY 599',\n",
       " 'CNY 549',\n",
       " 'CNY 2,599',\n",
       " 'CNY 699',\n",
       " 'CNY 499',\n",
       " '13,999',\n",
       " 'CNY 15,999']"
      ]
     },
     "execution_count": 83,
     "metadata": {},
     "output_type": "execute_result"
    }
   ],
   "source": [
    "df[\"Launched Price (China)\"].unique().tolist()"
   ]
  },
  {
   "cell_type": "code",
   "execution_count": 84,
   "id": "b50f56e1-42aa-4016-a26d-8b416006045b",
   "metadata": {},
   "outputs": [
    {
     "data": {
      "text/plain": [
       "136"
      ]
     },
     "execution_count": 84,
     "metadata": {},
     "output_type": "execute_result"
    }
   ],
   "source": [
    "df[\"Launched Price (China)\"].nunique()"
   ]
  },
  {
   "cell_type": "markdown",
   "id": "a264c7dd-3ad2-488a-9e55-a4ae10109c47",
   "metadata": {},
   "source": [
    "# Observation:- Total 136 unique values are presemt in column \"Launched Price (China)\""
   ]
  },
  {
   "cell_type": "code",
   "execution_count": 85,
   "id": "c0676df3-d392-401e-a093-348a648badc0",
   "metadata": {},
   "outputs": [],
   "source": [
    "df.rename(columns={\"Launched Price (China)\":\"Launched Price(China) in CNY\"},inplace=True)"
   ]
  },
  {
   "cell_type": "markdown",
   "id": "09bbda50-9f7b-4be4-b2cd-1189e9fdacfa",
   "metadata": {},
   "source": [
    "# Observation:- Renamed the column from \"Launched Price (China)\" to \"Launched Price(China) in CNY\"."
   ]
  },
  {
   "cell_type": "code",
   "execution_count": 86,
   "id": "fce0e2d9-1062-400c-b4ef-e6bdc54dec87",
   "metadata": {},
   "outputs": [],
   "source": [
    "df[\"Launched Price(China) in CNY\"]=df[\"Launched Price(China) in CNY\"].str.replace(\"CNY\",\"\")"
   ]
  },
  {
   "cell_type": "markdown",
   "id": "6449bbc6-0327-4966-a362-de29ae3054fa",
   "metadata": {},
   "source": [
    "# Observation:- Removed the value \"CNY\" from column \"Launched Price(India) in CNY\"."
   ]
  },
  {
   "cell_type": "code",
   "execution_count": 87,
   "id": "02fe8b88-1406-42a7-852b-80e57c2da585",
   "metadata": {},
   "outputs": [],
   "source": [
    "df[\"Launched Price(China) in CNY\"]=df[\"Launched Price(China) in CNY\"].str.replace(\",\",\"\")"
   ]
  },
  {
   "cell_type": "markdown",
   "id": "423ebf5c-d8e3-4459-bbd4-e940e2fd6b3b",
   "metadata": {},
   "source": [
    "# Observation:- Removed \",\" from column \"Launched Price(China) in CNY\""
   ]
  },
  {
   "cell_type": "code",
   "execution_count": 88,
   "id": "d05db82a-2234-4554-93f6-0e98a9035589",
   "metadata": {},
   "outputs": [],
   "source": [
    "df[\"Launched Price(China) in CNY\"]=df[\"Launched Price(China) in CNY\"].astype(int)"
   ]
  },
  {
   "cell_type": "markdown",
   "id": "10bbe4dc-0ea0-4631-ba62-8d7b3f85d9bd",
   "metadata": {},
   "source": [
    "# Observation:- Convert the datatype from string to int."
   ]
  },
  {
   "cell_type": "code",
   "execution_count": 89,
   "id": "54437adb-0983-4acb-860b-b1f588520410",
   "metadata": {},
   "outputs": [
    {
     "data": {
      "text/plain": [
       "count      928.000000\n",
       "mean      3811.372845\n",
       "std       2760.446211\n",
       "min        499.000000\n",
       "25%       1699.000000\n",
       "50%       2800.000000\n",
       "75%       5499.000000\n",
       "max      17999.000000\n",
       "Name: Launched Price(China) in CNY, dtype: float64"
      ]
     },
     "execution_count": 89,
     "metadata": {},
     "output_type": "execute_result"
    }
   ],
   "source": [
    "df[\"Launched Price(China) in CNY\"].describe()"
   ]
  },
  {
   "cell_type": "markdown",
   "id": "e2a76ec4-f8fb-4053-ba89-84a72f3bfbe2",
   "metadata": {},
   "source": [
    "# Observation:-\n",
    "# Mean > Median :Right-skewed distribution, pulled up by high-end phones\n",
    "# Interquartile Range (IQR): 800 indicates significant spread among typical devices\n",
    "# Standard Deviation: 760 Moderate to high variation in prices"
   ]
  },
  {
   "cell_type": "code",
   "execution_count": 90,
   "id": "f338ecde-c04b-4086-a6cd-ffbcdb987778",
   "metadata": {},
   "outputs": [
    {
     "name": "stdout",
     "output_type": "stream",
     "text": [
      "Q1 =  1699.0\n",
      "Q3 =  5499.0\n",
      "IQR =  3800.0\n",
      "lower limit =  -4001.0\n",
      "upper limit =  11199.0\n",
      "Outliers =  76     11288\n",
      "115    11999\n",
      "116    12999\n",
      "120    11999\n",
      "630    17999\n",
      "634    14999\n",
      "643    13999\n",
      "657    12999\n",
      "660    13499\n",
      "661    14499\n",
      "708    13999\n",
      "719    12999\n",
      "927    13999\n",
      "928    15999\n",
      "929    17999\n",
      "Name: Launched Price(China) in CNY, dtype: int32\n"
     ]
    },
    {
     "data": {
      "text/plain": [
       "15"
      ]
     },
     "execution_count": 90,
     "metadata": {},
     "output_type": "execute_result"
    }
   ],
   "source": [
    "q1=df[\"Launched Price(China) in CNY\"].quantile(0.25)\n",
    "q3=df[\"Launched Price(China) in CNY\"].quantile(0.75)\n",
    "IQR=q3-q1\n",
    "ll=q1-1.5*IQR\n",
    "ul=q3+1.5*IQR\n",
    "outliers=df[\"Launched Price(China) in CNY\"][(df[\"Launched Price(China) in CNY\"]<ll) | (df[\"Launched Price(China) in CNY\"]>ul)]\n",
    "print(\"Q1 = \",q1)\n",
    "print(\"Q3 = \",q3)\n",
    "print(\"IQR = \",IQR)\n",
    "print(\"lower limit = \",ll)\n",
    "print(\"upper limit = \",ul)\n",
    "print(\"Outliers = \",outliers)\n",
    "len(outliers)"
   ]
  },
  {
   "cell_type": "markdown",
   "id": "71c38ad9-1e4d-4ec4-be3f-d57c7d9e8495",
   "metadata": {},
   "source": [
    "# Observation:- Total 15 outlier in \"Launched Price(China) in CNY\""
   ]
  },
  {
   "cell_type": "code",
   "execution_count": 91,
   "id": "55b940de-d69e-4503-b18b-5c0fefbd76ea",
   "metadata": {},
   "outputs": [
    {
     "data": {
      "text/html": [
       "<div>\n",
       "<style scoped>\n",
       "    .dataframe tbody tr th:only-of-type {\n",
       "        vertical-align: middle;\n",
       "    }\n",
       "\n",
       "    .dataframe tbody tr th {\n",
       "        vertical-align: top;\n",
       "    }\n",
       "\n",
       "    .dataframe thead th {\n",
       "        text-align: right;\n",
       "    }\n",
       "</style>\n",
       "<table border=\"1\" class=\"dataframe\">\n",
       "  <thead>\n",
       "    <tr style=\"text-align: right;\">\n",
       "      <th></th>\n",
       "      <th>Company Name</th>\n",
       "      <th>Model Name</th>\n",
       "      <th>Mobile Weight(in gram)</th>\n",
       "      <th>RAM(in GB)</th>\n",
       "      <th>Front Camera</th>\n",
       "      <th>Back Camera</th>\n",
       "      <th>Processor</th>\n",
       "      <th>Battery Capacity(in mAh)</th>\n",
       "      <th>Screen Size</th>\n",
       "      <th>Launched Price(Pakistan) in PKR</th>\n",
       "      <th>Launched Price(India) in INR</th>\n",
       "      <th>Launched Price(China) in CNY</th>\n",
       "      <th>Launched Price (USA)</th>\n",
       "      <th>Launched Price (Dubai)</th>\n",
       "      <th>Launched Year</th>\n",
       "    </tr>\n",
       "  </thead>\n",
       "  <tbody>\n",
       "    <tr>\n",
       "      <th>0</th>\n",
       "      <td>Apple</td>\n",
       "      <td>iPhone 16 128GB</td>\n",
       "      <td>174.0</td>\n",
       "      <td>6.0</td>\n",
       "      <td>12MP</td>\n",
       "      <td>48MP</td>\n",
       "      <td>A17 Bionic</td>\n",
       "      <td>3600</td>\n",
       "      <td>6.1 inches</td>\n",
       "      <td>224999</td>\n",
       "      <td>79999</td>\n",
       "      <td>5799</td>\n",
       "      <td>USD 799</td>\n",
       "      <td>AED 2,799</td>\n",
       "      <td>2024</td>\n",
       "    </tr>\n",
       "  </tbody>\n",
       "</table>\n",
       "</div>"
      ],
      "text/plain": [
       "  Company Name       Model Name  Mobile Weight(in gram)  RAM(in GB)  \\\n",
       "0        Apple  iPhone 16 128GB                   174.0         6.0   \n",
       "\n",
       "  Front Camera Back Camera   Processor  Battery Capacity(in mAh) Screen Size  \\\n",
       "0         12MP        48MP  A17 Bionic                      3600  6.1 inches   \n",
       "\n",
       "   Launched Price(Pakistan) in PKR  Launched Price(India) in INR  \\\n",
       "0                           224999                         79999   \n",
       "\n",
       "   Launched Price(China) in CNY Launched Price (USA) Launched Price (Dubai)  \\\n",
       "0                          5799              USD 799              AED 2,799   \n",
       "\n",
       "   Launched Year  \n",
       "0           2024  "
      ]
     },
     "execution_count": 91,
     "metadata": {},
     "output_type": "execute_result"
    }
   ],
   "source": [
    "df.head(1)"
   ]
  },
  {
   "cell_type": "code",
   "execution_count": 92,
   "id": "ec014420-2cc3-4144-91d5-326de0e3dcc4",
   "metadata": {},
   "outputs": [
    {
     "data": {
      "text/plain": [
       "['USD 799',\n",
       " 'USD 849',\n",
       " 'USD 899',\n",
       " 'USD 949',\n",
       " 'USD 999',\n",
       " 'USD 1,049',\n",
       " 'USD 1,099',\n",
       " 'USD 1,199',\n",
       " 'USD 1,299',\n",
       " 'USD 1,399',\n",
       " 'USD 699',\n",
       " 'USD 1,249',\n",
       " 'USD 749',\n",
       " 'USD 599',\n",
       " 'USD 329',\n",
       " 'USD 429',\n",
       " 'USD 399',\n",
       " 'USD 499',\n",
       " 'USD 1,599',\n",
       " 'USD 1,799',\n",
       " 'USD 1,899',\n",
       " 'USD 449',\n",
       " 'USD 349',\n",
       " 'USD 299',\n",
       " 'USD 249',\n",
       " 'USD 199',\n",
       " 'USD 179',\n",
       " 'USD 169',\n",
       " 'USD 129',\n",
       " 'USD 1,499',\n",
       " 'USD 549',\n",
       " 'USD 229',\n",
       " 'USD 149',\n",
       " 'USD 649',\n",
       " 'USD 99',\n",
       " 'USD 219',\n",
       " 'USD 139',\n",
       " 'USD 159',\n",
       " 'USD 269',\n",
       " 'USD 319',\n",
       " 'USD 239',\n",
       " 'USD 279',\n",
       " 'USD 189',\n",
       " 'USD 259',\n",
       " 'USD 470',\n",
       " 'USD 500',\n",
       " 'USD 380',\n",
       " 'USD 400',\n",
       " 'USD 420',\n",
       " 'USD 360',\n",
       " 'USD 340',\n",
       " 'USD 320',\n",
       " 'USD 270',\n",
       " 'USD 290',\n",
       " 'USD 250',\n",
       " 'USD 220',\n",
       " 'USD 240',\n",
       " 'USD 300',\n",
       " 'USD 200',\n",
       " 'USD 260',\n",
       " 'USD 180',\n",
       " 'USD 160',\n",
       " 'USD 210',\n",
       " 'USD 230',\n",
       " 'USD 130',\n",
       " 'USD 170',\n",
       " 'USD 190',\n",
       " 'USD 150',\n",
       " 'USD 440',\n",
       " 'USD 330',\n",
       " 'USD 350',\n",
       " 'USD 280',\n",
       " 'USD 310',\n",
       " 'USD 634.99',\n",
       " 'USD 790.77',\n",
       " 'USD 374.90',\n",
       " 'USD 399.00',\n",
       " 'USD 429.00',\n",
       " 'USD 349.00',\n",
       " 'USD 379.00',\n",
       " 'USD 299.00',\n",
       " 'USD 329.00',\n",
       " 'USD 279.00',\n",
       " 'USD 309.00',\n",
       " 'USD 249.00',\n",
       " 'USD 199.00',\n",
       " 'USD 229.00',\n",
       " 'USD 479',\n",
       " 'USD 370',\n",
       " 'USD 450',\n",
       " 'USD 2,699',\n",
       " 'USD 2,499',\n",
       " 'USD 2,599',\n",
       " 'USD 2,799',\n",
       " 'USD 529',\n",
       " 'USD 729',\n",
       " 'USD 119',\n",
       " 'USD 1,699',\n",
       " 'USD 396,22',\n",
       " 'USD 877',\n",
       " 'USD 89',\n",
       " 'USD 289',\n",
       " 'USD 379',\n",
       " 'USD 109',\n",
       " 'USD 79',\n",
       " 'USD 1719',\n",
       " 'USD 2,259']"
      ]
     },
     "execution_count": 92,
     "metadata": {},
     "output_type": "execute_result"
    }
   ],
   "source": [
    "df[\"Launched Price (USA)\"].unique().tolist()"
   ]
  },
  {
   "cell_type": "code",
   "execution_count": 93,
   "id": "88fb2854-42c7-4355-b14d-da4bf63b5431",
   "metadata": {},
   "outputs": [
    {
     "data": {
      "text/plain": [
       "107"
      ]
     },
     "execution_count": 93,
     "metadata": {},
     "output_type": "execute_result"
    }
   ],
   "source": [
    "df[\"Launched Price (USA)\"].nunique()"
   ]
  },
  {
   "cell_type": "markdown",
   "id": "4f949a8d-a88e-4230-a396-bfe964170c87",
   "metadata": {},
   "source": [
    "# Observation:- Total 107 unique values are presemt in column \"Launched Price (USA)\""
   ]
  },
  {
   "cell_type": "code",
   "execution_count": 94,
   "id": "25a11bf0-fd23-410f-bc1e-a3a0f3e5d76a",
   "metadata": {},
   "outputs": [],
   "source": [
    "df.rename(columns={\"Launched Price (USA)\":\"Launched Price(USA) in USD\"},inplace=True)"
   ]
  },
  {
   "cell_type": "markdown",
   "id": "f53103f1-59b1-4023-bb8e-33f9da703f17",
   "metadata": {},
   "source": [
    "# Observation:- Renamed the column from \"Launched Price (USA)\" to \"Launched Price(USA) in USD\"."
   ]
  },
  {
   "cell_type": "code",
   "execution_count": 95,
   "id": "f34536f3-11d6-401a-b5e1-b1153e9ee69a",
   "metadata": {},
   "outputs": [],
   "source": [
    "df[\"Launched Price(USA) in USD\"]=df[\"Launched Price(USA) in USD\"].str.replace(\"USD\",\"\")"
   ]
  },
  {
   "cell_type": "markdown",
   "id": "ffc592b3-4de2-4b2d-94d7-5da74dcd6472",
   "metadata": {},
   "source": [
    "# Observation:- Removed the value \"USD\" from column \"Launched Price(USA) in USD\"."
   ]
  },
  {
   "cell_type": "code",
   "execution_count": 96,
   "id": "1a805a65-fe46-4637-915e-c17e350fa432",
   "metadata": {},
   "outputs": [],
   "source": [
    "df[\"Launched Price(USA) in USD\"]=df[\"Launched Price(USA) in USD\"].str.replace(\",\",\"\")"
   ]
  },
  {
   "cell_type": "markdown",
   "id": "36df4006-6631-4a67-b401-4b94f6e06946",
   "metadata": {},
   "source": [
    "# Observation:- Removed \",\" from column \"Launched Price(USA) in USD\""
   ]
  },
  {
   "cell_type": "code",
   "execution_count": 97,
   "id": "bc89d316-5c03-4ab1-9d91-bcd548eb9f49",
   "metadata": {},
   "outputs": [],
   "source": [
    "df[\"Launched Price(USA) in USD\"]=df[\"Launched Price(USA) in USD\"].astype(float)"
   ]
  },
  {
   "cell_type": "markdown",
   "id": "dccf0914-651f-4ee4-8e22-5a342fd63cd1",
   "metadata": {},
   "source": [
    "# Observation:- Convert the datatype from string to int."
   ]
  },
  {
   "cell_type": "code",
   "execution_count": 98,
   "id": "f5e47957-9c77-4893-9250-e33886836e67",
   "metadata": {},
   "outputs": [
    {
     "data": {
      "text/plain": [
       "count      928.000000\n",
       "mean       624.279806\n",
       "std       1348.742522\n",
       "min         79.000000\n",
       "25%        250.000000\n",
       "50%        449.000000\n",
       "75%        849.000000\n",
       "max      39622.000000\n",
       "Name: Launched Price(USA) in USD, dtype: float64"
      ]
     },
     "execution_count": 98,
     "metadata": {},
     "output_type": "execute_result"
    }
   ],
   "source": [
    "df[\"Launched Price(USA) in USD\"].describe()"
   ]
  },
  {
   "cell_type": "markdown",
   "id": "7f2ebf34-6758-4922-a5b2-4f945adee9c8",
   "metadata": {},
   "source": [
    "# Observation:-\n",
    "#  Mean > Median → Strong right-skew, with a few high prices pulling up the average\n",
    "# Interquartile Range (IQR): 599\n",
    "# Suggests most phones are between 250–849 (budget to upper mid-range)\n",
    "\n",
    "# Standard Deviation: 1,348.74\n",
    "# Very high variation in prices, likely due to outliers"
   ]
  },
  {
   "cell_type": "code",
   "execution_count": 99,
   "id": "f7529d7d-7847-4904-bc27-e234ef66f557",
   "metadata": {},
   "outputs": [
    {
     "name": "stdout",
     "output_type": "stream",
     "text": [
      "Q1 =  250.0\n",
      "Q3 =  849.0\n",
      "IQR =  599.0\n",
      "lower limit =  -648.5\n",
      "upper limit =  1747.5\n",
      "Outliers =  96      1799.0\n",
      "115     1799.0\n",
      "116     1899.0\n",
      "119     1799.0\n",
      "120     1899.0\n",
      "630     2699.0\n",
      "634     2499.0\n",
      "643     2499.0\n",
      "657     2499.0\n",
      "660     2599.0\n",
      "661     2799.0\n",
      "682     1799.0\n",
      "685    39622.0\n",
      "708     1799.0\n",
      "719     1799.0\n",
      "836     1799.0\n",
      "858     1899.0\n",
      "869     1899.0\n",
      "927     1899.0\n",
      "929     2259.0\n",
      "Name: Launched Price(USA) in USD, dtype: float64\n"
     ]
    },
    {
     "data": {
      "text/plain": [
       "20"
      ]
     },
     "execution_count": 99,
     "metadata": {},
     "output_type": "execute_result"
    }
   ],
   "source": [
    "q1=df[\"Launched Price(USA) in USD\"].quantile(0.25)\n",
    "q3=df[\"Launched Price(USA) in USD\"].quantile(0.75)\n",
    "IQR=q3-q1\n",
    "ll=q1-1.5*IQR\n",
    "ul=q3+1.5*IQR\n",
    "outliers=df[\"Launched Price(USA) in USD\"][(df[\"Launched Price(USA) in USD\"]<ll) | (df[\"Launched Price(USA) in USD\"]>ul)]\n",
    "print(\"Q1 = \",q1)\n",
    "print(\"Q3 = \",q3)\n",
    "print(\"IQR = \",IQR)\n",
    "print(\"lower limit = \",ll)\n",
    "print(\"upper limit = \",ul)\n",
    "print(\"Outliers = \",outliers)\n",
    "len(outliers)"
   ]
  },
  {
   "cell_type": "markdown",
   "id": "cb2ad0d0-f214-4349-b335-bf5bc36e135f",
   "metadata": {},
   "source": [
    "# Observation:- Total 20 outlier in \"Launched Price(USA) in USD\""
   ]
  },
  {
   "cell_type": "code",
   "execution_count": 100,
   "id": "7fb0c22d-4c8c-4792-aa22-ad60458b5317",
   "metadata": {},
   "outputs": [
    {
     "data": {
      "text/html": [
       "<div>\n",
       "<style scoped>\n",
       "    .dataframe tbody tr th:only-of-type {\n",
       "        vertical-align: middle;\n",
       "    }\n",
       "\n",
       "    .dataframe tbody tr th {\n",
       "        vertical-align: top;\n",
       "    }\n",
       "\n",
       "    .dataframe thead th {\n",
       "        text-align: right;\n",
       "    }\n",
       "</style>\n",
       "<table border=\"1\" class=\"dataframe\">\n",
       "  <thead>\n",
       "    <tr style=\"text-align: right;\">\n",
       "      <th></th>\n",
       "      <th>Company Name</th>\n",
       "      <th>Model Name</th>\n",
       "      <th>Mobile Weight(in gram)</th>\n",
       "      <th>RAM(in GB)</th>\n",
       "      <th>Front Camera</th>\n",
       "      <th>Back Camera</th>\n",
       "      <th>Processor</th>\n",
       "      <th>Battery Capacity(in mAh)</th>\n",
       "      <th>Screen Size</th>\n",
       "      <th>Launched Price(Pakistan) in PKR</th>\n",
       "      <th>Launched Price(India) in INR</th>\n",
       "      <th>Launched Price(China) in CNY</th>\n",
       "      <th>Launched Price(USA) in USD</th>\n",
       "      <th>Launched Price (Dubai)</th>\n",
       "      <th>Launched Year</th>\n",
       "    </tr>\n",
       "  </thead>\n",
       "  <tbody>\n",
       "    <tr>\n",
       "      <th>0</th>\n",
       "      <td>Apple</td>\n",
       "      <td>iPhone 16 128GB</td>\n",
       "      <td>174.0</td>\n",
       "      <td>6.0</td>\n",
       "      <td>12MP</td>\n",
       "      <td>48MP</td>\n",
       "      <td>A17 Bionic</td>\n",
       "      <td>3600</td>\n",
       "      <td>6.1 inches</td>\n",
       "      <td>224999</td>\n",
       "      <td>79999</td>\n",
       "      <td>5799</td>\n",
       "      <td>799.0</td>\n",
       "      <td>AED 2,799</td>\n",
       "      <td>2024</td>\n",
       "    </tr>\n",
       "  </tbody>\n",
       "</table>\n",
       "</div>"
      ],
      "text/plain": [
       "  Company Name       Model Name  Mobile Weight(in gram)  RAM(in GB)  \\\n",
       "0        Apple  iPhone 16 128GB                   174.0         6.0   \n",
       "\n",
       "  Front Camera Back Camera   Processor  Battery Capacity(in mAh) Screen Size  \\\n",
       "0         12MP        48MP  A17 Bionic                      3600  6.1 inches   \n",
       "\n",
       "   Launched Price(Pakistan) in PKR  Launched Price(India) in INR  \\\n",
       "0                           224999                         79999   \n",
       "\n",
       "   Launched Price(China) in CNY  Launched Price(USA) in USD  \\\n",
       "0                          5799                       799.0   \n",
       "\n",
       "  Launched Price (Dubai)  Launched Year  \n",
       "0              AED 2,799           2024  "
      ]
     },
     "execution_count": 100,
     "metadata": {},
     "output_type": "execute_result"
    }
   ],
   "source": [
    "df.head(1)"
   ]
  },
  {
   "cell_type": "code",
   "execution_count": 101,
   "id": "c69f626f-dc2c-4f0d-8c5c-794d8e93729d",
   "metadata": {},
   "outputs": [
    {
     "data": {
      "text/plain": [
       "['AED 2,799',\n",
       " 'AED 2,999',\n",
       " 'AED 3,199',\n",
       " 'AED 3,399',\n",
       " 'AED 3,599',\n",
       " 'AED 3,499',\n",
       " 'AED 3,699',\n",
       " 'AED 3,899',\n",
       " 'AED 3,799',\n",
       " 'AED 3,999',\n",
       " 'AED 4,199',\n",
       " 'AED 2,699',\n",
       " 'AED 4,399',\n",
       " 'AED 4,499',\n",
       " 'AED 2,599',\n",
       " 'AED 3,299',\n",
       " 'AED 4,599',\n",
       " 'AED 2,499',\n",
       " 'AED 4,999',\n",
       " 'AED 4,299',\n",
       " 'AED 4,799',\n",
       " 'AED 5,099',\n",
       " 'AED 3,099',\n",
       " 'AED 2,099',\n",
       " 'AED 1,199',\n",
       " 'AED 1,499',\n",
       " 'AED 1,799',\n",
       " 'AED 5,299',\n",
       " 'AED 5,799',\n",
       " 'AED 6,099',\n",
       " 'AED 4,899',\n",
       " 'AED 6,999',\n",
       " 'AED 7,499',\n",
       " 'AED 4,099',\n",
       " 'AED 6,499',\n",
       " 'AED 7,099',\n",
       " 'AED 1,399',\n",
       " 'AED 1,299',\n",
       " 'AED 1,099',\n",
       " 'AED 899',\n",
       " 'AED 999',\n",
       " 'AED 1,699',\n",
       " 'AED 799',\n",
       " 'AED 699',\n",
       " 'AED 499',\n",
       " 'AED 5,499',\n",
       " 'AED 1,999',\n",
       " 'AED 599',\n",
       " 'AED 2,199',\n",
       " 'AED 1,899',\n",
       " 'AED 399',\n",
       " 'AED 2,899',\n",
       " 'AED 2,299',\n",
       " 'AED 2,399',\n",
       " 'AED 4,699',\n",
       " 'AED 1,649',\n",
       " 'AED 549',\n",
       " 'AED 649',\n",
       " 'AED 1,599',\n",
       " 'AED 749',\n",
       " 'AED 5,199',\n",
       " 'AED 1,000',\n",
       " 'AED 1,200',\n",
       " 'AED 1,300',\n",
       " 'AED 1,100',\n",
       " 'AED 950',\n",
       " 'AED 900',\n",
       " 'AED 850',\n",
       " 'AED 800',\n",
       " 'AED 750',\n",
       " 'AED 700',\n",
       " 'AED 1,500',\n",
       " 'AED 1,700',\n",
       " 'AED 1,400',\n",
       " 'AED 1,725',\n",
       " 'AED 1,840',\n",
       " 'AED 1,460',\n",
       " 'AED 1,520',\n",
       " 'AED 1,330',\n",
       " 'AED 1,250',\n",
       " 'AED 1,320',\n",
       " 'AED 1,150',\n",
       " 'AED 1,210',\n",
       " 'AED 970',\n",
       " 'AED 1,030',\n",
       " 'AED 860',\n",
       " 'AED 1,070',\n",
       " 'AED 1,140',\n",
       " 'AED 1,390',\n",
       " 'AED 960',\n",
       " 'AED 1,280',\n",
       " 'AED 720',\n",
       " 'AED 780',\n",
       " 'AED 1,020',\n",
       " 'AED 920',\n",
       " 'AED 660',\n",
       " 'AED 600',\n",
       " 'AED 830',\n",
       " 'AED 500',\n",
       " 'AED 620',\n",
       " 'AED 680',\n",
       " 'AED 580',\n",
       " 'AED 820',\n",
       " 'AED 880',\n",
       " 'AED 1,620',\n",
       " 'AED 1,800',\n",
       " 'AED 740',\n",
       " 'AED 1,050',\n",
       " 'AED 770',\n",
       " 'AED 730',\n",
       " 'AED 849',\n",
       " 'AED 949',\n",
       " 'AED 1,049',\n",
       " 'AED 1,175',\n",
       " 'AED 1,350',\n",
       " 'AED 1,275',\n",
       " 'AED 1,675',\n",
       " 'AED 925',\n",
       " 'AED 1,850',\n",
       " 'AED 550',\n",
       " 'AED 650',\n",
       " 'AED 9,999',\n",
       " 'AED 8,999',\n",
       " 'AED 10,499',\n",
       " 'AED 11,099',\n",
       " 'AED 629',\n",
       " 'AED 619',\n",
       " 'AED 449',\n",
       " 'AED 5,999',\n",
       " 'AED 6,199',\n",
       " 'AED 870',\n",
       " 'AED 349',\n",
       " 'AED 299',\n",
       " 'AED 1,149',\n",
       " 'AED 1,249',\n",
       " 'AED 2,049',\n",
       " 'AED 6,599',\n",
       " 'AED 1,029',\n",
       " 'AED 7,199',\n",
       " 'AED 7,699',\n",
       " 'AED 8,699']"
      ]
     },
     "execution_count": 101,
     "metadata": {},
     "output_type": "execute_result"
    }
   ],
   "source": [
    "df[\"Launched Price (Dubai)\"].unique().tolist()"
   ]
  },
  {
   "cell_type": "code",
   "execution_count": 102,
   "id": "9f3a2271-ae3a-4511-93fd-01e44966fc65",
   "metadata": {},
   "outputs": [
    {
     "data": {
      "text/plain": [
       "141"
      ]
     },
     "execution_count": 102,
     "metadata": {},
     "output_type": "execute_result"
    }
   ],
   "source": [
    "df[\"Launched Price (Dubai)\"].nunique()"
   ]
  },
  {
   "cell_type": "markdown",
   "id": "9b873f9f-581f-4d37-9e2f-c0984bb780bb",
   "metadata": {},
   "source": [
    "# Observation:- Total 141 unique values are presemt in column \"Launched Price (Dubai)\""
   ]
  },
  {
   "cell_type": "code",
   "execution_count": 103,
   "id": "92f95a7d-f782-46a9-b8b3-950f3b9a1dd2",
   "metadata": {},
   "outputs": [],
   "source": [
    "df.rename(columns={\"Launched Price (Dubai)\":\"Launched Price(Dubai) in AED\"},inplace=True)"
   ]
  },
  {
   "cell_type": "markdown",
   "id": "3e0d3dad-74ff-4056-9c3b-f8ff6db8cf0c",
   "metadata": {},
   "source": [
    "# Observation:- Renamed the column from \"Launched Price (Dubai)\" to \"Launched Price(Dubai) in AED\"."
   ]
  },
  {
   "cell_type": "code",
   "execution_count": 104,
   "id": "7d2d63b4-a96b-4aa2-9f66-938acb24cb55",
   "metadata": {},
   "outputs": [],
   "source": [
    "df[\"Launched Price(Dubai) in AED\"]=df[\"Launched Price(Dubai) in AED\"].str.replace(\"AED\",\"\")"
   ]
  },
  {
   "cell_type": "markdown",
   "id": "90400528-9111-4fc6-8028-8b450d1af071",
   "metadata": {},
   "source": [
    "# Observation:- Removed the value \"AED\" from column \"Launched Price(Dubai) in AED\"."
   ]
  },
  {
   "cell_type": "code",
   "execution_count": 105,
   "id": "5d6b6c81-efb9-4712-a19e-4cb870704819",
   "metadata": {},
   "outputs": [],
   "source": [
    "df[\"Launched Price(Dubai) in AED\"]=df[\"Launched Price(Dubai) in AED\"].str.replace(\",\",\"\")"
   ]
  },
  {
   "cell_type": "markdown",
   "id": "d3522577-73d1-4293-b0e2-2e9d5664bb62",
   "metadata": {},
   "source": [
    "# Observation:- Removed \",\" from column \"Launched Price(Dubai) in AED\""
   ]
  },
  {
   "cell_type": "code",
   "execution_count": 106,
   "id": "9ec89fce-5bfc-4438-9a9a-2f85b54390d5",
   "metadata": {},
   "outputs": [],
   "source": [
    "df[\"Launched Price(Dubai) in AED\"]=df[\"Launched Price(Dubai) in AED\"].astype(int)"
   ]
  },
  {
   "cell_type": "markdown",
   "id": "7fed0470-8a71-4564-be99-b7c121c66813",
   "metadata": {},
   "source": [
    "# Observation:- Convert the datatype from string to int."
   ]
  },
  {
   "cell_type": "code",
   "execution_count": 107,
   "id": "ba1433dd-c403-4756-9532-b480d9b6dddd",
   "metadata": {},
   "outputs": [
    {
     "data": {
      "text/plain": [
       "count      928.000000\n",
       "mean      2178.943966\n",
       "std       1563.556403\n",
       "min        299.000000\n",
       "25%       1000.000000\n",
       "50%       1675.000000\n",
       "75%       3199.000000\n",
       "max      11099.000000\n",
       "Name: Launched Price(Dubai) in AED, dtype: float64"
      ]
     },
     "execution_count": 107,
     "metadata": {},
     "output_type": "execute_result"
    }
   ],
   "source": [
    "df[\"Launched Price(Dubai) in AED\"].describe()"
   ]
  },
  {
   "cell_type": "markdown",
   "id": "349ab7e1-498c-4208-9658-4e12c408e2c3",
   "metadata": {},
   "source": [
    "# Observation:-\n",
    "# Since mean > median, the data is right-skewed (influenced by higher-priced models)\n",
    "# Interquartile Range (IQR): AED 2,199, indicating wide price variation in mainstream devices\n",
    "\n",
    "# Standard Deviation: AED 1,563.56\n",
    "# Moderate to high variation, supporting the presence of diverse pricing tiers"
   ]
  },
  {
   "cell_type": "code",
   "execution_count": 108,
   "id": "009978fb-3c76-47b0-a1b3-8e387eaa41cc",
   "metadata": {},
   "outputs": [
    {
     "name": "stdout",
     "output_type": "stream",
     "text": [
      "Q1 =  1000.0\n",
      "Q3 =  3199.0\n",
      "IQR =  2199.0\n",
      "lower limit =  -2298.5\n",
      "upper limit =  6497.5\n",
      "Outliers =  115     6999\n",
      "116     7499\n",
      "119     6499\n",
      "120     7099\n",
      "630     9999\n",
      "634     8999\n",
      "643     9999\n",
      "657     9999\n",
      "660    10499\n",
      "661    11099\n",
      "708     6999\n",
      "719     6999\n",
      "836     6599\n",
      "858     6999\n",
      "869     6999\n",
      "927     7199\n",
      "928     7699\n",
      "929     8699\n",
      "Name: Launched Price(Dubai) in AED, dtype: int32\n"
     ]
    },
    {
     "data": {
      "text/plain": [
       "18"
      ]
     },
     "execution_count": 108,
     "metadata": {},
     "output_type": "execute_result"
    }
   ],
   "source": [
    "q1=df[\"Launched Price(Dubai) in AED\"].quantile(0.25)\n",
    "q3=df[\"Launched Price(Dubai) in AED\"].quantile(0.75)\n",
    "IQR=q3-q1\n",
    "ll=q1-1.5*IQR\n",
    "ul=q3+1.5*IQR\n",
    "outliers=df[\"Launched Price(Dubai) in AED\"][(df[\"Launched Price(Dubai) in AED\"]<ll) | (df[\"Launched Price(Dubai) in AED\"]>ul)]\n",
    "print(\"Q1 = \",q1)\n",
    "print(\"Q3 = \",q3)\n",
    "print(\"IQR = \",IQR)\n",
    "print(\"lower limit = \",ll)\n",
    "print(\"upper limit = \",ul)\n",
    "print(\"Outliers = \",outliers)\n",
    "len(outliers)"
   ]
  },
  {
   "cell_type": "markdown",
   "id": "0e89160b-cfbb-4690-a0e1-ebe1b5b6425b",
   "metadata": {},
   "source": [
    "# Observation:- Total 18 outlier in \"Launched Price(USA) in USD\""
   ]
  },
  {
   "cell_type": "code",
   "execution_count": 109,
   "id": "e659953b-f689-44fa-9cb2-547e897036d0",
   "metadata": {},
   "outputs": [],
   "source": [
    "df[\"Launched Year\"] = pd.to_datetime(df[\"Launched Year\"], format=\"%Y\")"
   ]
  },
  {
   "cell_type": "markdown",
   "id": "37d82329-24cc-4900-b134-c550cdd3836e",
   "metadata": {},
   "source": [
    "# Observation :- Convert the column into date time format."
   ]
  },
  {
   "cell_type": "code",
   "execution_count": 110,
   "id": "2938e3cc-395f-41ed-b83c-2b09089c6e4b",
   "metadata": {},
   "outputs": [
    {
     "data": {
      "text/plain": [
       "[Timestamp('2024-01-01 00:00:00'),\n",
       " Timestamp('2023-01-01 00:00:00'),\n",
       " Timestamp('2022-01-01 00:00:00'),\n",
       " Timestamp('2021-01-01 00:00:00'),\n",
       " Timestamp('2020-01-01 00:00:00'),\n",
       " Timestamp('2019-01-01 00:00:00'),\n",
       " Timestamp('2017-01-01 00:00:00'),\n",
       " Timestamp('2018-01-01 00:00:00'),\n",
       " Timestamp('2016-01-01 00:00:00'),\n",
       " Timestamp('2014-01-01 00:00:00'),\n",
       " Timestamp('2025-01-01 00:00:00')]"
      ]
     },
     "execution_count": 110,
     "metadata": {},
     "output_type": "execute_result"
    }
   ],
   "source": [
    "df[\"Launched Year\"].unique().tolist()"
   ]
  },
  {
   "cell_type": "code",
   "execution_count": 111,
   "id": "539774a3-f40f-4586-b59a-ba0930fd84c2",
   "metadata": {},
   "outputs": [
    {
     "data": {
      "text/plain": [
       "11"
      ]
     },
     "execution_count": 111,
     "metadata": {},
     "output_type": "execute_result"
    }
   ],
   "source": [
    "df[\"Launched Year\"].nunique()"
   ]
  },
  {
   "cell_type": "markdown",
   "id": "93b5b25b-d298-4c4e-84ee-63ca32d708c8",
   "metadata": {},
   "source": [
    "# Observation:- Total 11 unique year in \"Launched Year\" column."
   ]
  },
  {
   "cell_type": "code",
   "execution_count": 112,
   "id": "96df1655-f705-49ff-8b41-183631ad6038",
   "metadata": {},
   "outputs": [
    {
     "data": {
      "text/plain": [
       "0   2024-01-01\n",
       "Name: Launched Year, dtype: datetime64[ns]"
      ]
     },
     "execution_count": 112,
     "metadata": {},
     "output_type": "execute_result"
    }
   ],
   "source": [
    "df[\"Launched Year\"].mode()"
   ]
  },
  {
   "cell_type": "markdown",
   "id": "ed56f238-3f25-4273-b4d7-b322f73d591b",
   "metadata": {},
   "source": [
    "# Observation:- Mostly cell phone are launched in 2024 year"
   ]
  },
  {
   "cell_type": "code",
   "execution_count": 113,
   "id": "7e9b3619-fd5b-44ff-9937-482989f57ee5",
   "metadata": {},
   "outputs": [
    {
     "data": {
      "text/plain": [
       "Launched Year\n",
       "2024-01-01    292\n",
       "2023-01-01    182\n",
       "2022-01-01    149\n",
       "2021-01-01    109\n",
       "2020-01-01    101\n",
       "2019-01-01     46\n",
       "2018-01-01     21\n",
       "2025-01-01     12\n",
       "2017-01-01      9\n",
       "2016-01-01      5\n",
       "2014-01-01      2\n",
       "Name: count, dtype: int64"
      ]
     },
     "execution_count": 113,
     "metadata": {},
     "output_type": "execute_result"
    }
   ],
   "source": [
    "df[\"Launched Year\"].value_counts()"
   ]
  },
  {
   "cell_type": "code",
   "execution_count": 114,
   "id": "e3e5f9d4-afef-4a82-85a2-4700810ea968",
   "metadata": {},
   "outputs": [
    {
     "name": "stdout",
     "output_type": "stream",
     "text": [
      "<class 'pandas.core.frame.DataFrame'>\n",
      "Index: 928 entries, 0 to 929\n",
      "Data columns (total 15 columns):\n",
      " #   Column                           Non-Null Count  Dtype         \n",
      "---  ------                           --------------  -----         \n",
      " 0   Company Name                     928 non-null    object        \n",
      " 1   Model Name                       928 non-null    object        \n",
      " 2   Mobile Weight(in gram)           928 non-null    float64       \n",
      " 3   RAM(in GB)                       928 non-null    float64       \n",
      " 4   Front Camera                     928 non-null    object        \n",
      " 5   Back Camera                      928 non-null    object        \n",
      " 6   Processor                        928 non-null    object        \n",
      " 7   Battery Capacity(in mAh)         928 non-null    int32         \n",
      " 8   Screen Size                      928 non-null    object        \n",
      " 9   Launched Price(Pakistan) in PKR  928 non-null    int32         \n",
      " 10  Launched Price(India) in INR     928 non-null    int32         \n",
      " 11  Launched Price(China) in CNY     928 non-null    int32         \n",
      " 12  Launched Price(USA) in USD       928 non-null    float64       \n",
      " 13  Launched Price(Dubai) in AED     928 non-null    int32         \n",
      " 14  Launched Year                    928 non-null    datetime64[ns]\n",
      "dtypes: datetime64[ns](1), float64(3), int32(5), object(6)\n",
      "memory usage: 97.9+ KB\n"
     ]
    }
   ],
   "source": [
    "df.info()"
   ]
  },
  {
   "cell_type": "code",
   "execution_count": 115,
   "id": "cf1d6307-0aa2-471c-b278-cdc7d851f09f",
   "metadata": {},
   "outputs": [],
   "source": [
    "df.to_excel(\"Cleaned mobile data set.xlsx\")"
   ]
  },
  {
   "cell_type": "code",
   "execution_count": 116,
   "id": "c5a2ceac-1f7c-4ada-96c6-4f0f4ee88df1",
   "metadata": {},
   "outputs": [
    {
     "data": {
      "text/html": [
       "<div>\n",
       "<style scoped>\n",
       "    .dataframe tbody tr th:only-of-type {\n",
       "        vertical-align: middle;\n",
       "    }\n",
       "\n",
       "    .dataframe tbody tr th {\n",
       "        vertical-align: top;\n",
       "    }\n",
       "\n",
       "    .dataframe thead th {\n",
       "        text-align: right;\n",
       "    }\n",
       "</style>\n",
       "<table border=\"1\" class=\"dataframe\">\n",
       "  <thead>\n",
       "    <tr style=\"text-align: right;\">\n",
       "      <th></th>\n",
       "      <th>Company Name</th>\n",
       "      <th>Model Name</th>\n",
       "      <th>Mobile Weight(in gram)</th>\n",
       "      <th>RAM(in GB)</th>\n",
       "      <th>Front Camera</th>\n",
       "      <th>Back Camera</th>\n",
       "      <th>Processor</th>\n",
       "      <th>Battery Capacity(in mAh)</th>\n",
       "      <th>Screen Size</th>\n",
       "      <th>Launched Price(Pakistan) in PKR</th>\n",
       "      <th>Launched Price(India) in INR</th>\n",
       "      <th>Launched Price(China) in CNY</th>\n",
       "      <th>Launched Price(USA) in USD</th>\n",
       "      <th>Launched Price(Dubai) in AED</th>\n",
       "      <th>Launched Year</th>\n",
       "    </tr>\n",
       "  </thead>\n",
       "  <tbody>\n",
       "    <tr>\n",
       "      <th>0</th>\n",
       "      <td>Apple</td>\n",
       "      <td>iPhone 16 128GB</td>\n",
       "      <td>174.0</td>\n",
       "      <td>6.0</td>\n",
       "      <td>12MP</td>\n",
       "      <td>48MP</td>\n",
       "      <td>A17 Bionic</td>\n",
       "      <td>3600</td>\n",
       "      <td>6.1 inches</td>\n",
       "      <td>224999</td>\n",
       "      <td>79999</td>\n",
       "      <td>5799</td>\n",
       "      <td>799.0</td>\n",
       "      <td>2799</td>\n",
       "      <td>2024-01-01</td>\n",
       "    </tr>\n",
       "    <tr>\n",
       "      <th>1</th>\n",
       "      <td>Apple</td>\n",
       "      <td>iPhone 16 256GB</td>\n",
       "      <td>174.0</td>\n",
       "      <td>6.0</td>\n",
       "      <td>12MP</td>\n",
       "      <td>48MP</td>\n",
       "      <td>A17 Bionic</td>\n",
       "      <td>3600</td>\n",
       "      <td>6.1 inches</td>\n",
       "      <td>234999</td>\n",
       "      <td>84999</td>\n",
       "      <td>6099</td>\n",
       "      <td>849.0</td>\n",
       "      <td>2999</td>\n",
       "      <td>2024-01-01</td>\n",
       "    </tr>\n",
       "    <tr>\n",
       "      <th>2</th>\n",
       "      <td>Apple</td>\n",
       "      <td>iPhone 16 512GB</td>\n",
       "      <td>174.0</td>\n",
       "      <td>6.0</td>\n",
       "      <td>12MP</td>\n",
       "      <td>48MP</td>\n",
       "      <td>A17 Bionic</td>\n",
       "      <td>3600</td>\n",
       "      <td>6.1 inches</td>\n",
       "      <td>244999</td>\n",
       "      <td>89999</td>\n",
       "      <td>6499</td>\n",
       "      <td>899.0</td>\n",
       "      <td>3199</td>\n",
       "      <td>2024-01-01</td>\n",
       "    </tr>\n",
       "    <tr>\n",
       "      <th>3</th>\n",
       "      <td>Apple</td>\n",
       "      <td>iPhone 16 Plus 128GB</td>\n",
       "      <td>203.0</td>\n",
       "      <td>6.0</td>\n",
       "      <td>12MP</td>\n",
       "      <td>48MP</td>\n",
       "      <td>A17 Bionic</td>\n",
       "      <td>4200</td>\n",
       "      <td>6.7 inches</td>\n",
       "      <td>249999</td>\n",
       "      <td>89999</td>\n",
       "      <td>6199</td>\n",
       "      <td>899.0</td>\n",
       "      <td>3199</td>\n",
       "      <td>2024-01-01</td>\n",
       "    </tr>\n",
       "    <tr>\n",
       "      <th>4</th>\n",
       "      <td>Apple</td>\n",
       "      <td>iPhone 16 Plus 256GB</td>\n",
       "      <td>203.0</td>\n",
       "      <td>6.0</td>\n",
       "      <td>12MP</td>\n",
       "      <td>48MP</td>\n",
       "      <td>A17 Bionic</td>\n",
       "      <td>4200</td>\n",
       "      <td>6.7 inches</td>\n",
       "      <td>259999</td>\n",
       "      <td>94999</td>\n",
       "      <td>6499</td>\n",
       "      <td>949.0</td>\n",
       "      <td>3399</td>\n",
       "      <td>2024-01-01</td>\n",
       "    </tr>\n",
       "    <tr>\n",
       "      <th>...</th>\n",
       "      <td>...</td>\n",
       "      <td>...</td>\n",
       "      <td>...</td>\n",
       "      <td>...</td>\n",
       "      <td>...</td>\n",
       "      <td>...</td>\n",
       "      <td>...</td>\n",
       "      <td>...</td>\n",
       "      <td>...</td>\n",
       "      <td>...</td>\n",
       "      <td>...</td>\n",
       "      <td>...</td>\n",
       "      <td>...</td>\n",
       "      <td>...</td>\n",
       "      <td>...</td>\n",
       "    </tr>\n",
       "    <tr>\n",
       "      <th>925</th>\n",
       "      <td>POCO</td>\n",
       "      <td>Pad 5G 128GB</td>\n",
       "      <td>571.0</td>\n",
       "      <td>8.0</td>\n",
       "      <td>8MP</td>\n",
       "      <td>8MP</td>\n",
       "      <td>Snapdragon 7s Gen 2</td>\n",
       "      <td>10000</td>\n",
       "      <td>12.1 inches</td>\n",
       "      <td>66220</td>\n",
       "      <td>23999</td>\n",
       "      <td>2099</td>\n",
       "      <td>280.0</td>\n",
       "      <td>1029</td>\n",
       "      <td>2024-01-01</td>\n",
       "    </tr>\n",
       "    <tr>\n",
       "      <th>926</th>\n",
       "      <td>POCO</td>\n",
       "      <td>Pad 5G 256GB</td>\n",
       "      <td>571.0</td>\n",
       "      <td>8.0</td>\n",
       "      <td>8MP</td>\n",
       "      <td>8MP</td>\n",
       "      <td>Snapdragon 7s Gen 2</td>\n",
       "      <td>10000</td>\n",
       "      <td>12.1 inches</td>\n",
       "      <td>71220</td>\n",
       "      <td>25999</td>\n",
       "      <td>2299</td>\n",
       "      <td>300.0</td>\n",
       "      <td>1099</td>\n",
       "      <td>2024-01-01</td>\n",
       "    </tr>\n",
       "    <tr>\n",
       "      <th>927</th>\n",
       "      <td>Samsung</td>\n",
       "      <td>Galaxy Z Fold6 256GB</td>\n",
       "      <td>239.0</td>\n",
       "      <td>12.0</td>\n",
       "      <td>10MP, 4MP (UDC)</td>\n",
       "      <td>50MP</td>\n",
       "      <td>Snapdragon 8 Gen 3</td>\n",
       "      <td>4400</td>\n",
       "      <td>7.6 inches</td>\n",
       "      <td>604999</td>\n",
       "      <td>164999</td>\n",
       "      <td>13999</td>\n",
       "      <td>1899.0</td>\n",
       "      <td>7199</td>\n",
       "      <td>2024-01-01</td>\n",
       "    </tr>\n",
       "    <tr>\n",
       "      <th>928</th>\n",
       "      <td>Samsung</td>\n",
       "      <td>Galaxy Z Fold6 512GB</td>\n",
       "      <td>239.0</td>\n",
       "      <td>12.0</td>\n",
       "      <td>10MP, 4MP (UDC)</td>\n",
       "      <td>50MP</td>\n",
       "      <td>Snapdragon 8 Gen 3</td>\n",
       "      <td>4400</td>\n",
       "      <td>7.6 inches</td>\n",
       "      <td>544999</td>\n",
       "      <td>176999</td>\n",
       "      <td>15999</td>\n",
       "      <td>1719.0</td>\n",
       "      <td>7699</td>\n",
       "      <td>2024-01-01</td>\n",
       "    </tr>\n",
       "    <tr>\n",
       "      <th>929</th>\n",
       "      <td>Samsung</td>\n",
       "      <td>Galaxy Z Fold6 1TB</td>\n",
       "      <td>239.0</td>\n",
       "      <td>12.0</td>\n",
       "      <td>10MP, 4MP (UDC)</td>\n",
       "      <td>50MP</td>\n",
       "      <td>Snapdragon 8 Gen 3</td>\n",
       "      <td>4400</td>\n",
       "      <td>7.6 inches</td>\n",
       "      <td>84999</td>\n",
       "      <td>200999</td>\n",
       "      <td>17999</td>\n",
       "      <td>2259.0</td>\n",
       "      <td>8699</td>\n",
       "      <td>2024-01-01</td>\n",
       "    </tr>\n",
       "  </tbody>\n",
       "</table>\n",
       "<p>928 rows × 15 columns</p>\n",
       "</div>"
      ],
      "text/plain": [
       "    Company Name            Model Name  Mobile Weight(in gram)  RAM(in GB)  \\\n",
       "0          Apple       iPhone 16 128GB                   174.0         6.0   \n",
       "1          Apple       iPhone 16 256GB                   174.0         6.0   \n",
       "2          Apple       iPhone 16 512GB                   174.0         6.0   \n",
       "3          Apple  iPhone 16 Plus 128GB                   203.0         6.0   \n",
       "4          Apple  iPhone 16 Plus 256GB                   203.0         6.0   \n",
       "..           ...                   ...                     ...         ...   \n",
       "925         POCO          Pad 5G 128GB                   571.0         8.0   \n",
       "926         POCO          Pad 5G 256GB                   571.0         8.0   \n",
       "927      Samsung  Galaxy Z Fold6 256GB                   239.0        12.0   \n",
       "928      Samsung  Galaxy Z Fold6 512GB                   239.0        12.0   \n",
       "929      Samsung    Galaxy Z Fold6 1TB                   239.0        12.0   \n",
       "\n",
       "        Front Camera Back Camera            Processor  \\\n",
       "0               12MP        48MP           A17 Bionic   \n",
       "1               12MP        48MP           A17 Bionic   \n",
       "2               12MP        48MP           A17 Bionic   \n",
       "3               12MP        48MP           A17 Bionic   \n",
       "4               12MP        48MP           A17 Bionic   \n",
       "..               ...         ...                  ...   \n",
       "925              8MP         8MP  Snapdragon 7s Gen 2   \n",
       "926              8MP         8MP  Snapdragon 7s Gen 2   \n",
       "927  10MP, 4MP (UDC)        50MP   Snapdragon 8 Gen 3   \n",
       "928  10MP, 4MP (UDC)        50MP   Snapdragon 8 Gen 3   \n",
       "929  10MP, 4MP (UDC)        50MP   Snapdragon 8 Gen 3   \n",
       "\n",
       "     Battery Capacity(in mAh)  Screen Size  Launched Price(Pakistan) in PKR  \\\n",
       "0                        3600   6.1 inches                           224999   \n",
       "1                        3600   6.1 inches                           234999   \n",
       "2                        3600   6.1 inches                           244999   \n",
       "3                        4200   6.7 inches                           249999   \n",
       "4                        4200   6.7 inches                           259999   \n",
       "..                        ...          ...                              ...   \n",
       "925                     10000  12.1 inches                            66220   \n",
       "926                     10000  12.1 inches                            71220   \n",
       "927                      4400   7.6 inches                           604999   \n",
       "928                      4400   7.6 inches                           544999   \n",
       "929                      4400   7.6 inches                            84999   \n",
       "\n",
       "     Launched Price(India) in INR  Launched Price(China) in CNY  \\\n",
       "0                           79999                          5799   \n",
       "1                           84999                          6099   \n",
       "2                           89999                          6499   \n",
       "3                           89999                          6199   \n",
       "4                           94999                          6499   \n",
       "..                            ...                           ...   \n",
       "925                         23999                          2099   \n",
       "926                         25999                          2299   \n",
       "927                        164999                         13999   \n",
       "928                        176999                         15999   \n",
       "929                        200999                         17999   \n",
       "\n",
       "     Launched Price(USA) in USD  Launched Price(Dubai) in AED Launched Year  \n",
       "0                         799.0                          2799    2024-01-01  \n",
       "1                         849.0                          2999    2024-01-01  \n",
       "2                         899.0                          3199    2024-01-01  \n",
       "3                         899.0                          3199    2024-01-01  \n",
       "4                         949.0                          3399    2024-01-01  \n",
       "..                          ...                           ...           ...  \n",
       "925                       280.0                          1029    2024-01-01  \n",
       "926                       300.0                          1099    2024-01-01  \n",
       "927                      1899.0                          7199    2024-01-01  \n",
       "928                      1719.0                          7699    2024-01-01  \n",
       "929                      2259.0                          8699    2024-01-01  \n",
       "\n",
       "[928 rows x 15 columns]"
      ]
     },
     "execution_count": 116,
     "metadata": {},
     "output_type": "execute_result"
    }
   ],
   "source": [
    "df"
   ]
  },
  {
   "cell_type": "code",
   "execution_count": 118,
   "id": "e357d4e9-fc73-4e85-8d46-efbc984a2e94",
   "metadata": {},
   "outputs": [
    {
     "data": {
      "text/plain": [
       "Screen Size\n",
       "6.7 inches               124\n",
       "6.5 inches                76\n",
       "6.67 inches               68\n",
       "6.6 inches                64\n",
       "6.78 inches               61\n",
       "                        ... \n",
       "8.0 inches (unfolded)      1\n",
       "7.8 inches (unfolded)      1\n",
       "5.0 inches                 1\n",
       "7.93 inches                1\n",
       "6.79 inches                1\n",
       "Name: count, Length: 97, dtype: int64"
      ]
     },
     "execution_count": 118,
     "metadata": {},
     "output_type": "execute_result"
    }
   ],
   "source": [
    "df['Screen Size'].value_counts()"
   ]
  },
  {
   "cell_type": "code",
   "execution_count": 119,
   "id": "771af230-60dc-4c3c-9f47-8a21edfae4e3",
   "metadata": {},
   "outputs": [
    {
     "data": {
      "text/plain": [
       "array(['6.1 inches', '6.7 inches', '5.4 inches', '5.8 inches',\n",
       "       '6.5 inches', '10.9 inches', '10.2 inches', '7.9 inches',\n",
       "       '11 inches', '12.9 inches', '13 inches', '6.8 inches',\n",
       "       '6.6 inches', '7.6 inches', '6.4 inches', '6.9 inches',\n",
       "       '6.3 inches', '5.3 inches', '6.0 inches', '5.5 inches',\n",
       "       '5.7 inches', '5.2 inches', '14.6 inches', '12.4 inches',\n",
       "       '8.7 inches', '10.5 inches', '8 inches', '10.1 inches',\n",
       "       '6.74 inches', '6.72 inches', '7.8 inches', '6.55 inches',\n",
       "       '6.43 inches', '6.49 inches', '6.52 inches', '6.78 inches',\n",
       "       '6.59 inches', '6.44 inches', '6.41 inches', '6.01 inches',\n",
       "       '6.67 inches', '6.28 inches', '11.61 inches', '6.31 inches',\n",
       "       '6.58 inches', '6.38 inches', '6.56 inches', '5.88 inches',\n",
       "       '6.22 inches', '5.0 inches', '6.51 inches', '6.35 inches',\n",
       "       '6.53 inches', '6.39 inches', '6.47 inches', '10.4 inches',\n",
       "       '12.3 inches', '7.82 inches', '6.83 inches', '11.6 inches',\n",
       "       '12.1 inches', '6.82 inches', '7.1 inches', '11.5 inches',\n",
       "       '6.73 inches', '6.36 inches', '6.09 inches',\n",
       "       '6.7 inches (main), 2.7 inches (external)',\n",
       "       '6.9 inches (internal), 4.0 inches (external)',\n",
       "       '6.7 inches (internal), 3.6 inches (external)',\n",
       "       '6.9 inches (unfolded)', '8.0 inches (unfolded)', '6.57 inches',\n",
       "       '7.8 inches (unfolded)', '7.85 inches (unfolded)', '7.93 inches',\n",
       "       '7.92 inches', '12.2 inches', '13.2 inches', '5.6 inches',\n",
       "       '6.2 inches', '6.34 inches', '6.71 inches', '7.85 inches',\n",
       "       '9.7 inches', '11.0 inches', '6.95 inches', '6.85 inches',\n",
       "       '6.63 inches', '7.09 inches', '6.81 inches', '6.76 inches',\n",
       "       '12.0 inches', '12.6 inches', '13.0 inches', '13.5 inches',\n",
       "       '6.79 inches'], dtype=object)"
      ]
     },
     "execution_count": 119,
     "metadata": {},
     "output_type": "execute_result"
    }
   ],
   "source": [
    "df['Screen Size'].unique()"
   ]
  },
  {
   "cell_type": "code",
   "execution_count": null,
   "id": "25ec182c-ce68-4107-9bb1-66a0dea0dd50",
   "metadata": {},
   "outputs": [],
   "source": []
  }
 ],
 "metadata": {
  "kernelspec": {
   "display_name": "Python 3 (ipykernel)",
   "language": "python",
   "name": "python3"
  },
  "language_info": {
   "codemirror_mode": {
    "name": "ipython",
    "version": 3
   },
   "file_extension": ".py",
   "mimetype": "text/x-python",
   "name": "python",
   "nbconvert_exporter": "python",
   "pygments_lexer": "ipython3",
   "version": "3.12.7"
  }
 },
 "nbformat": 4,
 "nbformat_minor": 5
}
